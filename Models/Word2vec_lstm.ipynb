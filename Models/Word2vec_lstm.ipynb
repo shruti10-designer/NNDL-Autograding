{
  "nbformat": 4,
  "nbformat_minor": 0,
  "metadata": {
    "colab": {
      "provenance": []
    },
    "kernelspec": {
      "name": "python3",
      "display_name": "Python 3"
    },
    "language_info": {
      "name": "python"
    }
  },
  "cells": [
    {
      "cell_type": "code",
      "execution_count": 4,
      "metadata": {
        "id": "K9TUkpkpGEcM"
      },
      "outputs": [],
      "source": [
        "from sklearn.metrics import mean_squared_error, mean_absolute_error, r2_score, mean_absolute_percentage_error\n",
        "from math import sqrt\n",
        "import pandas as pd\n",
        "import tensorflow as tf\n",
        "import numpy as np\n",
        "from sklearn.model_selection import train_test_split\n",
        "from sklearn.metrics import mean_squared_error, mean_absolute_error, r2_score\n",
        "from tensorflow.keras.callbacks import EarlyStopping\n",
        "from gensim.models import Word2Vec\n",
        "from tensorflow.keras.preprocessing.sequence import pad_sequences"
      ]
    },
    {
      "cell_type": "code",
      "source": [
        "code = pd.read_excel(r\"/content/NNDL.xlsx\")\n",
        "code"
      ],
      "metadata": {
        "id": "jwa9G1qHGFIL",
        "colab": {
          "base_uri": "https://localhost:8080/",
          "height": 1000
        },
        "outputId": "8ffe7c2f-ead0-4146-f0ea-15c24f820d55"
      },
      "execution_count": 5,
      "outputs": [
        {
          "output_type": "execute_result",
          "data": {
            "text/plain": [
              "                               Question  \\\n",
              "0           Largest among three numbers   \n",
              "1           Largest among three numbers   \n",
              "2           Largest among three numbers   \n",
              "3           Largest among three numbers   \n",
              "4           Largest among three numbers   \n",
              "..                                  ...   \n",
              "114  Calculate the roots of an equation   \n",
              "115  Calculate the roots of an equation   \n",
              "116  Calculate the roots of an equation   \n",
              "117  Calculate the roots of an equation   \n",
              "118  Calculate the roots of an equation   \n",
              "\n",
              "                                          Correct_Code  \\\n",
              "0    #include <stdio.h>\\n\\nint main() {\\n\\ndouble n...   \n",
              "1    #include <stdio.h>\\n\\nint main() {\\n\\ndouble n...   \n",
              "2    #include <stdio.h>\\n\\nint main() {\\n\\ndouble n...   \n",
              "3    #include <stdio.h>\\n\\nint main() {\\n\\ndouble n...   \n",
              "4    #include <stdio.h>\\n\\nint main() {\\n\\ndouble n...   \n",
              "..                                                 ...   \n",
              "114  #include<stdio.h>\\n#include<math.h>\\nint main(...   \n",
              "115  #include<stdio.h>\\n#include<math.h>\\nint main(...   \n",
              "116  #include<stdio.h>\\n#include<math.h>\\nint main(...   \n",
              "117  #include<stdio.h>\\n#include<math.h>\\nint main(...   \n",
              "118  #include<stdio.h>\\n#include<math.h>\\nint main(...   \n",
              "\n",
              "                                       Code_with_Error Type_of_Error  \\\n",
              "0    #include <stdio.h>\\n\\nint main() \\n\\ndouble n1...         1c,1e   \n",
              "1    #include <stdio.h>\\n\\nint main\\n\\ndouble n1, n...      1c,1e,1d   \n",
              "2    #include <stdio.h>\\n\\nint main() {\\n\\ndouble n...         1b,1e   \n",
              "3    #include <stdio.h>\\n\\nint main() {\\n\\ndouble n...            1e   \n",
              "4    #include <stdio.h>\\n\\nint main() {\\n\\ndouble n...            2b   \n",
              "..                                                 ...           ...   \n",
              "114  #include<stdio.h>\\n#include<math.h>\\nint main(...            2a   \n",
              "115  #include<stdio.h>\\n#include<math.h>\\nint mian(...         1a,1c   \n",
              "116  #include<stdio.h>\\n#include<math.h>\\nint main(...            3a   \n",
              "117  #include<stdio.h>\\n#include<math.h>\\nint min()...      1a,1e,2a   \n",
              "118  #include<stdio.h>\\n#include<math.h>\\nint mian(...            3a   \n",
              "\n",
              "     Number_of_Loops  Header_and_Main_Declaration  Incomprehensible_Code  \\\n",
              "0                  0                            2                    2.0   \n",
              "1                  0                            0                    2.0   \n",
              "2                  0                            2                    2.0   \n",
              "3                  0                            2                    2.0   \n",
              "4                  0                            2                    2.0   \n",
              "..               ...                          ...                    ...   \n",
              "114                0                            2                    2.0   \n",
              "115                0                            2                    2.0   \n",
              "116                0                            2                    2.0   \n",
              "117                0                            1                    1.0   \n",
              "118                0                            2                    2.0   \n",
              "\n",
              "     Comprehensible_Code_with_logical_errors  \\\n",
              "0                                          2   \n",
              "1                                          2   \n",
              "2                                          0   \n",
              "3                                          2   \n",
              "4                                          0   \n",
              "..                                       ...   \n",
              "114                                        1   \n",
              "115                                        2   \n",
              "116                                        2   \n",
              "117                                        1   \n",
              "118                                        1   \n",
              "\n",
              "     Comprehensible_code_with_syntax_errors  Correct_code_and_output  \\\n",
              "0                                         0                        0   \n",
              "1                                         0                        0   \n",
              "2                                         1                        0   \n",
              "3                                         1                        0   \n",
              "4                                         2                        0   \n",
              "..                                      ...                      ...   \n",
              "114                                       2                        2   \n",
              "115                                       0                        0   \n",
              "116                                       2                        2   \n",
              "117                                       0                        0   \n",
              "118                                       0                        0   \n",
              "\n",
              "     Total_marks  \n",
              "0              6  \n",
              "1              4  \n",
              "2              5  \n",
              "3              7  \n",
              "4              6  \n",
              "..           ...  \n",
              "114            9  \n",
              "115            6  \n",
              "116           10  \n",
              "117            3  \n",
              "118            5  \n",
              "\n",
              "[119 rows x 11 columns]"
            ],
            "text/html": [
              "\n",
              "  <div id=\"df-398262a5-6335-487d-a9a3-07b672210694\">\n",
              "    <div class=\"colab-df-container\">\n",
              "      <div>\n",
              "<style scoped>\n",
              "    .dataframe tbody tr th:only-of-type {\n",
              "        vertical-align: middle;\n",
              "    }\n",
              "\n",
              "    .dataframe tbody tr th {\n",
              "        vertical-align: top;\n",
              "    }\n",
              "\n",
              "    .dataframe thead th {\n",
              "        text-align: right;\n",
              "    }\n",
              "</style>\n",
              "<table border=\"1\" class=\"dataframe\">\n",
              "  <thead>\n",
              "    <tr style=\"text-align: right;\">\n",
              "      <th></th>\n",
              "      <th>Question</th>\n",
              "      <th>Correct_Code</th>\n",
              "      <th>Code_with_Error</th>\n",
              "      <th>Type_of_Error</th>\n",
              "      <th>Number_of_Loops</th>\n",
              "      <th>Header_and_Main_Declaration</th>\n",
              "      <th>Incomprehensible_Code</th>\n",
              "      <th>Comprehensible_Code_with_logical_errors</th>\n",
              "      <th>Comprehensible_code_with_syntax_errors</th>\n",
              "      <th>Correct_code_and_output</th>\n",
              "      <th>Total_marks</th>\n",
              "    </tr>\n",
              "  </thead>\n",
              "  <tbody>\n",
              "    <tr>\n",
              "      <th>0</th>\n",
              "      <td>Largest among three numbers</td>\n",
              "      <td>#include &lt;stdio.h&gt;\\n\\nint main() {\\n\\ndouble n...</td>\n",
              "      <td>#include &lt;stdio.h&gt;\\n\\nint main() \\n\\ndouble n1...</td>\n",
              "      <td>1c,1e</td>\n",
              "      <td>0</td>\n",
              "      <td>2</td>\n",
              "      <td>2.0</td>\n",
              "      <td>2</td>\n",
              "      <td>0</td>\n",
              "      <td>0</td>\n",
              "      <td>6</td>\n",
              "    </tr>\n",
              "    <tr>\n",
              "      <th>1</th>\n",
              "      <td>Largest among three numbers</td>\n",
              "      <td>#include &lt;stdio.h&gt;\\n\\nint main() {\\n\\ndouble n...</td>\n",
              "      <td>#include &lt;stdio.h&gt;\\n\\nint main\\n\\ndouble n1, n...</td>\n",
              "      <td>1c,1e,1d</td>\n",
              "      <td>0</td>\n",
              "      <td>0</td>\n",
              "      <td>2.0</td>\n",
              "      <td>2</td>\n",
              "      <td>0</td>\n",
              "      <td>0</td>\n",
              "      <td>4</td>\n",
              "    </tr>\n",
              "    <tr>\n",
              "      <th>2</th>\n",
              "      <td>Largest among three numbers</td>\n",
              "      <td>#include &lt;stdio.h&gt;\\n\\nint main() {\\n\\ndouble n...</td>\n",
              "      <td>#include &lt;stdio.h&gt;\\n\\nint main() {\\n\\ndouble n...</td>\n",
              "      <td>1b,1e</td>\n",
              "      <td>0</td>\n",
              "      <td>2</td>\n",
              "      <td>2.0</td>\n",
              "      <td>0</td>\n",
              "      <td>1</td>\n",
              "      <td>0</td>\n",
              "      <td>5</td>\n",
              "    </tr>\n",
              "    <tr>\n",
              "      <th>3</th>\n",
              "      <td>Largest among three numbers</td>\n",
              "      <td>#include &lt;stdio.h&gt;\\n\\nint main() {\\n\\ndouble n...</td>\n",
              "      <td>#include &lt;stdio.h&gt;\\n\\nint main() {\\n\\ndouble n...</td>\n",
              "      <td>1e</td>\n",
              "      <td>0</td>\n",
              "      <td>2</td>\n",
              "      <td>2.0</td>\n",
              "      <td>2</td>\n",
              "      <td>1</td>\n",
              "      <td>0</td>\n",
              "      <td>7</td>\n",
              "    </tr>\n",
              "    <tr>\n",
              "      <th>4</th>\n",
              "      <td>Largest among three numbers</td>\n",
              "      <td>#include &lt;stdio.h&gt;\\n\\nint main() {\\n\\ndouble n...</td>\n",
              "      <td>#include &lt;stdio.h&gt;\\n\\nint main() {\\n\\ndouble n...</td>\n",
              "      <td>2b</td>\n",
              "      <td>0</td>\n",
              "      <td>2</td>\n",
              "      <td>2.0</td>\n",
              "      <td>0</td>\n",
              "      <td>2</td>\n",
              "      <td>0</td>\n",
              "      <td>6</td>\n",
              "    </tr>\n",
              "    <tr>\n",
              "      <th>...</th>\n",
              "      <td>...</td>\n",
              "      <td>...</td>\n",
              "      <td>...</td>\n",
              "      <td>...</td>\n",
              "      <td>...</td>\n",
              "      <td>...</td>\n",
              "      <td>...</td>\n",
              "      <td>...</td>\n",
              "      <td>...</td>\n",
              "      <td>...</td>\n",
              "      <td>...</td>\n",
              "    </tr>\n",
              "    <tr>\n",
              "      <th>114</th>\n",
              "      <td>Calculate the roots of an equation</td>\n",
              "      <td>#include&lt;stdio.h&gt;\\n#include&lt;math.h&gt;\\nint main(...</td>\n",
              "      <td>#include&lt;stdio.h&gt;\\n#include&lt;math.h&gt;\\nint main(...</td>\n",
              "      <td>2a</td>\n",
              "      <td>0</td>\n",
              "      <td>2</td>\n",
              "      <td>2.0</td>\n",
              "      <td>1</td>\n",
              "      <td>2</td>\n",
              "      <td>2</td>\n",
              "      <td>9</td>\n",
              "    </tr>\n",
              "    <tr>\n",
              "      <th>115</th>\n",
              "      <td>Calculate the roots of an equation</td>\n",
              "      <td>#include&lt;stdio.h&gt;\\n#include&lt;math.h&gt;\\nint main(...</td>\n",
              "      <td>#include&lt;stdio.h&gt;\\n#include&lt;math.h&gt;\\nint mian(...</td>\n",
              "      <td>1a,1c</td>\n",
              "      <td>0</td>\n",
              "      <td>2</td>\n",
              "      <td>2.0</td>\n",
              "      <td>2</td>\n",
              "      <td>0</td>\n",
              "      <td>0</td>\n",
              "      <td>6</td>\n",
              "    </tr>\n",
              "    <tr>\n",
              "      <th>116</th>\n",
              "      <td>Calculate the roots of an equation</td>\n",
              "      <td>#include&lt;stdio.h&gt;\\n#include&lt;math.h&gt;\\nint main(...</td>\n",
              "      <td>#include&lt;stdio.h&gt;\\n#include&lt;math.h&gt;\\nint main(...</td>\n",
              "      <td>3a</td>\n",
              "      <td>0</td>\n",
              "      <td>2</td>\n",
              "      <td>2.0</td>\n",
              "      <td>2</td>\n",
              "      <td>2</td>\n",
              "      <td>2</td>\n",
              "      <td>10</td>\n",
              "    </tr>\n",
              "    <tr>\n",
              "      <th>117</th>\n",
              "      <td>Calculate the roots of an equation</td>\n",
              "      <td>#include&lt;stdio.h&gt;\\n#include&lt;math.h&gt;\\nint main(...</td>\n",
              "      <td>#include&lt;stdio.h&gt;\\n#include&lt;math.h&gt;\\nint min()...</td>\n",
              "      <td>1a,1e,2a</td>\n",
              "      <td>0</td>\n",
              "      <td>1</td>\n",
              "      <td>1.0</td>\n",
              "      <td>1</td>\n",
              "      <td>0</td>\n",
              "      <td>0</td>\n",
              "      <td>3</td>\n",
              "    </tr>\n",
              "    <tr>\n",
              "      <th>118</th>\n",
              "      <td>Calculate the roots of an equation</td>\n",
              "      <td>#include&lt;stdio.h&gt;\\n#include&lt;math.h&gt;\\nint main(...</td>\n",
              "      <td>#include&lt;stdio.h&gt;\\n#include&lt;math.h&gt;\\nint mian(...</td>\n",
              "      <td>3a</td>\n",
              "      <td>0</td>\n",
              "      <td>2</td>\n",
              "      <td>2.0</td>\n",
              "      <td>1</td>\n",
              "      <td>0</td>\n",
              "      <td>0</td>\n",
              "      <td>5</td>\n",
              "    </tr>\n",
              "  </tbody>\n",
              "</table>\n",
              "<p>119 rows × 11 columns</p>\n",
              "</div>\n",
              "      <button class=\"colab-df-convert\" onclick=\"convertToInteractive('df-398262a5-6335-487d-a9a3-07b672210694')\"\n",
              "              title=\"Convert this dataframe to an interactive table.\"\n",
              "              style=\"display:none;\">\n",
              "        \n",
              "  <svg xmlns=\"http://www.w3.org/2000/svg\" height=\"24px\"viewBox=\"0 0 24 24\"\n",
              "       width=\"24px\">\n",
              "    <path d=\"M0 0h24v24H0V0z\" fill=\"none\"/>\n",
              "    <path d=\"M18.56 5.44l.94 2.06.94-2.06 2.06-.94-2.06-.94-.94-2.06-.94 2.06-2.06.94zm-11 1L8.5 8.5l.94-2.06 2.06-.94-2.06-.94L8.5 2.5l-.94 2.06-2.06.94zm10 10l.94 2.06.94-2.06 2.06-.94-2.06-.94-.94-2.06-.94 2.06-2.06.94z\"/><path d=\"M17.41 7.96l-1.37-1.37c-.4-.4-.92-.59-1.43-.59-.52 0-1.04.2-1.43.59L10.3 9.45l-7.72 7.72c-.78.78-.78 2.05 0 2.83L4 21.41c.39.39.9.59 1.41.59.51 0 1.02-.2 1.41-.59l7.78-7.78 2.81-2.81c.8-.78.8-2.07 0-2.86zM5.41 20L4 18.59l7.72-7.72 1.47 1.35L5.41 20z\"/>\n",
              "  </svg>\n",
              "      </button>\n",
              "      \n",
              "  <style>\n",
              "    .colab-df-container {\n",
              "      display:flex;\n",
              "      flex-wrap:wrap;\n",
              "      gap: 12px;\n",
              "    }\n",
              "\n",
              "    .colab-df-convert {\n",
              "      background-color: #E8F0FE;\n",
              "      border: none;\n",
              "      border-radius: 50%;\n",
              "      cursor: pointer;\n",
              "      display: none;\n",
              "      fill: #1967D2;\n",
              "      height: 32px;\n",
              "      padding: 0 0 0 0;\n",
              "      width: 32px;\n",
              "    }\n",
              "\n",
              "    .colab-df-convert:hover {\n",
              "      background-color: #E2EBFA;\n",
              "      box-shadow: 0px 1px 2px rgba(60, 64, 67, 0.3), 0px 1px 3px 1px rgba(60, 64, 67, 0.15);\n",
              "      fill: #174EA6;\n",
              "    }\n",
              "\n",
              "    [theme=dark] .colab-df-convert {\n",
              "      background-color: #3B4455;\n",
              "      fill: #D2E3FC;\n",
              "    }\n",
              "\n",
              "    [theme=dark] .colab-df-convert:hover {\n",
              "      background-color: #434B5C;\n",
              "      box-shadow: 0px 1px 3px 1px rgba(0, 0, 0, 0.15);\n",
              "      filter: drop-shadow(0px 1px 2px rgba(0, 0, 0, 0.3));\n",
              "      fill: #FFFFFF;\n",
              "    }\n",
              "  </style>\n",
              "\n",
              "      <script>\n",
              "        const buttonEl =\n",
              "          document.querySelector('#df-398262a5-6335-487d-a9a3-07b672210694 button.colab-df-convert');\n",
              "        buttonEl.style.display =\n",
              "          google.colab.kernel.accessAllowed ? 'block' : 'none';\n",
              "\n",
              "        async function convertToInteractive(key) {\n",
              "          const element = document.querySelector('#df-398262a5-6335-487d-a9a3-07b672210694');\n",
              "          const dataTable =\n",
              "            await google.colab.kernel.invokeFunction('convertToInteractive',\n",
              "                                                     [key], {});\n",
              "          if (!dataTable) return;\n",
              "\n",
              "          const docLinkHtml = 'Like what you see? Visit the ' +\n",
              "            '<a target=\"_blank\" href=https://colab.research.google.com/notebooks/data_table.ipynb>data table notebook</a>'\n",
              "            + ' to learn more about interactive tables.';\n",
              "          element.innerHTML = '';\n",
              "          dataTable['output_type'] = 'display_data';\n",
              "          await google.colab.output.renderOutput(dataTable, element);\n",
              "          const docLink = document.createElement('div');\n",
              "          docLink.innerHTML = docLinkHtml;\n",
              "          element.appendChild(docLink);\n",
              "        }\n",
              "      </script>\n",
              "    </div>\n",
              "  </div>\n",
              "  "
            ]
          },
          "metadata": {},
          "execution_count": 5
        }
      ]
    },
    {
      "cell_type": "code",
      "source": [
        "# Merge columns\n",
        "merged_data = code['Question'] + ' ' + code['Code_with_Error']\n",
        "merged_data"
      ],
      "metadata": {
        "id": "1HPzoyn4HKrK",
        "colab": {
          "base_uri": "https://localhost:8080/"
        },
        "outputId": "caebb246-7a1a-47b9-d19d-c0cbc4cc0af8"
      },
      "execution_count": 6,
      "outputs": [
        {
          "output_type": "execute_result",
          "data": {
            "text/plain": [
              "0      Largest among three numbers #include <stdio.h>...\n",
              "1      Largest among three numbers #include <stdio.h>...\n",
              "2      Largest among three numbers #include <stdio.h>...\n",
              "3      Largest among three numbers #include <stdio.h>...\n",
              "4      Largest among three numbers #include <stdio.h>...\n",
              "                             ...                        \n",
              "114    Calculate the roots of an equation #include<st...\n",
              "115    Calculate the roots of an equation #include<st...\n",
              "116    Calculate the roots of an equation #include<st...\n",
              "117    Calculate the roots of an equation #include<st...\n",
              "118    Calculate the roots of an equation #include<st...\n",
              "Length: 119, dtype: object"
            ]
          },
          "metadata": {},
          "execution_count": 6
        }
      ]
    },
    {
      "cell_type": "code",
      "source": [
        "# Remove rows with missing values\n",
        "merged_data = merged_data.dropna()"
      ],
      "metadata": {
        "id": "AEYrSR5q9A1t"
      },
      "execution_count": 7,
      "outputs": []
    },
    {
      "cell_type": "code",
      "source": [
        "# Drop rows with missing values\n",
        "df_clean = code.dropna(subset=['Total_marks'])"
      ],
      "metadata": {
        "id": "bxaJ746q9_Nj"
      },
      "execution_count": 8,
      "outputs": []
    },
    {
      "cell_type": "code",
      "source": [
        "# Tokenize the merged data\n",
        "tokenized_data = [sentence.split() for sentence in merged_data]"
      ],
      "metadata": {
        "id": "86Lm4hCQHUwg"
      },
      "execution_count": 9,
      "outputs": []
    },
    {
      "cell_type": "code",
      "source": [
        "# Train Word2Vec model\n",
        "w2v_model = Word2Vec(tokenized_data, vector_size=100, window=5, min_count=1, workers=4)"
      ],
      "metadata": {
        "id": "wK4wySfY8ZOf"
      },
      "execution_count": 10,
      "outputs": []
    },
    {
      "cell_type": "code",
      "source": [
        "# Convert tokens to vectors\n",
        "vectorized_data = []\n",
        "total_marks = []\n",
        "for sentence, marks in zip(tokenized_data, df_clean['Total_marks']):\n",
        "    vectors = []\n",
        "    for token in sentence:\n",
        "        if token in w2v_model.wv:\n",
        "            vectors.append(w2v_model.wv[token])\n",
        "        else:\n",
        "            vectors.append(np.zeros(100))\n",
        "    vectorized_data.append(vectors)\n",
        "    total_marks.append(marks)"
      ],
      "metadata": {
        "id": "UDc8sV_69GhP"
      },
      "execution_count": 11,
      "outputs": []
    },
    {
      "cell_type": "code",
      "source": [
        "vectorized_data = np.array(vectorized_data)\n",
        "total_marks = np.array(total_marks)"
      ],
      "metadata": {
        "colab": {
          "base_uri": "https://localhost:8080/"
        },
        "id": "EDlT9kSf-Lrq",
        "outputId": "2c784775-fde8-400c-e926-6e8d743ff67f"
      },
      "execution_count": 12,
      "outputs": [
        {
          "output_type": "stream",
          "name": "stderr",
          "text": [
            "<ipython-input-12-7480c13aae3a>:1: VisibleDeprecationWarning: Creating an ndarray from ragged nested sequences (which is a list-or-tuple of lists-or-tuples-or ndarrays with different lengths or shapes) is deprecated. If you meant to do this, you must specify 'dtype=object' when creating the ndarray.\n",
            "  vectorized_data = np.array(vectorized_data)\n"
          ]
        }
      ]
    },
    {
      "cell_type": "code",
      "source": [
        "# Split the dataset\n",
        "X_train, X_test, y_train, y_test = train_test_split(vectorized_data, total_marks, test_size=0.25, random_state=42)\n",
        "X_train, X_val, y_train, y_val = train_test_split(X_train, y_train, test_size=0.25, random_state=42)"
      ],
      "metadata": {
        "id": "CiNFGqo49cgJ"
      },
      "execution_count": 13,
      "outputs": []
    },
    {
      "cell_type": "code",
      "source": [
        "# Pad sequences to a fixed length\n",
        "max_sequence_length = 122\n",
        "X_train_pad = pad_sequences(X_train, maxlen=max_sequence_length, padding='post')\n",
        "X_test_pad = pad_sequences(X_test, maxlen=max_sequence_length, padding='post')\n",
        "X_val_pad = pad_sequences(X_val, maxlen=max_sequence_length, padding='post')"
      ],
      "metadata": {
        "id": "8oIgRi1O-9uM"
      },
      "execution_count": 14,
      "outputs": []
    },
    {
      "cell_type": "code",
      "source": [
        "# Define the LSTM model\n",
        "model = tf.keras.Sequential([\n",
        "    tf.keras.layers.Input(shape=(max_sequence_length, X_train_pad.shape[2])),\n",
        "    tf.keras.layers.LSTM(units=64),\n",
        "    tf.keras.layers.Dense(1)\n",
        "])"
      ],
      "metadata": {
        "id": "AsVL6YLm9jn3"
      },
      "execution_count": 15,
      "outputs": []
    },
    {
      "cell_type": "code",
      "source": [
        "# Compile the model\n",
        "model.compile(loss='mse', optimizer='adam')"
      ],
      "metadata": {
        "id": "2WZX_XN19lho"
      },
      "execution_count": 16,
      "outputs": []
    },
    {
      "cell_type": "code",
      "source": [
        "\n",
        "# Define early stopping\n",
        "early_stopping = EarlyStopping(monitor='val_loss', patience=5)\n",
        "\n",
        "# Train the model\n",
        "model.fit(X_train_pad, y_train, validation_data=(X_val_pad, y_val), epochs=50, batch_size=64, callbacks=[early_stopping])"
      ],
      "metadata": {
        "colab": {
          "base_uri": "https://localhost:8080/"
        },
        "id": "7PrJyUwi9mDA",
        "outputId": "5834383b-d9b5-4a52-fb46-270549b4a893"
      },
      "execution_count": 36,
      "outputs": [
        {
          "output_type": "stream",
          "name": "stdout",
          "text": [
            "Epoch 1/50\n",
            "2/2 [==============================] - 0s 126ms/step - loss: 5.5653 - val_loss: 7.9422\n",
            "Epoch 2/50\n",
            "2/2 [==============================] - 0s 87ms/step - loss: 5.6550 - val_loss: 8.0088\n",
            "Epoch 3/50\n",
            "2/2 [==============================] - 0s 99ms/step - loss: 5.6972 - val_loss: 8.0134\n",
            "Epoch 4/50\n",
            "2/2 [==============================] - 0s 110ms/step - loss: 5.7002 - val_loss: 7.9828\n",
            "Epoch 5/50\n",
            "2/2 [==============================] - 0s 86ms/step - loss: 5.6794 - val_loss: 7.9290\n",
            "Epoch 6/50\n",
            "2/2 [==============================] - 0s 95ms/step - loss: 5.6411 - val_loss: 7.8949\n",
            "Epoch 7/50\n",
            "2/2 [==============================] - 0s 82ms/step - loss: 5.6157 - val_loss: 7.8437\n",
            "Epoch 8/50\n",
            "2/2 [==============================] - 0s 87ms/step - loss: 5.5770 - val_loss: 7.7355\n",
            "Epoch 9/50\n",
            "2/2 [==============================] - 0s 90ms/step - loss: 5.5028 - val_loss: 7.5973\n",
            "Epoch 10/50\n",
            "2/2 [==============================] - 0s 83ms/step - loss: 5.4423 - val_loss: 7.5079\n",
            "Epoch 11/50\n",
            "2/2 [==============================] - 0s 95ms/step - loss: 5.4023 - val_loss: 7.4699\n",
            "Epoch 12/50\n",
            "2/2 [==============================] - 0s 100ms/step - loss: 5.3991 - val_loss: 7.4573\n",
            "Epoch 13/50\n",
            "2/2 [==============================] - 0s 85ms/step - loss: 5.3980 - val_loss: 7.4562\n",
            "Epoch 14/50\n",
            "2/2 [==============================] - 0s 137ms/step - loss: 5.3982 - val_loss: 7.4580\n",
            "Epoch 15/50\n",
            "2/2 [==============================] - 0s 91ms/step - loss: 5.3973 - val_loss: 7.4690\n",
            "Epoch 16/50\n",
            "2/2 [==============================] - 0s 87ms/step - loss: 5.3929 - val_loss: 7.5026\n",
            "Epoch 17/50\n",
            "2/2 [==============================] - 0s 86ms/step - loss: 5.4041 - val_loss: 7.5387\n",
            "Epoch 18/50\n",
            "2/2 [==============================] - 0s 83ms/step - loss: 5.4100 - val_loss: 7.5520\n"
          ]
        },
        {
          "output_type": "execute_result",
          "data": {
            "text/plain": [
              "<keras.callbacks.History at 0x7f679676b340>"
            ]
          },
          "metadata": {},
          "execution_count": 36
        }
      ]
    },
    {
      "cell_type": "code",
      "source": [
        "# Convert sequences to a compatible format\n",
        "X_train_pred = pad_sequences(X_train, maxlen=max_sequence_length, padding='post')\n",
        "X_test_pred = pad_sequences(X_test, maxlen=max_sequence_length, padding='post')\n",
        "\n",
        "# Make predictions\n",
        "y_train_pred = model.predict(X_train_pred)\n",
        "y_test_pred = model.predict(X_test_pred)"
      ],
      "metadata": {
        "colab": {
          "base_uri": "https://localhost:8080/"
        },
        "id": "2jZ6Qqhh9pcw",
        "outputId": "45e7b1f6-0def-4e70-9afa-9b81e6dcebfa"
      },
      "execution_count": 37,
      "outputs": [
        {
          "output_type": "stream",
          "name": "stdout",
          "text": [
            "3/3 [==============================] - 0s 16ms/step\n",
            "1/1 [==============================] - 0s 42ms/step\n"
          ]
        }
      ]
    },
    {
      "cell_type": "code",
      "source": [
        "\n",
        "# Calculate evaluation metrics\n",
        "train_rmse = np.sqrt(mean_squared_error(y_train, y_train_pred))\n",
        "train_mae = mean_absolute_error(y_train, y_train_pred)\n",
        "train_mape = np.mean(np.abs((y_train - y_train_pred) / y_train)) * 100\n",
        "train_r2 = r2_score(y_train, y_train_pred)\n",
        "\n",
        "test_rmse = np.sqrt(mean_squared_error(y_test, y_test_pred))\n",
        "test_mae = mean_absolute_error(y_test, y_test_pred)\n",
        "test_mape = np.mean(np.abs((y_test - y_test_pred) / y_test)) * 100\n",
        "test_r2 = r2_score(y_test, y_test_pred)\n"
      ],
      "metadata": {
        "id": "644AiHyI9rQZ"
      },
      "execution_count": 38,
      "outputs": []
    },
    {
      "cell_type": "code",
      "source": [
        "# Print the evaluation metrics\n",
        "print(f\"Train RMSE: {train_rmse:.2f}\")\n",
        "print(f\"Train MAE: {train_mae:.2f}\")\n",
        "print(f\"Train MAPE: {train_mape:.2f}\")\n",
        "print(f\"Train R2: {train_r2:.2f}\")\n",
        "\n",
        "print(f\"Test RMSE: {test_rmse:.2f}\")\n",
        "print(f\"Test MAE: {test_mae:.2f}\")\n",
        "print(f\"Test MAPE: {test_mape:.2f}\")\n",
        "print(f\"Test R2: {test_r2:.2f}\")"
      ],
      "metadata": {
        "colab": {
          "base_uri": "https://localhost:8080/"
        },
        "id": "7c9svRvJ9ukk",
        "outputId": "2c73d30d-fceb-4154-9ca9-4a276c03a0c1"
      },
      "execution_count": 39,
      "outputs": [
        {
          "output_type": "stream",
          "name": "stdout",
          "text": [
            "Train RMSE: 2.33\n",
            "Train MAE: 1.92\n",
            "Train MAPE: 44.54\n",
            "Train R2: -0.00\n",
            "Test RMSE: 2.36\n",
            "Test MAE: 2.02\n",
            "Test MAPE: 42.77\n",
            "Test R2: -0.04\n"
          ]
        }
      ]
    },
    {
      "cell_type": "code",
      "source": [],
      "metadata": {
        "id": "ffmkmhH2AMpL"
      },
      "execution_count": null,
      "outputs": []
    }
  ]
}