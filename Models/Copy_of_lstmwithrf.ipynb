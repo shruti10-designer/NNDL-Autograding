{
  "nbformat": 4,
  "nbformat_minor": 0,
  "metadata": {
    "colab": {
      "provenance": []
    },
    "kernelspec": {
      "name": "python3",
      "display_name": "Python 3"
    },
    "language_info": {
      "name": "python"
    },
    "widgets": {
      "application/vnd.jupyter.widget-state+json": {
        "37bb6ce9a4b141e2870d9862193cc552": {
          "model_module": "@jupyter-widgets/controls",
          "model_name": "HBoxModel",
          "model_module_version": "1.5.0",
          "state": {
            "_dom_classes": [],
            "_model_module": "@jupyter-widgets/controls",
            "_model_module_version": "1.5.0",
            "_model_name": "HBoxModel",
            "_view_count": null,
            "_view_module": "@jupyter-widgets/controls",
            "_view_module_version": "1.5.0",
            "_view_name": "HBoxView",
            "box_style": "",
            "children": [
              "IPY_MODEL_a1cd746a9c964c59a0a94f02315d025b",
              "IPY_MODEL_9801c575ad814e43833627c0418b6baa",
              "IPY_MODEL_139bd22bed87437585d8f8a0131641f7"
            ],
            "layout": "IPY_MODEL_233ad9e55a144e3db998913f8ef9c91c"
          }
        },
        "a1cd746a9c964c59a0a94f02315d025b": {
          "model_module": "@jupyter-widgets/controls",
          "model_name": "HTMLModel",
          "model_module_version": "1.5.0",
          "state": {
            "_dom_classes": [],
            "_model_module": "@jupyter-widgets/controls",
            "_model_module_version": "1.5.0",
            "_model_name": "HTMLModel",
            "_view_count": null,
            "_view_module": "@jupyter-widgets/controls",
            "_view_module_version": "1.5.0",
            "_view_name": "HTMLView",
            "description": "",
            "description_tooltip": null,
            "layout": "IPY_MODEL_cb49b7e3c63f4ebc8788b73018516b10",
            "placeholder": "​",
            "style": "IPY_MODEL_2ea98061efd945a2b42080bcb286961f",
            "value": "Downloading (…)okenizer_config.json: 100%"
          }
        },
        "9801c575ad814e43833627c0418b6baa": {
          "model_module": "@jupyter-widgets/controls",
          "model_name": "FloatProgressModel",
          "model_module_version": "1.5.0",
          "state": {
            "_dom_classes": [],
            "_model_module": "@jupyter-widgets/controls",
            "_model_module_version": "1.5.0",
            "_model_name": "FloatProgressModel",
            "_view_count": null,
            "_view_module": "@jupyter-widgets/controls",
            "_view_module_version": "1.5.0",
            "_view_name": "ProgressView",
            "bar_style": "success",
            "description": "",
            "description_tooltip": null,
            "layout": "IPY_MODEL_fa861acabfd24142a00777eb16e852a1",
            "max": 25,
            "min": 0,
            "orientation": "horizontal",
            "style": "IPY_MODEL_51337629155f49fea0b7e9353e263ee5",
            "value": 25
          }
        },
        "139bd22bed87437585d8f8a0131641f7": {
          "model_module": "@jupyter-widgets/controls",
          "model_name": "HTMLModel",
          "model_module_version": "1.5.0",
          "state": {
            "_dom_classes": [],
            "_model_module": "@jupyter-widgets/controls",
            "_model_module_version": "1.5.0",
            "_model_name": "HTMLModel",
            "_view_count": null,
            "_view_module": "@jupyter-widgets/controls",
            "_view_module_version": "1.5.0",
            "_view_name": "HTMLView",
            "description": "",
            "description_tooltip": null,
            "layout": "IPY_MODEL_1cfbd4d31a38464587a07e9dc62f30f8",
            "placeholder": "​",
            "style": "IPY_MODEL_de49822756a54616a2465d41fc21dae4",
            "value": " 25.0/25.0 [00:00&lt;00:00, 351B/s]"
          }
        },
        "233ad9e55a144e3db998913f8ef9c91c": {
          "model_module": "@jupyter-widgets/base",
          "model_name": "LayoutModel",
          "model_module_version": "1.2.0",
          "state": {
            "_model_module": "@jupyter-widgets/base",
            "_model_module_version": "1.2.0",
            "_model_name": "LayoutModel",
            "_view_count": null,
            "_view_module": "@jupyter-widgets/base",
            "_view_module_version": "1.2.0",
            "_view_name": "LayoutView",
            "align_content": null,
            "align_items": null,
            "align_self": null,
            "border": null,
            "bottom": null,
            "display": null,
            "flex": null,
            "flex_flow": null,
            "grid_area": null,
            "grid_auto_columns": null,
            "grid_auto_flow": null,
            "grid_auto_rows": null,
            "grid_column": null,
            "grid_gap": null,
            "grid_row": null,
            "grid_template_areas": null,
            "grid_template_columns": null,
            "grid_template_rows": null,
            "height": null,
            "justify_content": null,
            "justify_items": null,
            "left": null,
            "margin": null,
            "max_height": null,
            "max_width": null,
            "min_height": null,
            "min_width": null,
            "object_fit": null,
            "object_position": null,
            "order": null,
            "overflow": null,
            "overflow_x": null,
            "overflow_y": null,
            "padding": null,
            "right": null,
            "top": null,
            "visibility": null,
            "width": null
          }
        },
        "cb49b7e3c63f4ebc8788b73018516b10": {
          "model_module": "@jupyter-widgets/base",
          "model_name": "LayoutModel",
          "model_module_version": "1.2.0",
          "state": {
            "_model_module": "@jupyter-widgets/base",
            "_model_module_version": "1.2.0",
            "_model_name": "LayoutModel",
            "_view_count": null,
            "_view_module": "@jupyter-widgets/base",
            "_view_module_version": "1.2.0",
            "_view_name": "LayoutView",
            "align_content": null,
            "align_items": null,
            "align_self": null,
            "border": null,
            "bottom": null,
            "display": null,
            "flex": null,
            "flex_flow": null,
            "grid_area": null,
            "grid_auto_columns": null,
            "grid_auto_flow": null,
            "grid_auto_rows": null,
            "grid_column": null,
            "grid_gap": null,
            "grid_row": null,
            "grid_template_areas": null,
            "grid_template_columns": null,
            "grid_template_rows": null,
            "height": null,
            "justify_content": null,
            "justify_items": null,
            "left": null,
            "margin": null,
            "max_height": null,
            "max_width": null,
            "min_height": null,
            "min_width": null,
            "object_fit": null,
            "object_position": null,
            "order": null,
            "overflow": null,
            "overflow_x": null,
            "overflow_y": null,
            "padding": null,
            "right": null,
            "top": null,
            "visibility": null,
            "width": null
          }
        },
        "2ea98061efd945a2b42080bcb286961f": {
          "model_module": "@jupyter-widgets/controls",
          "model_name": "DescriptionStyleModel",
          "model_module_version": "1.5.0",
          "state": {
            "_model_module": "@jupyter-widgets/controls",
            "_model_module_version": "1.5.0",
            "_model_name": "DescriptionStyleModel",
            "_view_count": null,
            "_view_module": "@jupyter-widgets/base",
            "_view_module_version": "1.2.0",
            "_view_name": "StyleView",
            "description_width": ""
          }
        },
        "fa861acabfd24142a00777eb16e852a1": {
          "model_module": "@jupyter-widgets/base",
          "model_name": "LayoutModel",
          "model_module_version": "1.2.0",
          "state": {
            "_model_module": "@jupyter-widgets/base",
            "_model_module_version": "1.2.0",
            "_model_name": "LayoutModel",
            "_view_count": null,
            "_view_module": "@jupyter-widgets/base",
            "_view_module_version": "1.2.0",
            "_view_name": "LayoutView",
            "align_content": null,
            "align_items": null,
            "align_self": null,
            "border": null,
            "bottom": null,
            "display": null,
            "flex": null,
            "flex_flow": null,
            "grid_area": null,
            "grid_auto_columns": null,
            "grid_auto_flow": null,
            "grid_auto_rows": null,
            "grid_column": null,
            "grid_gap": null,
            "grid_row": null,
            "grid_template_areas": null,
            "grid_template_columns": null,
            "grid_template_rows": null,
            "height": null,
            "justify_content": null,
            "justify_items": null,
            "left": null,
            "margin": null,
            "max_height": null,
            "max_width": null,
            "min_height": null,
            "min_width": null,
            "object_fit": null,
            "object_position": null,
            "order": null,
            "overflow": null,
            "overflow_x": null,
            "overflow_y": null,
            "padding": null,
            "right": null,
            "top": null,
            "visibility": null,
            "width": null
          }
        },
        "51337629155f49fea0b7e9353e263ee5": {
          "model_module": "@jupyter-widgets/controls",
          "model_name": "ProgressStyleModel",
          "model_module_version": "1.5.0",
          "state": {
            "_model_module": "@jupyter-widgets/controls",
            "_model_module_version": "1.5.0",
            "_model_name": "ProgressStyleModel",
            "_view_count": null,
            "_view_module": "@jupyter-widgets/base",
            "_view_module_version": "1.2.0",
            "_view_name": "StyleView",
            "bar_color": null,
            "description_width": ""
          }
        },
        "1cfbd4d31a38464587a07e9dc62f30f8": {
          "model_module": "@jupyter-widgets/base",
          "model_name": "LayoutModel",
          "model_module_version": "1.2.0",
          "state": {
            "_model_module": "@jupyter-widgets/base",
            "_model_module_version": "1.2.0",
            "_model_name": "LayoutModel",
            "_view_count": null,
            "_view_module": "@jupyter-widgets/base",
            "_view_module_version": "1.2.0",
            "_view_name": "LayoutView",
            "align_content": null,
            "align_items": null,
            "align_self": null,
            "border": null,
            "bottom": null,
            "display": null,
            "flex": null,
            "flex_flow": null,
            "grid_area": null,
            "grid_auto_columns": null,
            "grid_auto_flow": null,
            "grid_auto_rows": null,
            "grid_column": null,
            "grid_gap": null,
            "grid_row": null,
            "grid_template_areas": null,
            "grid_template_columns": null,
            "grid_template_rows": null,
            "height": null,
            "justify_content": null,
            "justify_items": null,
            "left": null,
            "margin": null,
            "max_height": null,
            "max_width": null,
            "min_height": null,
            "min_width": null,
            "object_fit": null,
            "object_position": null,
            "order": null,
            "overflow": null,
            "overflow_x": null,
            "overflow_y": null,
            "padding": null,
            "right": null,
            "top": null,
            "visibility": null,
            "width": null
          }
        },
        "de49822756a54616a2465d41fc21dae4": {
          "model_module": "@jupyter-widgets/controls",
          "model_name": "DescriptionStyleModel",
          "model_module_version": "1.5.0",
          "state": {
            "_model_module": "@jupyter-widgets/controls",
            "_model_module_version": "1.5.0",
            "_model_name": "DescriptionStyleModel",
            "_view_count": null,
            "_view_module": "@jupyter-widgets/base",
            "_view_module_version": "1.2.0",
            "_view_name": "StyleView",
            "description_width": ""
          }
        },
        "620e3c2d5b5f487295b5388d7e0cabcf": {
          "model_module": "@jupyter-widgets/controls",
          "model_name": "HBoxModel",
          "model_module_version": "1.5.0",
          "state": {
            "_dom_classes": [],
            "_model_module": "@jupyter-widgets/controls",
            "_model_module_version": "1.5.0",
            "_model_name": "HBoxModel",
            "_view_count": null,
            "_view_module": "@jupyter-widgets/controls",
            "_view_module_version": "1.5.0",
            "_view_name": "HBoxView",
            "box_style": "",
            "children": [
              "IPY_MODEL_c62b4b4674a94489a40cb5dae60d921a",
              "IPY_MODEL_b2e132b639db4e38b636feea9aaf8c90",
              "IPY_MODEL_d8d91bb539e441ad98ae23018d20548f"
            ],
            "layout": "IPY_MODEL_8ebd3bf43d684bf09ceb74b8b0175866"
          }
        },
        "c62b4b4674a94489a40cb5dae60d921a": {
          "model_module": "@jupyter-widgets/controls",
          "model_name": "HTMLModel",
          "model_module_version": "1.5.0",
          "state": {
            "_dom_classes": [],
            "_model_module": "@jupyter-widgets/controls",
            "_model_module_version": "1.5.0",
            "_model_name": "HTMLModel",
            "_view_count": null,
            "_view_module": "@jupyter-widgets/controls",
            "_view_module_version": "1.5.0",
            "_view_name": "HTMLView",
            "description": "",
            "description_tooltip": null,
            "layout": "IPY_MODEL_66347ec4d87d4326b956867cc5d0b000",
            "placeholder": "​",
            "style": "IPY_MODEL_f60e1ef884fd41f78645e48aeb9cd342",
            "value": "Downloading (…)lve/main/config.json: 100%"
          }
        },
        "b2e132b639db4e38b636feea9aaf8c90": {
          "model_module": "@jupyter-widgets/controls",
          "model_name": "FloatProgressModel",
          "model_module_version": "1.5.0",
          "state": {
            "_dom_classes": [],
            "_model_module": "@jupyter-widgets/controls",
            "_model_module_version": "1.5.0",
            "_model_name": "FloatProgressModel",
            "_view_count": null,
            "_view_module": "@jupyter-widgets/controls",
            "_view_module_version": "1.5.0",
            "_view_name": "ProgressView",
            "bar_style": "success",
            "description": "",
            "description_tooltip": null,
            "layout": "IPY_MODEL_20f2ce35343649568d8bbad1af6b7842",
            "max": 498,
            "min": 0,
            "orientation": "horizontal",
            "style": "IPY_MODEL_8020cc48d4634f30bf9f21d6370c0d13",
            "value": 498
          }
        },
        "d8d91bb539e441ad98ae23018d20548f": {
          "model_module": "@jupyter-widgets/controls",
          "model_name": "HTMLModel",
          "model_module_version": "1.5.0",
          "state": {
            "_dom_classes": [],
            "_model_module": "@jupyter-widgets/controls",
            "_model_module_version": "1.5.0",
            "_model_name": "HTMLModel",
            "_view_count": null,
            "_view_module": "@jupyter-widgets/controls",
            "_view_module_version": "1.5.0",
            "_view_name": "HTMLView",
            "description": "",
            "description_tooltip": null,
            "layout": "IPY_MODEL_7068f87de88242d59e8ce1738cd333c2",
            "placeholder": "​",
            "style": "IPY_MODEL_2c43461794ec40749de751eb363ebc7f",
            "value": " 498/498 [00:00&lt;00:00, 6.10kB/s]"
          }
        },
        "8ebd3bf43d684bf09ceb74b8b0175866": {
          "model_module": "@jupyter-widgets/base",
          "model_name": "LayoutModel",
          "model_module_version": "1.2.0",
          "state": {
            "_model_module": "@jupyter-widgets/base",
            "_model_module_version": "1.2.0",
            "_model_name": "LayoutModel",
            "_view_count": null,
            "_view_module": "@jupyter-widgets/base",
            "_view_module_version": "1.2.0",
            "_view_name": "LayoutView",
            "align_content": null,
            "align_items": null,
            "align_self": null,
            "border": null,
            "bottom": null,
            "display": null,
            "flex": null,
            "flex_flow": null,
            "grid_area": null,
            "grid_auto_columns": null,
            "grid_auto_flow": null,
            "grid_auto_rows": null,
            "grid_column": null,
            "grid_gap": null,
            "grid_row": null,
            "grid_template_areas": null,
            "grid_template_columns": null,
            "grid_template_rows": null,
            "height": null,
            "justify_content": null,
            "justify_items": null,
            "left": null,
            "margin": null,
            "max_height": null,
            "max_width": null,
            "min_height": null,
            "min_width": null,
            "object_fit": null,
            "object_position": null,
            "order": null,
            "overflow": null,
            "overflow_x": null,
            "overflow_y": null,
            "padding": null,
            "right": null,
            "top": null,
            "visibility": null,
            "width": null
          }
        },
        "66347ec4d87d4326b956867cc5d0b000": {
          "model_module": "@jupyter-widgets/base",
          "model_name": "LayoutModel",
          "model_module_version": "1.2.0",
          "state": {
            "_model_module": "@jupyter-widgets/base",
            "_model_module_version": "1.2.0",
            "_model_name": "LayoutModel",
            "_view_count": null,
            "_view_module": "@jupyter-widgets/base",
            "_view_module_version": "1.2.0",
            "_view_name": "LayoutView",
            "align_content": null,
            "align_items": null,
            "align_self": null,
            "border": null,
            "bottom": null,
            "display": null,
            "flex": null,
            "flex_flow": null,
            "grid_area": null,
            "grid_auto_columns": null,
            "grid_auto_flow": null,
            "grid_auto_rows": null,
            "grid_column": null,
            "grid_gap": null,
            "grid_row": null,
            "grid_template_areas": null,
            "grid_template_columns": null,
            "grid_template_rows": null,
            "height": null,
            "justify_content": null,
            "justify_items": null,
            "left": null,
            "margin": null,
            "max_height": null,
            "max_width": null,
            "min_height": null,
            "min_width": null,
            "object_fit": null,
            "object_position": null,
            "order": null,
            "overflow": null,
            "overflow_x": null,
            "overflow_y": null,
            "padding": null,
            "right": null,
            "top": null,
            "visibility": null,
            "width": null
          }
        },
        "f60e1ef884fd41f78645e48aeb9cd342": {
          "model_module": "@jupyter-widgets/controls",
          "model_name": "DescriptionStyleModel",
          "model_module_version": "1.5.0",
          "state": {
            "_model_module": "@jupyter-widgets/controls",
            "_model_module_version": "1.5.0",
            "_model_name": "DescriptionStyleModel",
            "_view_count": null,
            "_view_module": "@jupyter-widgets/base",
            "_view_module_version": "1.2.0",
            "_view_name": "StyleView",
            "description_width": ""
          }
        },
        "20f2ce35343649568d8bbad1af6b7842": {
          "model_module": "@jupyter-widgets/base",
          "model_name": "LayoutModel",
          "model_module_version": "1.2.0",
          "state": {
            "_model_module": "@jupyter-widgets/base",
            "_model_module_version": "1.2.0",
            "_model_name": "LayoutModel",
            "_view_count": null,
            "_view_module": "@jupyter-widgets/base",
            "_view_module_version": "1.2.0",
            "_view_name": "LayoutView",
            "align_content": null,
            "align_items": null,
            "align_self": null,
            "border": null,
            "bottom": null,
            "display": null,
            "flex": null,
            "flex_flow": null,
            "grid_area": null,
            "grid_auto_columns": null,
            "grid_auto_flow": null,
            "grid_auto_rows": null,
            "grid_column": null,
            "grid_gap": null,
            "grid_row": null,
            "grid_template_areas": null,
            "grid_template_columns": null,
            "grid_template_rows": null,
            "height": null,
            "justify_content": null,
            "justify_items": null,
            "left": null,
            "margin": null,
            "max_height": null,
            "max_width": null,
            "min_height": null,
            "min_width": null,
            "object_fit": null,
            "object_position": null,
            "order": null,
            "overflow": null,
            "overflow_x": null,
            "overflow_y": null,
            "padding": null,
            "right": null,
            "top": null,
            "visibility": null,
            "width": null
          }
        },
        "8020cc48d4634f30bf9f21d6370c0d13": {
          "model_module": "@jupyter-widgets/controls",
          "model_name": "ProgressStyleModel",
          "model_module_version": "1.5.0",
          "state": {
            "_model_module": "@jupyter-widgets/controls",
            "_model_module_version": "1.5.0",
            "_model_name": "ProgressStyleModel",
            "_view_count": null,
            "_view_module": "@jupyter-widgets/base",
            "_view_module_version": "1.2.0",
            "_view_name": "StyleView",
            "bar_color": null,
            "description_width": ""
          }
        },
        "7068f87de88242d59e8ce1738cd333c2": {
          "model_module": "@jupyter-widgets/base",
          "model_name": "LayoutModel",
          "model_module_version": "1.2.0",
          "state": {
            "_model_module": "@jupyter-widgets/base",
            "_model_module_version": "1.2.0",
            "_model_name": "LayoutModel",
            "_view_count": null,
            "_view_module": "@jupyter-widgets/base",
            "_view_module_version": "1.2.0",
            "_view_name": "LayoutView",
            "align_content": null,
            "align_items": null,
            "align_self": null,
            "border": null,
            "bottom": null,
            "display": null,
            "flex": null,
            "flex_flow": null,
            "grid_area": null,
            "grid_auto_columns": null,
            "grid_auto_flow": null,
            "grid_auto_rows": null,
            "grid_column": null,
            "grid_gap": null,
            "grid_row": null,
            "grid_template_areas": null,
            "grid_template_columns": null,
            "grid_template_rows": null,
            "height": null,
            "justify_content": null,
            "justify_items": null,
            "left": null,
            "margin": null,
            "max_height": null,
            "max_width": null,
            "min_height": null,
            "min_width": null,
            "object_fit": null,
            "object_position": null,
            "order": null,
            "overflow": null,
            "overflow_x": null,
            "overflow_y": null,
            "padding": null,
            "right": null,
            "top": null,
            "visibility": null,
            "width": null
          }
        },
        "2c43461794ec40749de751eb363ebc7f": {
          "model_module": "@jupyter-widgets/controls",
          "model_name": "DescriptionStyleModel",
          "model_module_version": "1.5.0",
          "state": {
            "_model_module": "@jupyter-widgets/controls",
            "_model_module_version": "1.5.0",
            "_model_name": "DescriptionStyleModel",
            "_view_count": null,
            "_view_module": "@jupyter-widgets/base",
            "_view_module_version": "1.2.0",
            "_view_name": "StyleView",
            "description_width": ""
          }
        },
        "d5eb5e9e8b6d4569af919fd9ff2262e5": {
          "model_module": "@jupyter-widgets/controls",
          "model_name": "HBoxModel",
          "model_module_version": "1.5.0",
          "state": {
            "_dom_classes": [],
            "_model_module": "@jupyter-widgets/controls",
            "_model_module_version": "1.5.0",
            "_model_name": "HBoxModel",
            "_view_count": null,
            "_view_module": "@jupyter-widgets/controls",
            "_view_module_version": "1.5.0",
            "_view_name": "HBoxView",
            "box_style": "",
            "children": [
              "IPY_MODEL_cdcc90e5c7994e52add359a2ce901d11",
              "IPY_MODEL_f87fd85032944bf4b0f7406da89191ce",
              "IPY_MODEL_2c936a717a044f7f9b2c2fd334068028"
            ],
            "layout": "IPY_MODEL_c8127bfdc0c14223a1a58ea60058c43f"
          }
        },
        "cdcc90e5c7994e52add359a2ce901d11": {
          "model_module": "@jupyter-widgets/controls",
          "model_name": "HTMLModel",
          "model_module_version": "1.5.0",
          "state": {
            "_dom_classes": [],
            "_model_module": "@jupyter-widgets/controls",
            "_model_module_version": "1.5.0",
            "_model_name": "HTMLModel",
            "_view_count": null,
            "_view_module": "@jupyter-widgets/controls",
            "_view_module_version": "1.5.0",
            "_view_name": "HTMLView",
            "description": "",
            "description_tooltip": null,
            "layout": "IPY_MODEL_54e9e82a8e8b47b7970e0b9672ea148a",
            "placeholder": "​",
            "style": "IPY_MODEL_ed12fd39b2d041bcb949f9b4c1d50aea",
            "value": "Downloading (…)olve/main/vocab.json: 100%"
          }
        },
        "f87fd85032944bf4b0f7406da89191ce": {
          "model_module": "@jupyter-widgets/controls",
          "model_name": "FloatProgressModel",
          "model_module_version": "1.5.0",
          "state": {
            "_dom_classes": [],
            "_model_module": "@jupyter-widgets/controls",
            "_model_module_version": "1.5.0",
            "_model_name": "FloatProgressModel",
            "_view_count": null,
            "_view_module": "@jupyter-widgets/controls",
            "_view_module_version": "1.5.0",
            "_view_name": "ProgressView",
            "bar_style": "success",
            "description": "",
            "description_tooltip": null,
            "layout": "IPY_MODEL_bb70418623cc4ac5bdcf8ed95001d500",
            "max": 898822,
            "min": 0,
            "orientation": "horizontal",
            "style": "IPY_MODEL_1868321c969342218f86d47f0b1ce234",
            "value": 898822
          }
        },
        "2c936a717a044f7f9b2c2fd334068028": {
          "model_module": "@jupyter-widgets/controls",
          "model_name": "HTMLModel",
          "model_module_version": "1.5.0",
          "state": {
            "_dom_classes": [],
            "_model_module": "@jupyter-widgets/controls",
            "_model_module_version": "1.5.0",
            "_model_name": "HTMLModel",
            "_view_count": null,
            "_view_module": "@jupyter-widgets/controls",
            "_view_module_version": "1.5.0",
            "_view_name": "HTMLView",
            "description": "",
            "description_tooltip": null,
            "layout": "IPY_MODEL_547937b8d969445aa3db7dd3358c78d5",
            "placeholder": "​",
            "style": "IPY_MODEL_62e5f1e967f34de0b83bb33de021df68",
            "value": " 899k/899k [00:00&lt;00:00, 9.78MB/s]"
          }
        },
        "c8127bfdc0c14223a1a58ea60058c43f": {
          "model_module": "@jupyter-widgets/base",
          "model_name": "LayoutModel",
          "model_module_version": "1.2.0",
          "state": {
            "_model_module": "@jupyter-widgets/base",
            "_model_module_version": "1.2.0",
            "_model_name": "LayoutModel",
            "_view_count": null,
            "_view_module": "@jupyter-widgets/base",
            "_view_module_version": "1.2.0",
            "_view_name": "LayoutView",
            "align_content": null,
            "align_items": null,
            "align_self": null,
            "border": null,
            "bottom": null,
            "display": null,
            "flex": null,
            "flex_flow": null,
            "grid_area": null,
            "grid_auto_columns": null,
            "grid_auto_flow": null,
            "grid_auto_rows": null,
            "grid_column": null,
            "grid_gap": null,
            "grid_row": null,
            "grid_template_areas": null,
            "grid_template_columns": null,
            "grid_template_rows": null,
            "height": null,
            "justify_content": null,
            "justify_items": null,
            "left": null,
            "margin": null,
            "max_height": null,
            "max_width": null,
            "min_height": null,
            "min_width": null,
            "object_fit": null,
            "object_position": null,
            "order": null,
            "overflow": null,
            "overflow_x": null,
            "overflow_y": null,
            "padding": null,
            "right": null,
            "top": null,
            "visibility": null,
            "width": null
          }
        },
        "54e9e82a8e8b47b7970e0b9672ea148a": {
          "model_module": "@jupyter-widgets/base",
          "model_name": "LayoutModel",
          "model_module_version": "1.2.0",
          "state": {
            "_model_module": "@jupyter-widgets/base",
            "_model_module_version": "1.2.0",
            "_model_name": "LayoutModel",
            "_view_count": null,
            "_view_module": "@jupyter-widgets/base",
            "_view_module_version": "1.2.0",
            "_view_name": "LayoutView",
            "align_content": null,
            "align_items": null,
            "align_self": null,
            "border": null,
            "bottom": null,
            "display": null,
            "flex": null,
            "flex_flow": null,
            "grid_area": null,
            "grid_auto_columns": null,
            "grid_auto_flow": null,
            "grid_auto_rows": null,
            "grid_column": null,
            "grid_gap": null,
            "grid_row": null,
            "grid_template_areas": null,
            "grid_template_columns": null,
            "grid_template_rows": null,
            "height": null,
            "justify_content": null,
            "justify_items": null,
            "left": null,
            "margin": null,
            "max_height": null,
            "max_width": null,
            "min_height": null,
            "min_width": null,
            "object_fit": null,
            "object_position": null,
            "order": null,
            "overflow": null,
            "overflow_x": null,
            "overflow_y": null,
            "padding": null,
            "right": null,
            "top": null,
            "visibility": null,
            "width": null
          }
        },
        "ed12fd39b2d041bcb949f9b4c1d50aea": {
          "model_module": "@jupyter-widgets/controls",
          "model_name": "DescriptionStyleModel",
          "model_module_version": "1.5.0",
          "state": {
            "_model_module": "@jupyter-widgets/controls",
            "_model_module_version": "1.5.0",
            "_model_name": "DescriptionStyleModel",
            "_view_count": null,
            "_view_module": "@jupyter-widgets/base",
            "_view_module_version": "1.2.0",
            "_view_name": "StyleView",
            "description_width": ""
          }
        },
        "bb70418623cc4ac5bdcf8ed95001d500": {
          "model_module": "@jupyter-widgets/base",
          "model_name": "LayoutModel",
          "model_module_version": "1.2.0",
          "state": {
            "_model_module": "@jupyter-widgets/base",
            "_model_module_version": "1.2.0",
            "_model_name": "LayoutModel",
            "_view_count": null,
            "_view_module": "@jupyter-widgets/base",
            "_view_module_version": "1.2.0",
            "_view_name": "LayoutView",
            "align_content": null,
            "align_items": null,
            "align_self": null,
            "border": null,
            "bottom": null,
            "display": null,
            "flex": null,
            "flex_flow": null,
            "grid_area": null,
            "grid_auto_columns": null,
            "grid_auto_flow": null,
            "grid_auto_rows": null,
            "grid_column": null,
            "grid_gap": null,
            "grid_row": null,
            "grid_template_areas": null,
            "grid_template_columns": null,
            "grid_template_rows": null,
            "height": null,
            "justify_content": null,
            "justify_items": null,
            "left": null,
            "margin": null,
            "max_height": null,
            "max_width": null,
            "min_height": null,
            "min_width": null,
            "object_fit": null,
            "object_position": null,
            "order": null,
            "overflow": null,
            "overflow_x": null,
            "overflow_y": null,
            "padding": null,
            "right": null,
            "top": null,
            "visibility": null,
            "width": null
          }
        },
        "1868321c969342218f86d47f0b1ce234": {
          "model_module": "@jupyter-widgets/controls",
          "model_name": "ProgressStyleModel",
          "model_module_version": "1.5.0",
          "state": {
            "_model_module": "@jupyter-widgets/controls",
            "_model_module_version": "1.5.0",
            "_model_name": "ProgressStyleModel",
            "_view_count": null,
            "_view_module": "@jupyter-widgets/base",
            "_view_module_version": "1.2.0",
            "_view_name": "StyleView",
            "bar_color": null,
            "description_width": ""
          }
        },
        "547937b8d969445aa3db7dd3358c78d5": {
          "model_module": "@jupyter-widgets/base",
          "model_name": "LayoutModel",
          "model_module_version": "1.2.0",
          "state": {
            "_model_module": "@jupyter-widgets/base",
            "_model_module_version": "1.2.0",
            "_model_name": "LayoutModel",
            "_view_count": null,
            "_view_module": "@jupyter-widgets/base",
            "_view_module_version": "1.2.0",
            "_view_name": "LayoutView",
            "align_content": null,
            "align_items": null,
            "align_self": null,
            "border": null,
            "bottom": null,
            "display": null,
            "flex": null,
            "flex_flow": null,
            "grid_area": null,
            "grid_auto_columns": null,
            "grid_auto_flow": null,
            "grid_auto_rows": null,
            "grid_column": null,
            "grid_gap": null,
            "grid_row": null,
            "grid_template_areas": null,
            "grid_template_columns": null,
            "grid_template_rows": null,
            "height": null,
            "justify_content": null,
            "justify_items": null,
            "left": null,
            "margin": null,
            "max_height": null,
            "max_width": null,
            "min_height": null,
            "min_width": null,
            "object_fit": null,
            "object_position": null,
            "order": null,
            "overflow": null,
            "overflow_x": null,
            "overflow_y": null,
            "padding": null,
            "right": null,
            "top": null,
            "visibility": null,
            "width": null
          }
        },
        "62e5f1e967f34de0b83bb33de021df68": {
          "model_module": "@jupyter-widgets/controls",
          "model_name": "DescriptionStyleModel",
          "model_module_version": "1.5.0",
          "state": {
            "_model_module": "@jupyter-widgets/controls",
            "_model_module_version": "1.5.0",
            "_model_name": "DescriptionStyleModel",
            "_view_count": null,
            "_view_module": "@jupyter-widgets/base",
            "_view_module_version": "1.2.0",
            "_view_name": "StyleView",
            "description_width": ""
          }
        },
        "9ef9efab6a5a4a6985327dfcb7eee467": {
          "model_module": "@jupyter-widgets/controls",
          "model_name": "HBoxModel",
          "model_module_version": "1.5.0",
          "state": {
            "_dom_classes": [],
            "_model_module": "@jupyter-widgets/controls",
            "_model_module_version": "1.5.0",
            "_model_name": "HBoxModel",
            "_view_count": null,
            "_view_module": "@jupyter-widgets/controls",
            "_view_module_version": "1.5.0",
            "_view_name": "HBoxView",
            "box_style": "",
            "children": [
              "IPY_MODEL_12570f784828438bb598da3e9621eba1",
              "IPY_MODEL_9b646a35c02f4e59854e94b5c98e5b54",
              "IPY_MODEL_7effcb4a59604bed9a1fedaede56029f"
            ],
            "layout": "IPY_MODEL_a514000c32474d18afbd8ca91aab3c7c"
          }
        },
        "12570f784828438bb598da3e9621eba1": {
          "model_module": "@jupyter-widgets/controls",
          "model_name": "HTMLModel",
          "model_module_version": "1.5.0",
          "state": {
            "_dom_classes": [],
            "_model_module": "@jupyter-widgets/controls",
            "_model_module_version": "1.5.0",
            "_model_name": "HTMLModel",
            "_view_count": null,
            "_view_module": "@jupyter-widgets/controls",
            "_view_module_version": "1.5.0",
            "_view_name": "HTMLView",
            "description": "",
            "description_tooltip": null,
            "layout": "IPY_MODEL_b6af4098578849c1bc5dab48bff174c7",
            "placeholder": "​",
            "style": "IPY_MODEL_05814dff35de4c4989b23da23736405c",
            "value": "Downloading (…)olve/main/merges.txt: 100%"
          }
        },
        "9b646a35c02f4e59854e94b5c98e5b54": {
          "model_module": "@jupyter-widgets/controls",
          "model_name": "FloatProgressModel",
          "model_module_version": "1.5.0",
          "state": {
            "_dom_classes": [],
            "_model_module": "@jupyter-widgets/controls",
            "_model_module_version": "1.5.0",
            "_model_name": "FloatProgressModel",
            "_view_count": null,
            "_view_module": "@jupyter-widgets/controls",
            "_view_module_version": "1.5.0",
            "_view_name": "ProgressView",
            "bar_style": "success",
            "description": "",
            "description_tooltip": null,
            "layout": "IPY_MODEL_dcd8a59af7be4851a37120831dc31620",
            "max": 456318,
            "min": 0,
            "orientation": "horizontal",
            "style": "IPY_MODEL_229d956b7af341529d021ca5dbf676b8",
            "value": 456318
          }
        },
        "7effcb4a59604bed9a1fedaede56029f": {
          "model_module": "@jupyter-widgets/controls",
          "model_name": "HTMLModel",
          "model_module_version": "1.5.0",
          "state": {
            "_dom_classes": [],
            "_model_module": "@jupyter-widgets/controls",
            "_model_module_version": "1.5.0",
            "_model_name": "HTMLModel",
            "_view_count": null,
            "_view_module": "@jupyter-widgets/controls",
            "_view_module_version": "1.5.0",
            "_view_name": "HTMLView",
            "description": "",
            "description_tooltip": null,
            "layout": "IPY_MODEL_c6100e8d3f3541bb8577019deaf68f6c",
            "placeholder": "​",
            "style": "IPY_MODEL_eed137db174542208dbed96c02b8ea2d",
            "value": " 456k/456k [00:00&lt;00:00, 5.73MB/s]"
          }
        },
        "a514000c32474d18afbd8ca91aab3c7c": {
          "model_module": "@jupyter-widgets/base",
          "model_name": "LayoutModel",
          "model_module_version": "1.2.0",
          "state": {
            "_model_module": "@jupyter-widgets/base",
            "_model_module_version": "1.2.0",
            "_model_name": "LayoutModel",
            "_view_count": null,
            "_view_module": "@jupyter-widgets/base",
            "_view_module_version": "1.2.0",
            "_view_name": "LayoutView",
            "align_content": null,
            "align_items": null,
            "align_self": null,
            "border": null,
            "bottom": null,
            "display": null,
            "flex": null,
            "flex_flow": null,
            "grid_area": null,
            "grid_auto_columns": null,
            "grid_auto_flow": null,
            "grid_auto_rows": null,
            "grid_column": null,
            "grid_gap": null,
            "grid_row": null,
            "grid_template_areas": null,
            "grid_template_columns": null,
            "grid_template_rows": null,
            "height": null,
            "justify_content": null,
            "justify_items": null,
            "left": null,
            "margin": null,
            "max_height": null,
            "max_width": null,
            "min_height": null,
            "min_width": null,
            "object_fit": null,
            "object_position": null,
            "order": null,
            "overflow": null,
            "overflow_x": null,
            "overflow_y": null,
            "padding": null,
            "right": null,
            "top": null,
            "visibility": null,
            "width": null
          }
        },
        "b6af4098578849c1bc5dab48bff174c7": {
          "model_module": "@jupyter-widgets/base",
          "model_name": "LayoutModel",
          "model_module_version": "1.2.0",
          "state": {
            "_model_module": "@jupyter-widgets/base",
            "_model_module_version": "1.2.0",
            "_model_name": "LayoutModel",
            "_view_count": null,
            "_view_module": "@jupyter-widgets/base",
            "_view_module_version": "1.2.0",
            "_view_name": "LayoutView",
            "align_content": null,
            "align_items": null,
            "align_self": null,
            "border": null,
            "bottom": null,
            "display": null,
            "flex": null,
            "flex_flow": null,
            "grid_area": null,
            "grid_auto_columns": null,
            "grid_auto_flow": null,
            "grid_auto_rows": null,
            "grid_column": null,
            "grid_gap": null,
            "grid_row": null,
            "grid_template_areas": null,
            "grid_template_columns": null,
            "grid_template_rows": null,
            "height": null,
            "justify_content": null,
            "justify_items": null,
            "left": null,
            "margin": null,
            "max_height": null,
            "max_width": null,
            "min_height": null,
            "min_width": null,
            "object_fit": null,
            "object_position": null,
            "order": null,
            "overflow": null,
            "overflow_x": null,
            "overflow_y": null,
            "padding": null,
            "right": null,
            "top": null,
            "visibility": null,
            "width": null
          }
        },
        "05814dff35de4c4989b23da23736405c": {
          "model_module": "@jupyter-widgets/controls",
          "model_name": "DescriptionStyleModel",
          "model_module_version": "1.5.0",
          "state": {
            "_model_module": "@jupyter-widgets/controls",
            "_model_module_version": "1.5.0",
            "_model_name": "DescriptionStyleModel",
            "_view_count": null,
            "_view_module": "@jupyter-widgets/base",
            "_view_module_version": "1.2.0",
            "_view_name": "StyleView",
            "description_width": ""
          }
        },
        "dcd8a59af7be4851a37120831dc31620": {
          "model_module": "@jupyter-widgets/base",
          "model_name": "LayoutModel",
          "model_module_version": "1.2.0",
          "state": {
            "_model_module": "@jupyter-widgets/base",
            "_model_module_version": "1.2.0",
            "_model_name": "LayoutModel",
            "_view_count": null,
            "_view_module": "@jupyter-widgets/base",
            "_view_module_version": "1.2.0",
            "_view_name": "LayoutView",
            "align_content": null,
            "align_items": null,
            "align_self": null,
            "border": null,
            "bottom": null,
            "display": null,
            "flex": null,
            "flex_flow": null,
            "grid_area": null,
            "grid_auto_columns": null,
            "grid_auto_flow": null,
            "grid_auto_rows": null,
            "grid_column": null,
            "grid_gap": null,
            "grid_row": null,
            "grid_template_areas": null,
            "grid_template_columns": null,
            "grid_template_rows": null,
            "height": null,
            "justify_content": null,
            "justify_items": null,
            "left": null,
            "margin": null,
            "max_height": null,
            "max_width": null,
            "min_height": null,
            "min_width": null,
            "object_fit": null,
            "object_position": null,
            "order": null,
            "overflow": null,
            "overflow_x": null,
            "overflow_y": null,
            "padding": null,
            "right": null,
            "top": null,
            "visibility": null,
            "width": null
          }
        },
        "229d956b7af341529d021ca5dbf676b8": {
          "model_module": "@jupyter-widgets/controls",
          "model_name": "ProgressStyleModel",
          "model_module_version": "1.5.0",
          "state": {
            "_model_module": "@jupyter-widgets/controls",
            "_model_module_version": "1.5.0",
            "_model_name": "ProgressStyleModel",
            "_view_count": null,
            "_view_module": "@jupyter-widgets/base",
            "_view_module_version": "1.2.0",
            "_view_name": "StyleView",
            "bar_color": null,
            "description_width": ""
          }
        },
        "c6100e8d3f3541bb8577019deaf68f6c": {
          "model_module": "@jupyter-widgets/base",
          "model_name": "LayoutModel",
          "model_module_version": "1.2.0",
          "state": {
            "_model_module": "@jupyter-widgets/base",
            "_model_module_version": "1.2.0",
            "_model_name": "LayoutModel",
            "_view_count": null,
            "_view_module": "@jupyter-widgets/base",
            "_view_module_version": "1.2.0",
            "_view_name": "LayoutView",
            "align_content": null,
            "align_items": null,
            "align_self": null,
            "border": null,
            "bottom": null,
            "display": null,
            "flex": null,
            "flex_flow": null,
            "grid_area": null,
            "grid_auto_columns": null,
            "grid_auto_flow": null,
            "grid_auto_rows": null,
            "grid_column": null,
            "grid_gap": null,
            "grid_row": null,
            "grid_template_areas": null,
            "grid_template_columns": null,
            "grid_template_rows": null,
            "height": null,
            "justify_content": null,
            "justify_items": null,
            "left": null,
            "margin": null,
            "max_height": null,
            "max_width": null,
            "min_height": null,
            "min_width": null,
            "object_fit": null,
            "object_position": null,
            "order": null,
            "overflow": null,
            "overflow_x": null,
            "overflow_y": null,
            "padding": null,
            "right": null,
            "top": null,
            "visibility": null,
            "width": null
          }
        },
        "eed137db174542208dbed96c02b8ea2d": {
          "model_module": "@jupyter-widgets/controls",
          "model_name": "DescriptionStyleModel",
          "model_module_version": "1.5.0",
          "state": {
            "_model_module": "@jupyter-widgets/controls",
            "_model_module_version": "1.5.0",
            "_model_name": "DescriptionStyleModel",
            "_view_count": null,
            "_view_module": "@jupyter-widgets/base",
            "_view_module_version": "1.2.0",
            "_view_name": "StyleView",
            "description_width": ""
          }
        },
        "b1238a78b4ec42b5904dbbc4e900ceeb": {
          "model_module": "@jupyter-widgets/controls",
          "model_name": "HBoxModel",
          "model_module_version": "1.5.0",
          "state": {
            "_dom_classes": [],
            "_model_module": "@jupyter-widgets/controls",
            "_model_module_version": "1.5.0",
            "_model_name": "HBoxModel",
            "_view_count": null,
            "_view_module": "@jupyter-widgets/controls",
            "_view_module_version": "1.5.0",
            "_view_name": "HBoxView",
            "box_style": "",
            "children": [
              "IPY_MODEL_32a4492df7a54d508c05cc079a42acf4",
              "IPY_MODEL_f829ed740d7c4e628df40700c43e9f8b",
              "IPY_MODEL_0d5af151bf784f8fae1ba3850eab6a0a"
            ],
            "layout": "IPY_MODEL_93a0c0c311294972a4d992d40ab7160d"
          }
        },
        "32a4492df7a54d508c05cc079a42acf4": {
          "model_module": "@jupyter-widgets/controls",
          "model_name": "HTMLModel",
          "model_module_version": "1.5.0",
          "state": {
            "_dom_classes": [],
            "_model_module": "@jupyter-widgets/controls",
            "_model_module_version": "1.5.0",
            "_model_name": "HTMLModel",
            "_view_count": null,
            "_view_module": "@jupyter-widgets/controls",
            "_view_module_version": "1.5.0",
            "_view_name": "HTMLView",
            "description": "",
            "description_tooltip": null,
            "layout": "IPY_MODEL_770b2919e1174768a48a49e0f341fa90",
            "placeholder": "​",
            "style": "IPY_MODEL_09842cc022aa44b2917bbd64cad6e143",
            "value": "Downloading (…)cial_tokens_map.json: 100%"
          }
        },
        "f829ed740d7c4e628df40700c43e9f8b": {
          "model_module": "@jupyter-widgets/controls",
          "model_name": "FloatProgressModel",
          "model_module_version": "1.5.0",
          "state": {
            "_dom_classes": [],
            "_model_module": "@jupyter-widgets/controls",
            "_model_module_version": "1.5.0",
            "_model_name": "FloatProgressModel",
            "_view_count": null,
            "_view_module": "@jupyter-widgets/controls",
            "_view_module_version": "1.5.0",
            "_view_name": "ProgressView",
            "bar_style": "success",
            "description": "",
            "description_tooltip": null,
            "layout": "IPY_MODEL_be6a4327312349dd8e76b286e16c6e01",
            "max": 150,
            "min": 0,
            "orientation": "horizontal",
            "style": "IPY_MODEL_d73215fb207941da9130cb2fc7e3910e",
            "value": 150
          }
        },
        "0d5af151bf784f8fae1ba3850eab6a0a": {
          "model_module": "@jupyter-widgets/controls",
          "model_name": "HTMLModel",
          "model_module_version": "1.5.0",
          "state": {
            "_dom_classes": [],
            "_model_module": "@jupyter-widgets/controls",
            "_model_module_version": "1.5.0",
            "_model_name": "HTMLModel",
            "_view_count": null,
            "_view_module": "@jupyter-widgets/controls",
            "_view_module_version": "1.5.0",
            "_view_name": "HTMLView",
            "description": "",
            "description_tooltip": null,
            "layout": "IPY_MODEL_e7275cd02f484cf6866cb4f4de7f977f",
            "placeholder": "​",
            "style": "IPY_MODEL_d1f9dea4ae6f48b8864168fc582760e2",
            "value": " 150/150 [00:00&lt;00:00, 3.47kB/s]"
          }
        },
        "93a0c0c311294972a4d992d40ab7160d": {
          "model_module": "@jupyter-widgets/base",
          "model_name": "LayoutModel",
          "model_module_version": "1.2.0",
          "state": {
            "_model_module": "@jupyter-widgets/base",
            "_model_module_version": "1.2.0",
            "_model_name": "LayoutModel",
            "_view_count": null,
            "_view_module": "@jupyter-widgets/base",
            "_view_module_version": "1.2.0",
            "_view_name": "LayoutView",
            "align_content": null,
            "align_items": null,
            "align_self": null,
            "border": null,
            "bottom": null,
            "display": null,
            "flex": null,
            "flex_flow": null,
            "grid_area": null,
            "grid_auto_columns": null,
            "grid_auto_flow": null,
            "grid_auto_rows": null,
            "grid_column": null,
            "grid_gap": null,
            "grid_row": null,
            "grid_template_areas": null,
            "grid_template_columns": null,
            "grid_template_rows": null,
            "height": null,
            "justify_content": null,
            "justify_items": null,
            "left": null,
            "margin": null,
            "max_height": null,
            "max_width": null,
            "min_height": null,
            "min_width": null,
            "object_fit": null,
            "object_position": null,
            "order": null,
            "overflow": null,
            "overflow_x": null,
            "overflow_y": null,
            "padding": null,
            "right": null,
            "top": null,
            "visibility": null,
            "width": null
          }
        },
        "770b2919e1174768a48a49e0f341fa90": {
          "model_module": "@jupyter-widgets/base",
          "model_name": "LayoutModel",
          "model_module_version": "1.2.0",
          "state": {
            "_model_module": "@jupyter-widgets/base",
            "_model_module_version": "1.2.0",
            "_model_name": "LayoutModel",
            "_view_count": null,
            "_view_module": "@jupyter-widgets/base",
            "_view_module_version": "1.2.0",
            "_view_name": "LayoutView",
            "align_content": null,
            "align_items": null,
            "align_self": null,
            "border": null,
            "bottom": null,
            "display": null,
            "flex": null,
            "flex_flow": null,
            "grid_area": null,
            "grid_auto_columns": null,
            "grid_auto_flow": null,
            "grid_auto_rows": null,
            "grid_column": null,
            "grid_gap": null,
            "grid_row": null,
            "grid_template_areas": null,
            "grid_template_columns": null,
            "grid_template_rows": null,
            "height": null,
            "justify_content": null,
            "justify_items": null,
            "left": null,
            "margin": null,
            "max_height": null,
            "max_width": null,
            "min_height": null,
            "min_width": null,
            "object_fit": null,
            "object_position": null,
            "order": null,
            "overflow": null,
            "overflow_x": null,
            "overflow_y": null,
            "padding": null,
            "right": null,
            "top": null,
            "visibility": null,
            "width": null
          }
        },
        "09842cc022aa44b2917bbd64cad6e143": {
          "model_module": "@jupyter-widgets/controls",
          "model_name": "DescriptionStyleModel",
          "model_module_version": "1.5.0",
          "state": {
            "_model_module": "@jupyter-widgets/controls",
            "_model_module_version": "1.5.0",
            "_model_name": "DescriptionStyleModel",
            "_view_count": null,
            "_view_module": "@jupyter-widgets/base",
            "_view_module_version": "1.2.0",
            "_view_name": "StyleView",
            "description_width": ""
          }
        },
        "be6a4327312349dd8e76b286e16c6e01": {
          "model_module": "@jupyter-widgets/base",
          "model_name": "LayoutModel",
          "model_module_version": "1.2.0",
          "state": {
            "_model_module": "@jupyter-widgets/base",
            "_model_module_version": "1.2.0",
            "_model_name": "LayoutModel",
            "_view_count": null,
            "_view_module": "@jupyter-widgets/base",
            "_view_module_version": "1.2.0",
            "_view_name": "LayoutView",
            "align_content": null,
            "align_items": null,
            "align_self": null,
            "border": null,
            "bottom": null,
            "display": null,
            "flex": null,
            "flex_flow": null,
            "grid_area": null,
            "grid_auto_columns": null,
            "grid_auto_flow": null,
            "grid_auto_rows": null,
            "grid_column": null,
            "grid_gap": null,
            "grid_row": null,
            "grid_template_areas": null,
            "grid_template_columns": null,
            "grid_template_rows": null,
            "height": null,
            "justify_content": null,
            "justify_items": null,
            "left": null,
            "margin": null,
            "max_height": null,
            "max_width": null,
            "min_height": null,
            "min_width": null,
            "object_fit": null,
            "object_position": null,
            "order": null,
            "overflow": null,
            "overflow_x": null,
            "overflow_y": null,
            "padding": null,
            "right": null,
            "top": null,
            "visibility": null,
            "width": null
          }
        },
        "d73215fb207941da9130cb2fc7e3910e": {
          "model_module": "@jupyter-widgets/controls",
          "model_name": "ProgressStyleModel",
          "model_module_version": "1.5.0",
          "state": {
            "_model_module": "@jupyter-widgets/controls",
            "_model_module_version": "1.5.0",
            "_model_name": "ProgressStyleModel",
            "_view_count": null,
            "_view_module": "@jupyter-widgets/base",
            "_view_module_version": "1.2.0",
            "_view_name": "StyleView",
            "bar_color": null,
            "description_width": ""
          }
        },
        "e7275cd02f484cf6866cb4f4de7f977f": {
          "model_module": "@jupyter-widgets/base",
          "model_name": "LayoutModel",
          "model_module_version": "1.2.0",
          "state": {
            "_model_module": "@jupyter-widgets/base",
            "_model_module_version": "1.2.0",
            "_model_name": "LayoutModel",
            "_view_count": null,
            "_view_module": "@jupyter-widgets/base",
            "_view_module_version": "1.2.0",
            "_view_name": "LayoutView",
            "align_content": null,
            "align_items": null,
            "align_self": null,
            "border": null,
            "bottom": null,
            "display": null,
            "flex": null,
            "flex_flow": null,
            "grid_area": null,
            "grid_auto_columns": null,
            "grid_auto_flow": null,
            "grid_auto_rows": null,
            "grid_column": null,
            "grid_gap": null,
            "grid_row": null,
            "grid_template_areas": null,
            "grid_template_columns": null,
            "grid_template_rows": null,
            "height": null,
            "justify_content": null,
            "justify_items": null,
            "left": null,
            "margin": null,
            "max_height": null,
            "max_width": null,
            "min_height": null,
            "min_width": null,
            "object_fit": null,
            "object_position": null,
            "order": null,
            "overflow": null,
            "overflow_x": null,
            "overflow_y": null,
            "padding": null,
            "right": null,
            "top": null,
            "visibility": null,
            "width": null
          }
        },
        "d1f9dea4ae6f48b8864168fc582760e2": {
          "model_module": "@jupyter-widgets/controls",
          "model_name": "DescriptionStyleModel",
          "model_module_version": "1.5.0",
          "state": {
            "_model_module": "@jupyter-widgets/controls",
            "_model_module_version": "1.5.0",
            "_model_name": "DescriptionStyleModel",
            "_view_count": null,
            "_view_module": "@jupyter-widgets/base",
            "_view_module_version": "1.2.0",
            "_view_name": "StyleView",
            "description_width": ""
          }
        },
        "6dfe203bd8b74ddfb0333ca2161b4294": {
          "model_module": "@jupyter-widgets/controls",
          "model_name": "HBoxModel",
          "model_module_version": "1.5.0",
          "state": {
            "_dom_classes": [],
            "_model_module": "@jupyter-widgets/controls",
            "_model_module_version": "1.5.0",
            "_model_name": "HBoxModel",
            "_view_count": null,
            "_view_module": "@jupyter-widgets/controls",
            "_view_module_version": "1.5.0",
            "_view_name": "HBoxView",
            "box_style": "",
            "children": [
              "IPY_MODEL_661a4074194c414f89e6dc621532d532",
              "IPY_MODEL_7c8b012200fc4d32bd9cb9b1ed7253b1",
              "IPY_MODEL_9fb7e5e12c3f45e1b795ec8afe3fe7a3"
            ],
            "layout": "IPY_MODEL_5963aa26bb26426e998d6878b5031d03"
          }
        },
        "661a4074194c414f89e6dc621532d532": {
          "model_module": "@jupyter-widgets/controls",
          "model_name": "HTMLModel",
          "model_module_version": "1.5.0",
          "state": {
            "_dom_classes": [],
            "_model_module": "@jupyter-widgets/controls",
            "_model_module_version": "1.5.0",
            "_model_name": "HTMLModel",
            "_view_count": null,
            "_view_module": "@jupyter-widgets/controls",
            "_view_module_version": "1.5.0",
            "_view_name": "HTMLView",
            "description": "",
            "description_tooltip": null,
            "layout": "IPY_MODEL_ce1f3786c49d48f5bef70c4ef7b2c82c",
            "placeholder": "​",
            "style": "IPY_MODEL_57f802bc234544979696c70d985d9c38",
            "value": "Downloading tf_model.h5: 100%"
          }
        },
        "7c8b012200fc4d32bd9cb9b1ed7253b1": {
          "model_module": "@jupyter-widgets/controls",
          "model_name": "FloatProgressModel",
          "model_module_version": "1.5.0",
          "state": {
            "_dom_classes": [],
            "_model_module": "@jupyter-widgets/controls",
            "_model_module_version": "1.5.0",
            "_model_name": "FloatProgressModel",
            "_view_count": null,
            "_view_module": "@jupyter-widgets/controls",
            "_view_module_version": "1.5.0",
            "_view_name": "ProgressView",
            "bar_style": "success",
            "description": "",
            "description_tooltip": null,
            "layout": "IPY_MODEL_8a0c2d14a0ba4cd4a347fd5c766bb3d4",
            "max": 498845224,
            "min": 0,
            "orientation": "horizontal",
            "style": "IPY_MODEL_3f51868fdadb4d6a8183999e768c410e",
            "value": 498845224
          }
        },
        "9fb7e5e12c3f45e1b795ec8afe3fe7a3": {
          "model_module": "@jupyter-widgets/controls",
          "model_name": "HTMLModel",
          "model_module_version": "1.5.0",
          "state": {
            "_dom_classes": [],
            "_model_module": "@jupyter-widgets/controls",
            "_model_module_version": "1.5.0",
            "_model_name": "HTMLModel",
            "_view_count": null,
            "_view_module": "@jupyter-widgets/controls",
            "_view_module_version": "1.5.0",
            "_view_name": "HTMLView",
            "description": "",
            "description_tooltip": null,
            "layout": "IPY_MODEL_e8d0414d25de4c28ad4f2baed147d045",
            "placeholder": "​",
            "style": "IPY_MODEL_9bd4a1b828984ce8858241b8ed927faa",
            "value": " 499M/499M [00:02&lt;00:00, 155MB/s]"
          }
        },
        "5963aa26bb26426e998d6878b5031d03": {
          "model_module": "@jupyter-widgets/base",
          "model_name": "LayoutModel",
          "model_module_version": "1.2.0",
          "state": {
            "_model_module": "@jupyter-widgets/base",
            "_model_module_version": "1.2.0",
            "_model_name": "LayoutModel",
            "_view_count": null,
            "_view_module": "@jupyter-widgets/base",
            "_view_module_version": "1.2.0",
            "_view_name": "LayoutView",
            "align_content": null,
            "align_items": null,
            "align_self": null,
            "border": null,
            "bottom": null,
            "display": null,
            "flex": null,
            "flex_flow": null,
            "grid_area": null,
            "grid_auto_columns": null,
            "grid_auto_flow": null,
            "grid_auto_rows": null,
            "grid_column": null,
            "grid_gap": null,
            "grid_row": null,
            "grid_template_areas": null,
            "grid_template_columns": null,
            "grid_template_rows": null,
            "height": null,
            "justify_content": null,
            "justify_items": null,
            "left": null,
            "margin": null,
            "max_height": null,
            "max_width": null,
            "min_height": null,
            "min_width": null,
            "object_fit": null,
            "object_position": null,
            "order": null,
            "overflow": null,
            "overflow_x": null,
            "overflow_y": null,
            "padding": null,
            "right": null,
            "top": null,
            "visibility": null,
            "width": null
          }
        },
        "ce1f3786c49d48f5bef70c4ef7b2c82c": {
          "model_module": "@jupyter-widgets/base",
          "model_name": "LayoutModel",
          "model_module_version": "1.2.0",
          "state": {
            "_model_module": "@jupyter-widgets/base",
            "_model_module_version": "1.2.0",
            "_model_name": "LayoutModel",
            "_view_count": null,
            "_view_module": "@jupyter-widgets/base",
            "_view_module_version": "1.2.0",
            "_view_name": "LayoutView",
            "align_content": null,
            "align_items": null,
            "align_self": null,
            "border": null,
            "bottom": null,
            "display": null,
            "flex": null,
            "flex_flow": null,
            "grid_area": null,
            "grid_auto_columns": null,
            "grid_auto_flow": null,
            "grid_auto_rows": null,
            "grid_column": null,
            "grid_gap": null,
            "grid_row": null,
            "grid_template_areas": null,
            "grid_template_columns": null,
            "grid_template_rows": null,
            "height": null,
            "justify_content": null,
            "justify_items": null,
            "left": null,
            "margin": null,
            "max_height": null,
            "max_width": null,
            "min_height": null,
            "min_width": null,
            "object_fit": null,
            "object_position": null,
            "order": null,
            "overflow": null,
            "overflow_x": null,
            "overflow_y": null,
            "padding": null,
            "right": null,
            "top": null,
            "visibility": null,
            "width": null
          }
        },
        "57f802bc234544979696c70d985d9c38": {
          "model_module": "@jupyter-widgets/controls",
          "model_name": "DescriptionStyleModel",
          "model_module_version": "1.5.0",
          "state": {
            "_model_module": "@jupyter-widgets/controls",
            "_model_module_version": "1.5.0",
            "_model_name": "DescriptionStyleModel",
            "_view_count": null,
            "_view_module": "@jupyter-widgets/base",
            "_view_module_version": "1.2.0",
            "_view_name": "StyleView",
            "description_width": ""
          }
        },
        "8a0c2d14a0ba4cd4a347fd5c766bb3d4": {
          "model_module": "@jupyter-widgets/base",
          "model_name": "LayoutModel",
          "model_module_version": "1.2.0",
          "state": {
            "_model_module": "@jupyter-widgets/base",
            "_model_module_version": "1.2.0",
            "_model_name": "LayoutModel",
            "_view_count": null,
            "_view_module": "@jupyter-widgets/base",
            "_view_module_version": "1.2.0",
            "_view_name": "LayoutView",
            "align_content": null,
            "align_items": null,
            "align_self": null,
            "border": null,
            "bottom": null,
            "display": null,
            "flex": null,
            "flex_flow": null,
            "grid_area": null,
            "grid_auto_columns": null,
            "grid_auto_flow": null,
            "grid_auto_rows": null,
            "grid_column": null,
            "grid_gap": null,
            "grid_row": null,
            "grid_template_areas": null,
            "grid_template_columns": null,
            "grid_template_rows": null,
            "height": null,
            "justify_content": null,
            "justify_items": null,
            "left": null,
            "margin": null,
            "max_height": null,
            "max_width": null,
            "min_height": null,
            "min_width": null,
            "object_fit": null,
            "object_position": null,
            "order": null,
            "overflow": null,
            "overflow_x": null,
            "overflow_y": null,
            "padding": null,
            "right": null,
            "top": null,
            "visibility": null,
            "width": null
          }
        },
        "3f51868fdadb4d6a8183999e768c410e": {
          "model_module": "@jupyter-widgets/controls",
          "model_name": "ProgressStyleModel",
          "model_module_version": "1.5.0",
          "state": {
            "_model_module": "@jupyter-widgets/controls",
            "_model_module_version": "1.5.0",
            "_model_name": "ProgressStyleModel",
            "_view_count": null,
            "_view_module": "@jupyter-widgets/base",
            "_view_module_version": "1.2.0",
            "_view_name": "StyleView",
            "bar_color": null,
            "description_width": ""
          }
        },
        "e8d0414d25de4c28ad4f2baed147d045": {
          "model_module": "@jupyter-widgets/base",
          "model_name": "LayoutModel",
          "model_module_version": "1.2.0",
          "state": {
            "_model_module": "@jupyter-widgets/base",
            "_model_module_version": "1.2.0",
            "_model_name": "LayoutModel",
            "_view_count": null,
            "_view_module": "@jupyter-widgets/base",
            "_view_module_version": "1.2.0",
            "_view_name": "LayoutView",
            "align_content": null,
            "align_items": null,
            "align_self": null,
            "border": null,
            "bottom": null,
            "display": null,
            "flex": null,
            "flex_flow": null,
            "grid_area": null,
            "grid_auto_columns": null,
            "grid_auto_flow": null,
            "grid_auto_rows": null,
            "grid_column": null,
            "grid_gap": null,
            "grid_row": null,
            "grid_template_areas": null,
            "grid_template_columns": null,
            "grid_template_rows": null,
            "height": null,
            "justify_content": null,
            "justify_items": null,
            "left": null,
            "margin": null,
            "max_height": null,
            "max_width": null,
            "min_height": null,
            "min_width": null,
            "object_fit": null,
            "object_position": null,
            "order": null,
            "overflow": null,
            "overflow_x": null,
            "overflow_y": null,
            "padding": null,
            "right": null,
            "top": null,
            "visibility": null,
            "width": null
          }
        },
        "9bd4a1b828984ce8858241b8ed927faa": {
          "model_module": "@jupyter-widgets/controls",
          "model_name": "DescriptionStyleModel",
          "model_module_version": "1.5.0",
          "state": {
            "_model_module": "@jupyter-widgets/controls",
            "_model_module_version": "1.5.0",
            "_model_name": "DescriptionStyleModel",
            "_view_count": null,
            "_view_module": "@jupyter-widgets/base",
            "_view_module_version": "1.2.0",
            "_view_name": "StyleView",
            "description_width": ""
          }
        }
      }
    }
  },
  "cells": [
    {
      "cell_type": "code",
      "source": [
        "!pip install transformers"
      ],
      "metadata": {
        "colab": {
          "base_uri": "https://localhost:8080/"
        },
        "id": "HZKmsk3y2_pQ",
        "outputId": "b96045b9-eee7-4cff-dc28-74fd33c43278"
      },
      "execution_count": null,
      "outputs": [
        {
          "output_type": "stream",
          "name": "stdout",
          "text": [
            "Looking in indexes: https://pypi.org/simple, https://us-python.pkg.dev/colab-wheels/public/simple/\n",
            "Collecting transformers\n",
            "  Downloading transformers-4.27.4-py3-none-any.whl (6.8 MB)\n",
            "\u001b[2K     \u001b[90m━━━━━━━━━━━━━━━━━━━━━━━━━━━━━━━━━━━━━━━━\u001b[0m \u001b[32m6.8/6.8 MB\u001b[0m \u001b[31m81.4 MB/s\u001b[0m eta \u001b[36m0:00:00\u001b[0m\n",
            "\u001b[?25hRequirement already satisfied: filelock in /usr/local/lib/python3.9/dist-packages (from transformers) (3.10.7)\n",
            "Collecting huggingface-hub<1.0,>=0.11.0\n",
            "  Downloading huggingface_hub-0.13.4-py3-none-any.whl (200 kB)\n",
            "\u001b[2K     \u001b[90m━━━━━━━━━━━━━━━━━━━━━━━━━━━━━━━━━━━━━━\u001b[0m \u001b[32m200.1/200.1 KB\u001b[0m \u001b[31m22.2 MB/s\u001b[0m eta \u001b[36m0:00:00\u001b[0m\n",
            "\u001b[?25hRequirement already satisfied: regex!=2019.12.17 in /usr/local/lib/python3.9/dist-packages (from transformers) (2022.10.31)\n",
            "Requirement already satisfied: packaging>=20.0 in /usr/local/lib/python3.9/dist-packages (from transformers) (23.0)\n",
            "Requirement already satisfied: numpy>=1.17 in /usr/local/lib/python3.9/dist-packages (from transformers) (1.22.4)\n",
            "Collecting tokenizers!=0.11.3,<0.14,>=0.11.1\n",
            "  Downloading tokenizers-0.13.3-cp39-cp39-manylinux_2_17_x86_64.manylinux2014_x86_64.whl (7.8 MB)\n",
            "\u001b[2K     \u001b[90m━━━━━━━━━━━━━━━━━━━━━━━━━━━━━━━━━━━━━━━━\u001b[0m \u001b[32m7.8/7.8 MB\u001b[0m \u001b[31m35.2 MB/s\u001b[0m eta \u001b[36m0:00:00\u001b[0m\n",
            "\u001b[?25hRequirement already satisfied: tqdm>=4.27 in /usr/local/lib/python3.9/dist-packages (from transformers) (4.65.0)\n",
            "Requirement already satisfied: pyyaml>=5.1 in /usr/local/lib/python3.9/dist-packages (from transformers) (6.0)\n",
            "Requirement already satisfied: requests in /usr/local/lib/python3.9/dist-packages (from transformers) (2.27.1)\n",
            "Requirement already satisfied: typing-extensions>=3.7.4.3 in /usr/local/lib/python3.9/dist-packages (from huggingface-hub<1.0,>=0.11.0->transformers) (4.5.0)\n",
            "Requirement already satisfied: charset-normalizer~=2.0.0 in /usr/local/lib/python3.9/dist-packages (from requests->transformers) (2.0.12)\n",
            "Requirement already satisfied: idna<4,>=2.5 in /usr/local/lib/python3.9/dist-packages (from requests->transformers) (3.4)\n",
            "Requirement already satisfied: urllib3<1.27,>=1.21.1 in /usr/local/lib/python3.9/dist-packages (from requests->transformers) (1.26.15)\n",
            "Requirement already satisfied: certifi>=2017.4.17 in /usr/local/lib/python3.9/dist-packages (from requests->transformers) (2022.12.7)\n",
            "Installing collected packages: tokenizers, huggingface-hub, transformers\n",
            "Successfully installed huggingface-hub-0.13.4 tokenizers-0.13.3 transformers-4.27.4\n"
          ]
        }
      ]
    },
    {
      "cell_type": "code",
      "execution_count": null,
      "metadata": {
        "id": "1KWtD3myz1ZK"
      },
      "outputs": [],
      "source": [
        "import pandas as pd\n",
        "import numpy as np\n",
        "import tensorflow as tf\n",
        "from transformers import TFBertModel, BertTokenizer, AutoTokenizer, TFAutoModel\n",
        "from sklearn.model_selection import train_test_split\n",
        "from tensorflow.keras.layers import LSTM, Dense, Dropout, Input\n",
        "from tensorflow.keras.models import Model\n",
        "from tensorflow.keras.callbacks import EarlyStopping\n",
        "from sklearn.metrics import mean_squared_error, mean_absolute_error, r2_score\n",
        "from math import sqrt"
      ]
    },
    {
      "cell_type": "code",
      "source": [
        "code = pd.read_excel(r\"/content/totalmerged.xlsx\")\n",
        "code"
      ],
      "metadata": {
        "colab": {
          "base_uri": "https://localhost:8080/",
          "height": 423
        },
        "id": "zdKQQtoS16Wp",
        "outputId": "c09b46a0-f946-4edd-e075-efb3b1367bce"
      },
      "execution_count": null,
      "outputs": [
        {
          "output_type": "execute_result",
          "data": {
            "text/plain": [
              "                                            input_text  target_text\n",
              "0    #include <stdio.h>\\n\\nint main()\\n{\\n    int n...            9\n",
              "1    #include<stdio.h>\\n#include<string.h>\\nint mai...            9\n",
              "2    #include<stdio.h>\\n#include<string.h>\\nmain()\\...            9\n",
              "3    #include<stdio.h>\\n#include<string.h>\\nint mai...            9\n",
              "4    #include<stdio.h>\\n#include<string.h>\\nint mai...            9\n",
              "..                                                 ...          ...\n",
              "759  #include<stdio.h>\\n#include<stdlib.h>\\n#includ...            8\n",
              "760  #include<stdio.h>\\n#include<stdlib.h>\\n#includ...            9\n",
              "761  #include <stdio.h> \\n#include <stdlib.h>\\nstru...            9\n",
              "762  #include <stdio.h>\\n#include <stdlib.h>\\n\\nstr...           10\n",
              "763  #include<stdio.h>\\n#include<stdlib.h>\\nstruct ...            8\n",
              "\n",
              "[764 rows x 2 columns]"
            ],
            "text/html": [
              "\n",
              "  <div id=\"df-d212a254-2ce3-4343-b047-2e5557cce426\">\n",
              "    <div class=\"colab-df-container\">\n",
              "      <div>\n",
              "<style scoped>\n",
              "    .dataframe tbody tr th:only-of-type {\n",
              "        vertical-align: middle;\n",
              "    }\n",
              "\n",
              "    .dataframe tbody tr th {\n",
              "        vertical-align: top;\n",
              "    }\n",
              "\n",
              "    .dataframe thead th {\n",
              "        text-align: right;\n",
              "    }\n",
              "</style>\n",
              "<table border=\"1\" class=\"dataframe\">\n",
              "  <thead>\n",
              "    <tr style=\"text-align: right;\">\n",
              "      <th></th>\n",
              "      <th>input_text</th>\n",
              "      <th>target_text</th>\n",
              "    </tr>\n",
              "  </thead>\n",
              "  <tbody>\n",
              "    <tr>\n",
              "      <th>0</th>\n",
              "      <td>#include &lt;stdio.h&gt;\\n\\nint main()\\n{\\n    int n...</td>\n",
              "      <td>9</td>\n",
              "    </tr>\n",
              "    <tr>\n",
              "      <th>1</th>\n",
              "      <td>#include&lt;stdio.h&gt;\\n#include&lt;string.h&gt;\\nint mai...</td>\n",
              "      <td>9</td>\n",
              "    </tr>\n",
              "    <tr>\n",
              "      <th>2</th>\n",
              "      <td>#include&lt;stdio.h&gt;\\n#include&lt;string.h&gt;\\nmain()\\...</td>\n",
              "      <td>9</td>\n",
              "    </tr>\n",
              "    <tr>\n",
              "      <th>3</th>\n",
              "      <td>#include&lt;stdio.h&gt;\\n#include&lt;string.h&gt;\\nint mai...</td>\n",
              "      <td>9</td>\n",
              "    </tr>\n",
              "    <tr>\n",
              "      <th>4</th>\n",
              "      <td>#include&lt;stdio.h&gt;\\n#include&lt;string.h&gt;\\nint mai...</td>\n",
              "      <td>9</td>\n",
              "    </tr>\n",
              "    <tr>\n",
              "      <th>...</th>\n",
              "      <td>...</td>\n",
              "      <td>...</td>\n",
              "    </tr>\n",
              "    <tr>\n",
              "      <th>759</th>\n",
              "      <td>#include&lt;stdio.h&gt;\\n#include&lt;stdlib.h&gt;\\n#includ...</td>\n",
              "      <td>8</td>\n",
              "    </tr>\n",
              "    <tr>\n",
              "      <th>760</th>\n",
              "      <td>#include&lt;stdio.h&gt;\\n#include&lt;stdlib.h&gt;\\n#includ...</td>\n",
              "      <td>9</td>\n",
              "    </tr>\n",
              "    <tr>\n",
              "      <th>761</th>\n",
              "      <td>#include &lt;stdio.h&gt; \\n#include &lt;stdlib.h&gt;\\nstru...</td>\n",
              "      <td>9</td>\n",
              "    </tr>\n",
              "    <tr>\n",
              "      <th>762</th>\n",
              "      <td>#include &lt;stdio.h&gt;\\n#include &lt;stdlib.h&gt;\\n\\nstr...</td>\n",
              "      <td>10</td>\n",
              "    </tr>\n",
              "    <tr>\n",
              "      <th>763</th>\n",
              "      <td>#include&lt;stdio.h&gt;\\n#include&lt;stdlib.h&gt;\\nstruct ...</td>\n",
              "      <td>8</td>\n",
              "    </tr>\n",
              "  </tbody>\n",
              "</table>\n",
              "<p>764 rows × 2 columns</p>\n",
              "</div>\n",
              "      <button class=\"colab-df-convert\" onclick=\"convertToInteractive('df-d212a254-2ce3-4343-b047-2e5557cce426')\"\n",
              "              title=\"Convert this dataframe to an interactive table.\"\n",
              "              style=\"display:none;\">\n",
              "        \n",
              "  <svg xmlns=\"http://www.w3.org/2000/svg\" height=\"24px\"viewBox=\"0 0 24 24\"\n",
              "       width=\"24px\">\n",
              "    <path d=\"M0 0h24v24H0V0z\" fill=\"none\"/>\n",
              "    <path d=\"M18.56 5.44l.94 2.06.94-2.06 2.06-.94-2.06-.94-.94-2.06-.94 2.06-2.06.94zm-11 1L8.5 8.5l.94-2.06 2.06-.94-2.06-.94L8.5 2.5l-.94 2.06-2.06.94zm10 10l.94 2.06.94-2.06 2.06-.94-2.06-.94-.94-2.06-.94 2.06-2.06.94z\"/><path d=\"M17.41 7.96l-1.37-1.37c-.4-.4-.92-.59-1.43-.59-.52 0-1.04.2-1.43.59L10.3 9.45l-7.72 7.72c-.78.78-.78 2.05 0 2.83L4 21.41c.39.39.9.59 1.41.59.51 0 1.02-.2 1.41-.59l7.78-7.78 2.81-2.81c.8-.78.8-2.07 0-2.86zM5.41 20L4 18.59l7.72-7.72 1.47 1.35L5.41 20z\"/>\n",
              "  </svg>\n",
              "      </button>\n",
              "      \n",
              "  <style>\n",
              "    .colab-df-container {\n",
              "      display:flex;\n",
              "      flex-wrap:wrap;\n",
              "      gap: 12px;\n",
              "    }\n",
              "\n",
              "    .colab-df-convert {\n",
              "      background-color: #E8F0FE;\n",
              "      border: none;\n",
              "      border-radius: 50%;\n",
              "      cursor: pointer;\n",
              "      display: none;\n",
              "      fill: #1967D2;\n",
              "      height: 32px;\n",
              "      padding: 0 0 0 0;\n",
              "      width: 32px;\n",
              "    }\n",
              "\n",
              "    .colab-df-convert:hover {\n",
              "      background-color: #E2EBFA;\n",
              "      box-shadow: 0px 1px 2px rgba(60, 64, 67, 0.3), 0px 1px 3px 1px rgba(60, 64, 67, 0.15);\n",
              "      fill: #174EA6;\n",
              "    }\n",
              "\n",
              "    [theme=dark] .colab-df-convert {\n",
              "      background-color: #3B4455;\n",
              "      fill: #D2E3FC;\n",
              "    }\n",
              "\n",
              "    [theme=dark] .colab-df-convert:hover {\n",
              "      background-color: #434B5C;\n",
              "      box-shadow: 0px 1px 3px 1px rgba(0, 0, 0, 0.15);\n",
              "      filter: drop-shadow(0px 1px 2px rgba(0, 0, 0, 0.3));\n",
              "      fill: #FFFFFF;\n",
              "    }\n",
              "  </style>\n",
              "\n",
              "      <script>\n",
              "        const buttonEl =\n",
              "          document.querySelector('#df-d212a254-2ce3-4343-b047-2e5557cce426 button.colab-df-convert');\n",
              "        buttonEl.style.display =\n",
              "          google.colab.kernel.accessAllowed ? 'block' : 'none';\n",
              "\n",
              "        async function convertToInteractive(key) {\n",
              "          const element = document.querySelector('#df-d212a254-2ce3-4343-b047-2e5557cce426');\n",
              "          const dataTable =\n",
              "            await google.colab.kernel.invokeFunction('convertToInteractive',\n",
              "                                                     [key], {});\n",
              "          if (!dataTable) return;\n",
              "\n",
              "          const docLinkHtml = 'Like what you see? Visit the ' +\n",
              "            '<a target=\"_blank\" href=https://colab.research.google.com/notebooks/data_table.ipynb>data table notebook</a>'\n",
              "            + ' to learn more about interactive tables.';\n",
              "          element.innerHTML = '';\n",
              "          dataTable['output_type'] = 'display_data';\n",
              "          await google.colab.output.renderOutput(dataTable, element);\n",
              "          const docLink = document.createElement('div');\n",
              "          docLink.innerHTML = docLinkHtml;\n",
              "          element.appendChild(docLink);\n",
              "        }\n",
              "      </script>\n",
              "    </div>\n",
              "  </div>\n",
              "  "
            ]
          },
          "metadata": {},
          "execution_count": 3
        }
      ]
    },
    {
      "cell_type": "code",
      "source": [
        "# Merge columns\n",
        "code['merged'] = code['Question'] + ' ' + code['Code_with_Error']\n",
        "code"
      ],
      "metadata": {
        "id": "7mT-b8HzZMnT"
      },
      "execution_count": null,
      "outputs": []
    },
    {
      "cell_type": "code",
      "source": [
        "# Fill missing values with empty strings\n",
        "code['merged'] = code['merged'].fillna('')"
      ],
      "metadata": {
        "id": "j0GvJsbsZO8a"
      },
      "execution_count": null,
      "outputs": []
    },
    {
      "cell_type": "code",
      "source": [
        "# Load the codeBert tokenizer and model\n",
        "tokenizer = AutoTokenizer.from_pretrained(\"microsoft/codebert-base\")\n",
        "codeBERT_model  = TFAutoModel.from_pretrained(\"microsoft/codebert-base\")\n"
      ],
      "metadata": {
        "colab": {
          "base_uri": "https://localhost:8080/",
          "height": 298,
          "referenced_widgets": [
            "37bb6ce9a4b141e2870d9862193cc552",
            "a1cd746a9c964c59a0a94f02315d025b",
            "9801c575ad814e43833627c0418b6baa",
            "139bd22bed87437585d8f8a0131641f7",
            "233ad9e55a144e3db998913f8ef9c91c",
            "cb49b7e3c63f4ebc8788b73018516b10",
            "2ea98061efd945a2b42080bcb286961f",
            "fa861acabfd24142a00777eb16e852a1",
            "51337629155f49fea0b7e9353e263ee5",
            "1cfbd4d31a38464587a07e9dc62f30f8",
            "de49822756a54616a2465d41fc21dae4",
            "620e3c2d5b5f487295b5388d7e0cabcf",
            "c62b4b4674a94489a40cb5dae60d921a",
            "b2e132b639db4e38b636feea9aaf8c90",
            "d8d91bb539e441ad98ae23018d20548f",
            "8ebd3bf43d684bf09ceb74b8b0175866",
            "66347ec4d87d4326b956867cc5d0b000",
            "f60e1ef884fd41f78645e48aeb9cd342",
            "20f2ce35343649568d8bbad1af6b7842",
            "8020cc48d4634f30bf9f21d6370c0d13",
            "7068f87de88242d59e8ce1738cd333c2",
            "2c43461794ec40749de751eb363ebc7f",
            "d5eb5e9e8b6d4569af919fd9ff2262e5",
            "cdcc90e5c7994e52add359a2ce901d11",
            "f87fd85032944bf4b0f7406da89191ce",
            "2c936a717a044f7f9b2c2fd334068028",
            "c8127bfdc0c14223a1a58ea60058c43f",
            "54e9e82a8e8b47b7970e0b9672ea148a",
            "ed12fd39b2d041bcb949f9b4c1d50aea",
            "bb70418623cc4ac5bdcf8ed95001d500",
            "1868321c969342218f86d47f0b1ce234",
            "547937b8d969445aa3db7dd3358c78d5",
            "62e5f1e967f34de0b83bb33de021df68",
            "9ef9efab6a5a4a6985327dfcb7eee467",
            "12570f784828438bb598da3e9621eba1",
            "9b646a35c02f4e59854e94b5c98e5b54",
            "7effcb4a59604bed9a1fedaede56029f",
            "a514000c32474d18afbd8ca91aab3c7c",
            "b6af4098578849c1bc5dab48bff174c7",
            "05814dff35de4c4989b23da23736405c",
            "dcd8a59af7be4851a37120831dc31620",
            "229d956b7af341529d021ca5dbf676b8",
            "c6100e8d3f3541bb8577019deaf68f6c",
            "eed137db174542208dbed96c02b8ea2d",
            "b1238a78b4ec42b5904dbbc4e900ceeb",
            "32a4492df7a54d508c05cc079a42acf4",
            "f829ed740d7c4e628df40700c43e9f8b",
            "0d5af151bf784f8fae1ba3850eab6a0a",
            "93a0c0c311294972a4d992d40ab7160d",
            "770b2919e1174768a48a49e0f341fa90",
            "09842cc022aa44b2917bbd64cad6e143",
            "be6a4327312349dd8e76b286e16c6e01",
            "d73215fb207941da9130cb2fc7e3910e",
            "e7275cd02f484cf6866cb4f4de7f977f",
            "d1f9dea4ae6f48b8864168fc582760e2",
            "6dfe203bd8b74ddfb0333ca2161b4294",
            "661a4074194c414f89e6dc621532d532",
            "7c8b012200fc4d32bd9cb9b1ed7253b1",
            "9fb7e5e12c3f45e1b795ec8afe3fe7a3",
            "5963aa26bb26426e998d6878b5031d03",
            "ce1f3786c49d48f5bef70c4ef7b2c82c",
            "57f802bc234544979696c70d985d9c38",
            "8a0c2d14a0ba4cd4a347fd5c766bb3d4",
            "3f51868fdadb4d6a8183999e768c410e",
            "e8d0414d25de4c28ad4f2baed147d045",
            "9bd4a1b828984ce8858241b8ed927faa"
          ]
        },
        "id": "CkZjDniB2B4J",
        "outputId": "60bfa6db-d1ee-4c1e-f7dc-7f30496d3a5d"
      },
      "execution_count": null,
      "outputs": [
        {
          "output_type": "display_data",
          "data": {
            "text/plain": [
              "Downloading (…)okenizer_config.json:   0%|          | 0.00/25.0 [00:00<?, ?B/s]"
            ],
            "application/vnd.jupyter.widget-view+json": {
              "version_major": 2,
              "version_minor": 0,
              "model_id": "37bb6ce9a4b141e2870d9862193cc552"
            }
          },
          "metadata": {}
        },
        {
          "output_type": "display_data",
          "data": {
            "text/plain": [
              "Downloading (…)lve/main/config.json:   0%|          | 0.00/498 [00:00<?, ?B/s]"
            ],
            "application/vnd.jupyter.widget-view+json": {
              "version_major": 2,
              "version_minor": 0,
              "model_id": "620e3c2d5b5f487295b5388d7e0cabcf"
            }
          },
          "metadata": {}
        },
        {
          "output_type": "display_data",
          "data": {
            "text/plain": [
              "Downloading (…)olve/main/vocab.json:   0%|          | 0.00/899k [00:00<?, ?B/s]"
            ],
            "application/vnd.jupyter.widget-view+json": {
              "version_major": 2,
              "version_minor": 0,
              "model_id": "d5eb5e9e8b6d4569af919fd9ff2262e5"
            }
          },
          "metadata": {}
        },
        {
          "output_type": "display_data",
          "data": {
            "text/plain": [
              "Downloading (…)olve/main/merges.txt:   0%|          | 0.00/456k [00:00<?, ?B/s]"
            ],
            "application/vnd.jupyter.widget-view+json": {
              "version_major": 2,
              "version_minor": 0,
              "model_id": "9ef9efab6a5a4a6985327dfcb7eee467"
            }
          },
          "metadata": {}
        },
        {
          "output_type": "display_data",
          "data": {
            "text/plain": [
              "Downloading (…)cial_tokens_map.json:   0%|          | 0.00/150 [00:00<?, ?B/s]"
            ],
            "application/vnd.jupyter.widget-view+json": {
              "version_major": 2,
              "version_minor": 0,
              "model_id": "b1238a78b4ec42b5904dbbc4e900ceeb"
            }
          },
          "metadata": {}
        },
        {
          "output_type": "display_data",
          "data": {
            "text/plain": [
              "Downloading tf_model.h5:   0%|          | 0.00/499M [00:00<?, ?B/s]"
            ],
            "application/vnd.jupyter.widget-view+json": {
              "version_major": 2,
              "version_minor": 0,
              "model_id": "6dfe203bd8b74ddfb0333ca2161b4294"
            }
          },
          "metadata": {}
        },
        {
          "output_type": "stream",
          "name": "stderr",
          "text": [
            "All model checkpoint layers were used when initializing TFRobertaModel.\n",
            "\n",
            "All the layers of TFRobertaModel were initialized from the model checkpoint at microsoft/codebert-base.\n",
            "If your task is similar to the task the model of the checkpoint was trained on, you can already use TFRobertaModel for predictions without further training.\n"
          ]
        }
      ]
    },
    {
      "cell_type": "code",
      "source": [
        "X_text = code[\"input_text\"].values\n",
        "y = code[\"target_text\"].values"
      ],
      "metadata": {
        "id": "EHiiI_tuf_n5"
      },
      "execution_count": null,
      "outputs": []
    },
    {
      "cell_type": "code",
      "source": [
        "# Tokenize and convert the textual data to vectors\n",
        "X_vectors = []\n",
        "for text in X_text:\n",
        "    inputs = tokenizer.encode_plus(text, add_special_tokens=True, return_tensors='tf', max_length=512, truncation=True)\n",
        "    input_ids = inputs['input_ids']\n",
        "    attention_mask = inputs['attention_mask']\n",
        "    output = codeBERT_model(input_ids, attention_mask=attention_mask)[0][:, 0, :]\n",
        "    X_vectors.append(output.numpy())"
      ],
      "metadata": {
        "id": "MqWFs4oN2q5N"
      },
      "execution_count": null,
      "outputs": []
    },
    {
      "cell_type": "code",
      "source": [
        "X_vectors = np.array(X_vectors)\n",
        "y = np.array(y)"
      ],
      "metadata": {
        "id": "Q8Yyzwl3gY5a"
      },
      "execution_count": null,
      "outputs": []
    },
    {
      "cell_type": "code",
      "source": [
        "X_vectors"
      ],
      "metadata": {
        "id": "j8qwfuRpaboZ",
        "colab": {
          "base_uri": "https://localhost:8080/"
        },
        "outputId": "6cb33be6-09cb-4b83-e587-57e10c1ee271"
      },
      "execution_count": null,
      "outputs": [
        {
          "output_type": "execute_result",
          "data": {
            "text/plain": [
              "array([[[-0.1931388 , -0.1241635 , -0.11120333, ...,  0.02692465,\n",
              "         -0.6377395 ,  0.5885658 ]],\n",
              "\n",
              "       [[-0.09221207, -0.09902756, -0.08449391, ..., -0.00878088,\n",
              "         -0.65689474,  0.55528694]],\n",
              "\n",
              "       [[-0.16865984, -0.1489583 , -0.0962953 , ...,  0.0385789 ,\n",
              "         -0.6582608 ,  0.56921524]],\n",
              "\n",
              "       ...,\n",
              "\n",
              "       [[-0.13114618, -0.14442287, -0.08315508, ..., -0.08174229,\n",
              "         -0.62384754,  0.46277085]],\n",
              "\n",
              "       [[-0.13488759, -0.15119776, -0.1321308 , ..., -0.08615353,\n",
              "         -0.6107922 ,  0.5144401 ]],\n",
              "\n",
              "       [[-0.18622437, -0.1219404 , -0.0988003 , ..., -0.10762602,\n",
              "         -0.6130126 ,  0.53850937]]], dtype=float32)"
            ]
          },
          "metadata": {},
          "execution_count": 8
        }
      ]
    },
    {
      "cell_type": "code",
      "source": [
        "\n",
        "# Split the data into train, validation, and test sets\n",
        "X_train, X_test, y_train, y_test = train_test_split(X_vectors, y, test_size=0.25, random_state=42)\n",
        "X_train, X_val, y_train, y_val = train_test_split(X_train, y_train, test_size=0.25, random_state=42)\n"
      ],
      "metadata": {
        "id": "mr6ioIZl3hTp"
      },
      "execution_count": null,
      "outputs": []
    },
    {
      "cell_type": "code",
      "source": [
        "\n",
        "# # Define the LSTM model\n",
        "# class LSTMModel(tf.keras.Model):\n",
        "#     def __init__(self, input_shape, hidden_size, output_size):\n",
        "#         super().__init__()\n",
        "#         self.lstm = tf.keras.layers.LSTM(hidden_size, input_shape=input_shape)\n",
        "#         self.fc = tf.keras.layers.Dense(output_size)\n",
        "\n",
        "#     def call(self, inputs):\n",
        "#         x = self.lstm(inputs)\n",
        "#         x = self.fc(x)\n",
        "#         return x\n",
        "\n",
        "\n",
        "# # Define the model\n",
        "# model = Sequential()\n",
        "# model.add(LSTM(128, input_shape=(train_vectors.shape[1], train_vectors.shape[2])))\n",
        "# model.add(Dropout(0.2))\n",
        "# model.add(Dense(1, activation='sigmoid'))\n",
        "\n",
        "\n",
        "# Build the LSTM model\n",
        "input_layer = Input(shape=(X_vectors.shape[1], X_vectors.shape[2]))\n",
        "lstm_layer1 = LSTM(units=128, dropout=0.2, recurrent_dropout=0.2)(input_layer)\n",
        "output_layer = Dense(units=1, activation='relu')(lstm_layer1)\n",
        "model = Model(inputs=input_layer, outputs=output_layer)"
      ],
      "metadata": {
        "id": "Jc7wA5I43t6n"
      },
      "execution_count": null,
      "outputs": []
    },
    {
      "cell_type": "code",
      "source": [
        "model.summary()"
      ],
      "metadata": {
        "id": "LjkDsashNBj4",
        "colab": {
          "base_uri": "https://localhost:8080/"
        },
        "outputId": "d6e6ce24-2fec-4f98-a363-58f3d3f2e063"
      },
      "execution_count": null,
      "outputs": [
        {
          "output_type": "stream",
          "name": "stdout",
          "text": [
            "Model: \"model\"\n",
            "_________________________________________________________________\n",
            " Layer (type)                Output Shape              Param #   \n",
            "=================================================================\n",
            " input_1 (InputLayer)        [(None, 1, 768)]          0         \n",
            "                                                                 \n",
            " lstm (LSTM)                 (None, 128)               459264    \n",
            "                                                                 \n",
            " dense (Dense)               (None, 1)                 129       \n",
            "                                                                 \n",
            "=================================================================\n",
            "Total params: 459,393\n",
            "Trainable params: 459,393\n",
            "Non-trainable params: 0\n",
            "_________________________________________________________________\n"
          ]
        }
      ]
    },
    {
      "cell_type": "code",
      "source": [
        "# # Create TensorFlow datasets\n",
        "# train_dataset = tf.data.Dataset.from_tensor_slices((train_vectors, train_targets))\n",
        "# train_dataset = train_dataset.batch(batch_size)\n"
      ],
      "metadata": {
        "id": "0mWuikQs3824"
      },
      "execution_count": null,
      "outputs": []
    },
    {
      "cell_type": "code",
      "source": [
        "# # Compile the model\n",
        "# model = LSTMModel(input_shape, hidden_size, output_size)\n",
        "# model.compile(optimizer=tf.keras.optimizers.Adam(learning_rate),\n",
        "#               loss='mean_squared_error',\n",
        "#               metrics=['mae', 'mape', 'mse', 'r2'])\n",
        "\n",
        "# # Compile the model with appropriate optimizer and regularization\n",
        "# model.compile(optimizer='adam', loss='mse', metrics=['mse'])\n",
        "\n",
        "\n",
        "# Compile the model\n",
        "optimizer = tf.keras.optimizers.Adam(learning_rate=1e-3)\n",
        "model.compile(optimizer=optimizer, loss='mse', metrics=['mae', 'mape', 'mse'])\n"
      ],
      "metadata": {
        "id": "XO4Oo6yy3-pL"
      },
      "execution_count": null,
      "outputs": []
    },
    {
      "cell_type": "code",
      "source": [
        "# Train the model\n",
        "early_stopping = EarlyStopping(monitor='val_loss', mode='min', verbose=1, patience=5)\n",
        "history = model.fit(X_train, y_train, validation_data=(X_val, y_val), epochs=50, callbacks=[early_stopping])"
      ],
      "metadata": {
        "id": "kIz7m1dESbWH",
        "colab": {
          "base_uri": "https://localhost:8080/"
        },
        "outputId": "2a52ee67-a699-43ec-a22e-06fa38233e66"
      },
      "execution_count": null,
      "outputs": [
        {
          "output_type": "stream",
          "name": "stdout",
          "text": [
            "Epoch 1/50\n",
            "14/14 [==============================] - 4s 47ms/step - loss: 20.4741 - mae: 3.7519 - mape: 50.4505 - mse: 20.4741 - val_loss: 4.7657 - val_mae: 1.7108 - val_mape: 36.6276 - val_mse: 4.7657\n",
            "Epoch 2/50\n",
            "14/14 [==============================] - 0s 14ms/step - loss: 5.1495 - mae: 1.7943 - mape: 35.5019 - mse: 5.1495 - val_loss: 5.0650 - val_mae: 1.7324 - val_mape: 38.3554 - val_mse: 5.0650\n",
            "Epoch 3/50\n",
            "14/14 [==============================] - 0s 16ms/step - loss: 4.8017 - mae: 1.7876 - mape: 33.9246 - mse: 4.8017 - val_loss: 4.6728 - val_mae: 1.7680 - val_mape: 36.0332 - val_mse: 4.6728\n",
            "Epoch 4/50\n",
            "14/14 [==============================] - 0s 15ms/step - loss: 4.6558 - mae: 1.8387 - mape: 32.8733 - mse: 4.6558 - val_loss: 4.6777 - val_mae: 1.7928 - val_mape: 35.8520 - val_mse: 4.6777\n",
            "Epoch 5/50\n",
            "14/14 [==============================] - 0s 14ms/step - loss: 4.6567 - mae: 1.8466 - mape: 32.8845 - mse: 4.6567 - val_loss: 4.6659 - val_mae: 1.7741 - val_mape: 35.9530 - val_mse: 4.6659\n",
            "Epoch 6/50\n",
            "14/14 [==============================] - 0s 15ms/step - loss: 4.6568 - mae: 1.8275 - mape: 33.0809 - mse: 4.6568 - val_loss: 4.6637 - val_mae: 1.7621 - val_mape: 36.0133 - val_mse: 4.6637\n",
            "Epoch 7/50\n",
            "14/14 [==============================] - 0s 13ms/step - loss: 4.6442 - mae: 1.8314 - mape: 33.0041 - mse: 4.6442 - val_loss: 4.6562 - val_mae: 1.7725 - val_mape: 35.9064 - val_mse: 4.6562\n",
            "Epoch 8/50\n",
            "14/14 [==============================] - 0s 15ms/step - loss: 4.6520 - mae: 1.8353 - mape: 32.9855 - mse: 4.6520 - val_loss: 4.6529 - val_mae: 1.7621 - val_mape: 35.9515 - val_mse: 4.6529\n",
            "Epoch 9/50\n",
            "14/14 [==============================] - 0s 16ms/step - loss: 4.6476 - mae: 1.8281 - mape: 33.0152 - mse: 4.6476 - val_loss: 4.6444 - val_mae: 1.7644 - val_mape: 35.8905 - val_mse: 4.6444\n",
            "Epoch 10/50\n",
            "14/14 [==============================] - 0s 14ms/step - loss: 4.6324 - mae: 1.8212 - mape: 33.0233 - mse: 4.6324 - val_loss: 4.6469 - val_mae: 1.7462 - val_mape: 35.9818 - val_mse: 4.6469\n",
            "Epoch 11/50\n",
            "14/14 [==============================] - 0s 16ms/step - loss: 4.6142 - mae: 1.8189 - mape: 32.9231 - mse: 4.6142 - val_loss: 4.6257 - val_mae: 1.7725 - val_mape: 35.7190 - val_mse: 4.6257\n",
            "Epoch 12/50\n",
            "14/14 [==============================] - 0s 14ms/step - loss: 4.6374 - mae: 1.8492 - mape: 32.7168 - mse: 4.6374 - val_loss: 4.6128 - val_mae: 1.7668 - val_mape: 35.6852 - val_mse: 4.6128\n",
            "Epoch 13/50\n",
            "14/14 [==============================] - 0s 14ms/step - loss: 4.6104 - mae: 1.8190 - mape: 32.8807 - mse: 4.6104 - val_loss: 4.6049 - val_mae: 1.7461 - val_mape: 35.7539 - val_mse: 4.6049\n",
            "Epoch 14/50\n",
            "14/14 [==============================] - 0s 16ms/step - loss: 4.5932 - mae: 1.8233 - mape: 32.7202 - mse: 4.5932 - val_loss: 4.5827 - val_mae: 1.7539 - val_mape: 35.5922 - val_mse: 4.5827\n",
            "Epoch 15/50\n",
            "14/14 [==============================] - 0s 14ms/step - loss: 4.5721 - mae: 1.8132 - mape: 32.7388 - mse: 4.5721 - val_loss: 4.5663 - val_mae: 1.7520 - val_mape: 35.5067 - val_mse: 4.5663\n",
            "Epoch 16/50\n",
            "14/14 [==============================] - 0s 15ms/step - loss: 4.5639 - mae: 1.8215 - mape: 32.5902 - mse: 4.5639 - val_loss: 4.5479 - val_mae: 1.7459 - val_mape: 35.4318 - val_mse: 4.5479\n",
            "Epoch 17/50\n",
            "14/14 [==============================] - 0s 14ms/step - loss: 4.5746 - mae: 1.7896 - mape: 32.8162 - mse: 4.5746 - val_loss: 4.5297 - val_mae: 1.7429 - val_mape: 35.3421 - val_mse: 4.5297\n",
            "Epoch 18/50\n",
            "14/14 [==============================] - 0s 16ms/step - loss: 4.5227 - mae: 1.8308 - mape: 32.1220 - mse: 4.5227 - val_loss: 4.5068 - val_mae: 1.7489 - val_mape: 35.1595 - val_mse: 4.5068\n",
            "Epoch 19/50\n",
            "14/14 [==============================] - 0s 16ms/step - loss: 4.5353 - mae: 1.7854 - mape: 32.5874 - mse: 4.5353 - val_loss: 4.4947 - val_mae: 1.7205 - val_mape: 35.2279 - val_mse: 4.4947\n",
            "Epoch 20/50\n",
            "14/14 [==============================] - 0s 16ms/step - loss: 4.5238 - mae: 1.8170 - mape: 32.2507 - mse: 4.5238 - val_loss: 4.4782 - val_mae: 1.7125 - val_mape: 35.1600 - val_mse: 4.4782\n",
            "Epoch 21/50\n",
            "14/14 [==============================] - 0s 14ms/step - loss: 4.4887 - mae: 1.7868 - mape: 32.3916 - mse: 4.4887 - val_loss: 4.4497 - val_mae: 1.7164 - val_mape: 34.9780 - val_mse: 4.4497\n",
            "Epoch 22/50\n",
            "14/14 [==============================] - 0s 14ms/step - loss: 4.4578 - mae: 1.7745 - mape: 32.2980 - mse: 4.4578 - val_loss: 4.4216 - val_mae: 1.7262 - val_mape: 34.7587 - val_mse: 4.4216\n",
            "Epoch 23/50\n",
            "14/14 [==============================] - 0s 16ms/step - loss: 4.5446 - mae: 1.8327 - mape: 32.1123 - mse: 4.5446 - val_loss: 4.4284 - val_mae: 1.6979 - val_mape: 34.9686 - val_mse: 4.4284\n",
            "Epoch 24/50\n",
            "14/14 [==============================] - 0s 15ms/step - loss: 4.4509 - mae: 1.8091 - mape: 31.8880 - mse: 4.4509 - val_loss: 4.4057 - val_mae: 1.6980 - val_mape: 34.8282 - val_mse: 4.4057\n",
            "Epoch 25/50\n",
            "14/14 [==============================] - 0s 15ms/step - loss: 4.4234 - mae: 1.7782 - mape: 32.1517 - mse: 4.4234 - val_loss: 4.3727 - val_mae: 1.7283 - val_mape: 34.3554 - val_mse: 4.3727\n",
            "Epoch 26/50\n",
            "14/14 [==============================] - 0s 14ms/step - loss: 4.3574 - mae: 1.7799 - mape: 31.6296 - mse: 4.3574 - val_loss: 4.3616 - val_mae: 1.6905 - val_mape: 34.6194 - val_mse: 4.3616\n",
            "Epoch 27/50\n",
            "14/14 [==============================] - 0s 15ms/step - loss: 4.3496 - mae: 1.7776 - mape: 31.5667 - mse: 4.3496 - val_loss: 4.3299 - val_mae: 1.6967 - val_mape: 34.3524 - val_mse: 4.3299\n",
            "Epoch 28/50\n",
            "14/14 [==============================] - 0s 16ms/step - loss: 4.3122 - mae: 1.7474 - mape: 31.5645 - mse: 4.3122 - val_loss: 4.3239 - val_mae: 1.6825 - val_mape: 34.4496 - val_mse: 4.3239\n",
            "Epoch 29/50\n",
            "14/14 [==============================] - 0s 14ms/step - loss: 4.3062 - mae: 1.7816 - mape: 30.9360 - mse: 4.3062 - val_loss: 4.4404 - val_mae: 1.6772 - val_mape: 35.3690 - val_mse: 4.4404\n",
            "Epoch 30/50\n",
            "14/14 [==============================] - 0s 15ms/step - loss: 4.4131 - mae: 1.7349 - mape: 32.3053 - mse: 4.4131 - val_loss: 4.3329 - val_mae: 1.7457 - val_mape: 33.3828 - val_mse: 4.3329\n",
            "Epoch 31/50\n",
            "14/14 [==============================] - 0s 15ms/step - loss: 4.3713 - mae: 1.7795 - mape: 31.2927 - mse: 4.3713 - val_loss: 4.3494 - val_mae: 1.6704 - val_mape: 34.7254 - val_mse: 4.3494\n",
            "Epoch 32/50\n",
            "14/14 [==============================] - 0s 15ms/step - loss: 4.2630 - mae: 1.7538 - mape: 31.1239 - mse: 4.2630 - val_loss: 4.2599 - val_mae: 1.6785 - val_mape: 33.9525 - val_mse: 4.2599\n",
            "Epoch 33/50\n",
            "14/14 [==============================] - 0s 16ms/step - loss: 4.1848 - mae: 1.7121 - mape: 31.1061 - mse: 4.1848 - val_loss: 4.2291 - val_mae: 1.6966 - val_mape: 33.3203 - val_mse: 4.2291\n",
            "Epoch 34/50\n",
            "14/14 [==============================] - 0s 15ms/step - loss: 4.2045 - mae: 1.7359 - mape: 30.7460 - mse: 4.2045 - val_loss: 4.2102 - val_mae: 1.6752 - val_mape: 33.5789 - val_mse: 4.2102\n",
            "Epoch 35/50\n",
            "14/14 [==============================] - 0s 15ms/step - loss: 4.2367 - mae: 1.7527 - mape: 30.7405 - mse: 4.2367 - val_loss: 4.2922 - val_mae: 1.6627 - val_mape: 34.4447 - val_mse: 4.2922\n",
            "Epoch 36/50\n",
            "14/14 [==============================] - 0s 22ms/step - loss: 4.1852 - mae: 1.7233 - mape: 30.7686 - mse: 4.1852 - val_loss: 4.1938 - val_mae: 1.6728 - val_mape: 33.4155 - val_mse: 4.1938\n",
            "Epoch 37/50\n",
            "14/14 [==============================] - 0s 23ms/step - loss: 4.2415 - mae: 1.7402 - mape: 30.7914 - mse: 4.2415 - val_loss: 4.1843 - val_mae: 1.6766 - val_mape: 33.1885 - val_mse: 4.1843\n",
            "Epoch 38/50\n",
            "14/14 [==============================] - 0s 22ms/step - loss: 4.0902 - mae: 1.6946 - mape: 30.4514 - mse: 4.0902 - val_loss: 4.1883 - val_mae: 1.6667 - val_mape: 33.4515 - val_mse: 4.1883\n",
            "Epoch 39/50\n",
            "14/14 [==============================] - 0s 23ms/step - loss: 4.1788 - mae: 1.7285 - mape: 30.4391 - mse: 4.1788 - val_loss: 4.1515 - val_mae: 1.6688 - val_mape: 32.9495 - val_mse: 4.1515\n",
            "Epoch 40/50\n",
            "14/14 [==============================] - 0s 23ms/step - loss: 4.0855 - mae: 1.7041 - mape: 29.8465 - mse: 4.0855 - val_loss: 4.2129 - val_mae: 1.6583 - val_mape: 33.8142 - val_mse: 4.2129\n",
            "Epoch 41/50\n",
            "14/14 [==============================] - 0s 26ms/step - loss: 4.1334 - mae: 1.7126 - mape: 30.1809 - mse: 4.1334 - val_loss: 4.2339 - val_mae: 1.6619 - val_mape: 34.0029 - val_mse: 4.2339\n",
            "Epoch 42/50\n",
            "14/14 [==============================] - 0s 28ms/step - loss: 4.1056 - mae: 1.7016 - mape: 29.8209 - mse: 4.1056 - val_loss: 4.4958 - val_mae: 1.6845 - val_mape: 35.5244 - val_mse: 4.4958\n",
            "Epoch 43/50\n",
            "14/14 [==============================] - 0s 23ms/step - loss: 4.0862 - mae: 1.6985 - mape: 30.1014 - mse: 4.0862 - val_loss: 4.1286 - val_mae: 1.6620 - val_mape: 32.8319 - val_mse: 4.1286\n",
            "Epoch 44/50\n",
            "14/14 [==============================] - 0s 27ms/step - loss: 4.0508 - mae: 1.6957 - mape: 29.7565 - mse: 4.0508 - val_loss: 4.1861 - val_mae: 1.6623 - val_mape: 33.5629 - val_mse: 4.1861\n",
            "Epoch 45/50\n",
            "14/14 [==============================] - 0s 26ms/step - loss: 4.0065 - mae: 1.6549 - mape: 29.6127 - mse: 4.0065 - val_loss: 4.3652 - val_mae: 1.7574 - val_mape: 31.4091 - val_mse: 4.3652\n",
            "Epoch 46/50\n",
            "14/14 [==============================] - 0s 23ms/step - loss: 4.1455 - mae: 1.6971 - mape: 29.7102 - mse: 4.1455 - val_loss: 4.1794 - val_mae: 1.6651 - val_mape: 33.4176 - val_mse: 4.1794\n",
            "Epoch 47/50\n",
            "14/14 [==============================] - 0s 27ms/step - loss: 3.9666 - mae: 1.6879 - mape: 29.1015 - mse: 3.9666 - val_loss: 4.1391 - val_mae: 1.6641 - val_mape: 32.9802 - val_mse: 4.1391\n",
            "Epoch 48/50\n",
            "14/14 [==============================] - 0s 16ms/step - loss: 3.9899 - mae: 1.6753 - mape: 29.5239 - mse: 3.9899 - val_loss: 4.1556 - val_mae: 1.6633 - val_mape: 33.2377 - val_mse: 4.1556\n",
            "Epoch 48: early stopping\n"
          ]
        }
      ]
    },
    {
      "cell_type": "code",
      "source": [
        "# Evaluate the model on train and test sets\n",
        "feature_model = Model(inputs=model.inputs, outputs=model.layers[-2].output)\n",
        "X_train_features = feature_model.predict(X_train)\n",
        "X_test_features = feature_model.predict(X_test)\n"
      ],
      "metadata": {
        "id": "ClkyJMkfgy4z",
        "colab": {
          "base_uri": "https://localhost:8080/"
        },
        "outputId": "ac21c055-d784-495c-96b3-0dc1bf4e6512"
      },
      "execution_count": null,
      "outputs": [
        {
          "output_type": "stream",
          "name": "stdout",
          "text": [
            "14/14 [==============================] - 0s 3ms/step\n",
            "6/6 [==============================] - 0s 4ms/step\n"
          ]
        }
      ]
    },
    {
      "cell_type": "code",
      "source": [
        "from sklearn.linear_model import LinearRegression\n",
        "#from sklearn.ensemble import RandomForestRegressor\n",
        "from xgboost import XGBRegressor\n",
        "from  .linear_model import RidgeCV\n",
        "\n",
        "#regressor_model = #Regressor() \n",
        "regressor_model=RidgeCV()"
      ],
      "metadata": {
        "id": "4Vi9PXtr_7Tm"
      },
      "execution_count": null,
      "outputs": []
    },
    {
      "cell_type": "code",
      "source": [
        "regressor_model.fit(X_train_features, y_train)"
      ],
      "metadata": {
        "id": "UrW1410aADf0",
        "colab": {
          "base_uri": "https://localhost:8080/",
          "height": 74
        },
        "outputId": "b6f07e11-2494-44a4-a031-917ae938d796"
      },
      "execution_count": null,
      "outputs": [
        {
          "output_type": "execute_result",
          "data": {
            "text/plain": [
              "RidgeCV()"
            ],
            "text/html": [
              "<style>#sk-container-id-1 {color: black;background-color: white;}#sk-container-id-1 pre{padding: 0;}#sk-container-id-1 div.sk-toggleable {background-color: white;}#sk-container-id-1 label.sk-toggleable__label {cursor: pointer;display: block;width: 100%;margin-bottom: 0;padding: 0.3em;box-sizing: border-box;text-align: center;}#sk-container-id-1 label.sk-toggleable__label-arrow:before {content: \"▸\";float: left;margin-right: 0.25em;color: #696969;}#sk-container-id-1 label.sk-toggleable__label-arrow:hover:before {color: black;}#sk-container-id-1 div.sk-estimator:hover label.sk-toggleable__label-arrow:before {color: black;}#sk-container-id-1 div.sk-toggleable__content {max-height: 0;max-width: 0;overflow: hidden;text-align: left;background-color: #f0f8ff;}#sk-container-id-1 div.sk-toggleable__content pre {margin: 0.2em;color: black;border-radius: 0.25em;background-color: #f0f8ff;}#sk-container-id-1 input.sk-toggleable__control:checked~div.sk-toggleable__content {max-height: 200px;max-width: 100%;overflow: auto;}#sk-container-id-1 input.sk-toggleable__control:checked~label.sk-toggleable__label-arrow:before {content: \"▾\";}#sk-container-id-1 div.sk-estimator input.sk-toggleable__control:checked~label.sk-toggleable__label {background-color: #d4ebff;}#sk-container-id-1 div.sk-label input.sk-toggleable__control:checked~label.sk-toggleable__label {background-color: #d4ebff;}#sk-container-id-1 input.sk-hidden--visually {border: 0;clip: rect(1px 1px 1px 1px);clip: rect(1px, 1px, 1px, 1px);height: 1px;margin: -1px;overflow: hidden;padding: 0;position: absolute;width: 1px;}#sk-container-id-1 div.sk-estimator {font-family: monospace;background-color: #f0f8ff;border: 1px dotted black;border-radius: 0.25em;box-sizing: border-box;margin-bottom: 0.5em;}#sk-container-id-1 div.sk-estimator:hover {background-color: #d4ebff;}#sk-container-id-1 div.sk-parallel-item::after {content: \"\";width: 100%;border-bottom: 1px solid gray;flex-grow: 1;}#sk-container-id-1 div.sk-label:hover label.sk-toggleable__label {background-color: #d4ebff;}#sk-container-id-1 div.sk-serial::before {content: \"\";position: absolute;border-left: 1px solid gray;box-sizing: border-box;top: 0;bottom: 0;left: 50%;z-index: 0;}#sk-container-id-1 div.sk-serial {display: flex;flex-direction: column;align-items: center;background-color: white;padding-right: 0.2em;padding-left: 0.2em;position: relative;}#sk-container-id-1 div.sk-item {position: relative;z-index: 1;}#sk-container-id-1 div.sk-parallel {display: flex;align-items: stretch;justify-content: center;background-color: white;position: relative;}#sk-container-id-1 div.sk-item::before, #sk-container-id-1 div.sk-parallel-item::before {content: \"\";position: absolute;border-left: 1px solid gray;box-sizing: border-box;top: 0;bottom: 0;left: 50%;z-index: -1;}#sk-container-id-1 div.sk-parallel-item {display: flex;flex-direction: column;z-index: 1;position: relative;background-color: white;}#sk-container-id-1 div.sk-parallel-item:first-child::after {align-self: flex-end;width: 50%;}#sk-container-id-1 div.sk-parallel-item:last-child::after {align-self: flex-start;width: 50%;}#sk-container-id-1 div.sk-parallel-item:only-child::after {width: 0;}#sk-container-id-1 div.sk-dashed-wrapped {border: 1px dashed gray;margin: 0 0.4em 0.5em 0.4em;box-sizing: border-box;padding-bottom: 0.4em;background-color: white;}#sk-container-id-1 div.sk-label label {font-family: monospace;font-weight: bold;display: inline-block;line-height: 1.2em;}#sk-container-id-1 div.sk-label-container {text-align: center;}#sk-container-id-1 div.sk-container {/* jupyter's `normalize.less` sets `[hidden] { display: none; }` but bootstrap.min.css set `[hidden] { display: none !important; }` so we also need the `!important` here to be able to override the default hidden behavior on the sphinx rendered scikit-learn.org. See: https://github.com/scikit-learn/scikit-learn/issues/21755 */display: inline-block !important;position: relative;}#sk-container-id-1 div.sk-text-repr-fallback {display: none;}</style><div id=\"sk-container-id-1\" class=\"sk-top-container\"><div class=\"sk-text-repr-fallback\"><pre>RidgeCV()</pre><b>In a Jupyter environment, please rerun this cell to show the HTML representation or trust the notebook. <br />On GitHub, the HTML representation is unable to render, please try loading this page with nbviewer.org.</b></div><div class=\"sk-container\" hidden><div class=\"sk-item\"><div class=\"sk-estimator sk-toggleable\"><input class=\"sk-toggleable__control sk-hidden--visually\" id=\"sk-estimator-id-1\" type=\"checkbox\" checked><label for=\"sk-estimator-id-1\" class=\"sk-toggleable__label sk-toggleable__label-arrow\">RidgeCV</label><div class=\"sk-toggleable__content\"><pre>RidgeCV()</pre></div></div></div></div></div>"
            ]
          },
          "metadata": {},
          "execution_count": 17
        }
      ]
    },
    {
      "cell_type": "code",
      "source": [
        "y_train_pred = regressor_model.predict(X_train_features)\n",
        "y_test_pred = regressor_model.predict(X_test_features)\n"
      ],
      "metadata": {
        "id": "0mmB4P-sAI9z"
      },
      "execution_count": null,
      "outputs": []
    },
    {
      "cell_type": "code",
      "source": [
        "\n",
        "rmse_train = sqrt(mean_squared_error(y_train, y_train_pred))\n",
        "rmse_test = sqrt(mean_squared_error(y_test, y_test_pred))\n",
        "mae_train = mean_absolute_error(y_train, y_train_pred)\n",
        "mae_test = mean_absolute_error(y_test, y_test_pred)\n",
        "mape_train = np.mean(np.abs((y_train - y_train_pred) / y_train)) * 100\n",
        "mape_test = np.mean(np.abs((y_test - y_test_pred) / y_test)) * 100\n",
        "r2_train = r2_score(y_train, y_train_pred)\n",
        "r2_test = r2_score(y_test, y_test_pred)"
      ],
      "metadata": {
        "id": "qIUQgfL8g08P"
      },
      "execution_count": null,
      "outputs": []
    },
    {
      "cell_type": "code",
      "source": [
        "print(\"Train set results:\")\n",
        "print(\"RMSE: \", rmse_train)\n",
        "print(\"MAE: \", mae_train)\n",
        "print(\"MAPE: \", mape_train)\n",
        "print(\"R2 score: \", r2_train)\n",
        "      \n",
        "print(\"Test set results:\")\n",
        "print(\"RMSE: \", rmse_test)\n",
        "print(\"MAE: \", mae_test)\n",
        "print(\"MAPE: \", mape_test)\n",
        "print(\"R2 score: \", r2_test)"
      ],
      "metadata": {
        "id": "njd9vovCg1eP",
        "colab": {
          "base_uri": "https://localhost:8080/"
        },
        "outputId": "85678486-d54e-49a1-e00b-e0a47e18fe7b"
      },
      "execution_count": null,
      "outputs": [
        {
          "output_type": "stream",
          "name": "stdout",
          "text": [
            "Train set results:\n",
            "RMSE:  1.861969954894077\n",
            "MAE:  1.5327899381308587\n",
            "MAPE:  26.165631612684276\n",
            "R2 score:  0.2606807460709216\n",
            "Test set results:\n",
            "RMSE:  2.105885824275061\n",
            "MAE:  1.7416271628401574\n",
            "MAPE:  29.967627073752446\n",
            "R2 score:  0.09926675547995112\n"
          ]
        }
      ]
    },
    {
      "cell_type": "code",
      "source": [
        "# Plot the loss curves\n",
        "import matplotlib.pyplot as plt\n",
        "plt.plot(history.history['loss'], label='Training Loss')\n",
        "plt.plot(history.history['val_loss'], label='Validation Loss')\n",
        "plt.xlabel('Epoch')\n",
        "plt.ylabel('Loss')\n",
        "plt.title('LSTM with Random Forest')\n",
        "plt.legend()\n",
        "plt.show()"
      ],
      "metadata": {
        "id": "mXw6-sxKhGTa",
        "colab": {
          "base_uri": "https://localhost:8080/",
          "height": 472
        },
        "outputId": "a0e626c5-f2e6-4632-bac1-4765307565e9"
      },
      "execution_count": null,
      "outputs": [
        {
          "output_type": "display_data",
          "data": {
            "text/plain": [
              "<Figure size 640x480 with 1 Axes>"
            ],
            "image/png": "[encoded data removed]"
          },
          "metadata": {}
        }
      ]
    },
    {
      "cell_type": "code",
      "source": [
        "# Determine the optimal number of epochs\n",
        "optimal_epochs = np.argmin(history.history['val_loss']) + 1\n",
        "print(\"Optimal number of epochs: \", optimal_epochs)"
      ],
      "metadata": {
        "id": "XSIjNDLhiQaZ",
        "colab": {
          "base_uri": "https://localhost:8080/"
        },
        "outputId": "102f6509-ee37-4d7f-c175-4b37c3542d95"
      },
      "execution_count": null,
      "outputs": [
        {
          "output_type": "stream",
          "name": "stdout",
          "text": [
            "Optimal number of epochs:  43\n"
          ]
        }
      ]
    },
    {
      "cell_type": "code",
      "source": [
        "import pandas as pd\n",
        "import seaborn as sns\n",
        "import matplotlib.pyplot as plt\n",
        "data = {'Random Forest': [0.70,1.90],\n",
        "        'CNN': [1.87,2.09],\n",
        "        'CNN with Random Forest': [0.72,2.16],\n",
        "        'LSTM': [1.99,2.13],\n",
        "        'LSTM with Random Forest': [0.74,1.95]}\n",
        "df = pd.DataFrame(data)\n",
        "df1 = df.melt(var_name='Root Mean Squared Error (RMSE)', value_name='Set')\n",
        "sns.countplot(x='Root Mean Squared Error (RMSE)', hue='Set', data=df1)\n",
        "plt.show()"
      ],
      "metadata": {
        "colab": {
          "base_uri": "https://localhost:8080/",
          "height": 449
        },
        "id": "ZF3rE5g483jY",
        "outputId": "1c42643e-a224-4a74-df34-10a54cce92c5"
      },
      "execution_count": null,
      "outputs": [
        {
          "output_type": "display_data",
          "data": {
            "text/plain": [
              "<Figure size 640x480 with 1 Axes>"
            ],
            "image/png": "[encoded data removed]"
          },
          "metadata": {}
        }
      ]
    },
    {
      "cell_type": "code",
      "source": [
        "df = pd.DataFrame({\n",
        "    'Model vs RMSE value': ['Random Forest(RF)','CNN','CNN with RF','LSTM with RF','LSTM'],\n",
        "        'Train': [0.8937,0.25,0.89,0.8808833929107769,0.15876747921481615],\n",
        "\n",
        "    'Test': [0.2636,0.11,0.05,0.20899263342681007,0.07105510704396634]\n",
        "\n",
        "})\n",
        "  \n",
        "# plotting graph\n",
        "df.plot(x=\"Model vs RMSE value\", y=[\"Train\", \"Test\"], kind=\"bar\")\n",
        "plt.xlabel('Model')\n",
        "plt.ylabel('R2 score')"
      ],
      "metadata": {
        "colab": {
          "base_uri": "https://localhost:8080/",
          "height": 586
        },
        "id": "dYuWgEtX-psA",
        "outputId": "0e95ce64-784e-4c2c-ff51-a5409e04f13c"
      },
      "execution_count": null,
      "outputs": [
        {
          "output_type": "execute_result",
          "data": {
            "text/plain": [
              "Text(0, 0.5, 'R2 score')"
            ]
          },
          "metadata": {},
          "execution_count": 24
        },
        {
          "output_type": "display_data",
          "data": {
            "text/plain": [
              "<Figure size 640x480 with 1 Axes>"
            ],
            "image/png": "[encoded data removed]"
          },
          "metadata": {}
        }
      ]
    },
    {
      "cell_type": "code",
      "source": [
        "df = pd.DataFrame({\n",
        "    'Model vs R2 value': ['Random Forest(RF)','CNN','CNN with RF','LSTM','LSTM with RF'],\n",
        "        'Test': [0.2636,0.11,0.05,0.07105510704396634,0.20899263342681007],\n",
        "\n",
        "    'Train': [0.8937,0.25,0.89,0.15876747921481615,0.8808833929107769]\n",
        "})\n",
        "\n",
        "ax = df.plot(x=\"Model vs R2 value\", y=\"Train\", kind=\"bar\")\n",
        "# plotting age on the same axis\n",
        "df.plot(x=\"Model vs R2 value\", y=\"Test\", kind=\"bar\", ax=ax, color=\"red\",legend=\"Model vs RMSE value\")"
      ],
      "metadata": {
        "colab": {
          "base_uri": "https://localhost:8080/",
          "height": 586
        },
        "id": "f92jIUuXAaUt",
        "outputId": "8370887a-56ad-4b27-8730-febb0cfd1ff4"
      },
      "execution_count": null,
      "outputs": [
        {
          "output_type": "execute_result",
          "data": {
            "text/plain": [
              "<Axes: xlabel='Model vs R2 value'>"
            ]
          },
          "metadata": {},
          "execution_count": 25
        },
        {
          "output_type": "display_data",
          "data": {
            "text/plain": [
              "<Figure size 640x480 with 1 Axes>"
            ],
            "image/png": "[encoded data removed]"
          },
          "metadata": {}
        }
      ]
    },
    {
      "cell_type": "code",
      "source": [
        "df = pd.DataFrame({\n",
        "    'Model vs R2 value': ['Random Forest(RF)','KNN','XGBoost','Ridge'],\n",
        "        'Train': [0.891183,0.428,0.9855,0.506],\n",
        "\n",
        "    'Test': [0.272935,0.161409,0.124931,0.229839]\n",
        "\n",
        "})\n",
        "  \n",
        "# plotting graph\n",
        "df.plot(x=\"Model vs R2 value\", y=[\"Train\", \"Test\"], kind=\"bar\")\n",
        "plt.xlabel('ML Model')\n",
        "plt.ylabel('R2 score')"
      ],
      "metadata": {
        "colab": {
          "base_uri": "https://localhost:8080/",
          "height": 586
        },
        "id": "6FLxvXKZZ0Rx",
        "outputId": "b1bf5013-4876-47c4-c592-d356d5656dd6"
      },
      "execution_count": null,
      "outputs": [
        {
          "output_type": "execute_result",
          "data": {
            "text/plain": [
              "Text(0, 0.5, 'R2 score')"
            ]
          },
          "metadata": {},
          "execution_count": 26
        },
        {
          "output_type": "display_data",
          "data": {
            "text/plain": [
              "<Figure size 640x480 with 1 Axes>"
            ],
            "image/png": "[encoded data removed]"
          },
          "metadata": {}
        }
      ]
    }
  ]
}