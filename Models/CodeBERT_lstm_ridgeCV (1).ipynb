{
  "nbformat": 4,
  "nbformat_minor": 0,
  "metadata": {
    "colab": {
      "provenance": [],
      "gpuType": "T4"
    },
    "kernelspec": {
      "name": "python3",
      "display_name": "Python 3"
    },
    "language_info": {
      "name": "python"
    },
    "accelerator": "GPU",
    "widgets": {
      "application/vnd.jupyter.widget-state+json": {
        "b722cc663b304544a19cc222c8f03fb8": {
          "model_module": "@jupyter-widgets/controls",
          "model_name": "HBoxModel",
          "model_module_version": "1.5.0",
          "state": {
            "_dom_classes": [],
            "_model_module": "@jupyter-widgets/controls",
            "_model_module_version": "1.5.0",
            "_model_name": "HBoxModel",
            "_view_count": null,
            "_view_module": "@jupyter-widgets/controls",
            "_view_module_version": "1.5.0",
            "_view_name": "HBoxView",
            "box_style": "",
            "children": [
              "IPY_MODEL_ec472ecaf89f4ad288eb2ff47b5c6f18",
              "IPY_MODEL_c2976ee162b44769a5cd759286a34691",
              "IPY_MODEL_4fc0604dc17d4930a73f56cc79da7a2e"
            ],
            "layout": "IPY_MODEL_8c91f0f194ab4bee9b3e14ea6bd62d6a"
          }
        },
        "ec472ecaf89f4ad288eb2ff47b5c6f18": {
          "model_module": "@jupyter-widgets/controls",
          "model_name": "HTMLModel",
          "model_module_version": "1.5.0",
          "state": {
            "_dom_classes": [],
            "_model_module": "@jupyter-widgets/controls",
            "_model_module_version": "1.5.0",
            "_model_name": "HTMLModel",
            "_view_count": null,
            "_view_module": "@jupyter-widgets/controls",
            "_view_module_version": "1.5.0",
            "_view_name": "HTMLView",
            "description": "",
            "description_tooltip": null,
            "layout": "IPY_MODEL_23c37dda1a2948b6925aea8109cb6cac",
            "placeholder": "​",
            "style": "IPY_MODEL_6da228526fc640fe8b767aaa25054cda",
            "value": "Downloading (…)okenizer_config.json: 100%"
          }
        },
        "c2976ee162b44769a5cd759286a34691": {
          "model_module": "@jupyter-widgets/controls",
          "model_name": "FloatProgressModel",
          "model_module_version": "1.5.0",
          "state": {
            "_dom_classes": [],
            "_model_module": "@jupyter-widgets/controls",
            "_model_module_version": "1.5.0",
            "_model_name": "FloatProgressModel",
            "_view_count": null,
            "_view_module": "@jupyter-widgets/controls",
            "_view_module_version": "1.5.0",
            "_view_name": "ProgressView",
            "bar_style": "success",
            "description": "",
            "description_tooltip": null,
            "layout": "IPY_MODEL_8d328abcc5fc45bd887c5ac290d4e943",
            "max": 25,
            "min": 0,
            "orientation": "horizontal",
            "style": "IPY_MODEL_d8f704d3369343daa01605b40ee45b98",
            "value": 25
          }
        },
        "4fc0604dc17d4930a73f56cc79da7a2e": {
          "model_module": "@jupyter-widgets/controls",
          "model_name": "HTMLModel",
          "model_module_version": "1.5.0",
          "state": {
            "_dom_classes": [],
            "_model_module": "@jupyter-widgets/controls",
            "_model_module_version": "1.5.0",
            "_model_name": "HTMLModel",
            "_view_count": null,
            "_view_module": "@jupyter-widgets/controls",
            "_view_module_version": "1.5.0",
            "_view_name": "HTMLView",
            "description": "",
            "description_tooltip": null,
            "layout": "IPY_MODEL_8a54ad030062424caa31fd2ed56d2f9e",
            "placeholder": "​",
            "style": "IPY_MODEL_2e1d19e9971b4993b0a2406884c0bfb0",
            "value": " 25.0/25.0 [00:00&lt;00:00, 1.20kB/s]"
          }
        },
        "8c91f0f194ab4bee9b3e14ea6bd62d6a": {
          "model_module": "@jupyter-widgets/base",
          "model_name": "LayoutModel",
          "model_module_version": "1.2.0",
          "state": {
            "_model_module": "@jupyter-widgets/base",
            "_model_module_version": "1.2.0",
            "_model_name": "LayoutModel",
            "_view_count": null,
            "_view_module": "@jupyter-widgets/base",
            "_view_module_version": "1.2.0",
            "_view_name": "LayoutView",
            "align_content": null,
            "align_items": null,
            "align_self": null,
            "border": null,
            "bottom": null,
            "display": null,
            "flex": null,
            "flex_flow": null,
            "grid_area": null,
            "grid_auto_columns": null,
            "grid_auto_flow": null,
            "grid_auto_rows": null,
            "grid_column": null,
            "grid_gap": null,
            "grid_row": null,
            "grid_template_areas": null,
            "grid_template_columns": null,
            "grid_template_rows": null,
            "height": null,
            "justify_content": null,
            "justify_items": null,
            "left": null,
            "margin": null,
            "max_height": null,
            "max_width": null,
            "min_height": null,
            "min_width": null,
            "object_fit": null,
            "object_position": null,
            "order": null,
            "overflow": null,
            "overflow_x": null,
            "overflow_y": null,
            "padding": null,
            "right": null,
            "top": null,
            "visibility": null,
            "width": null
          }
        },
        "23c37dda1a2948b6925aea8109cb6cac": {
          "model_module": "@jupyter-widgets/base",
          "model_name": "LayoutModel",
          "model_module_version": "1.2.0",
          "state": {
            "_model_module": "@jupyter-widgets/base",
            "_model_module_version": "1.2.0",
            "_model_name": "LayoutModel",
            "_view_count": null,
            "_view_module": "@jupyter-widgets/base",
            "_view_module_version": "1.2.0",
            "_view_name": "LayoutView",
            "align_content": null,
            "align_items": null,
            "align_self": null,
            "border": null,
            "bottom": null,
            "display": null,
            "flex": null,
            "flex_flow": null,
            "grid_area": null,
            "grid_auto_columns": null,
            "grid_auto_flow": null,
            "grid_auto_rows": null,
            "grid_column": null,
            "grid_gap": null,
            "grid_row": null,
            "grid_template_areas": null,
            "grid_template_columns": null,
            "grid_template_rows": null,
            "height": null,
            "justify_content": null,
            "justify_items": null,
            "left": null,
            "margin": null,
            "max_height": null,
            "max_width": null,
            "min_height": null,
            "min_width": null,
            "object_fit": null,
            "object_position": null,
            "order": null,
            "overflow": null,
            "overflow_x": null,
            "overflow_y": null,
            "padding": null,
            "right": null,
            "top": null,
            "visibility": null,
            "width": null
          }
        },
        "6da228526fc640fe8b767aaa25054cda": {
          "model_module": "@jupyter-widgets/controls",
          "model_name": "DescriptionStyleModel",
          "model_module_version": "1.5.0",
          "state": {
            "_model_module": "@jupyter-widgets/controls",
            "_model_module_version": "1.5.0",
            "_model_name": "DescriptionStyleModel",
            "_view_count": null,
            "_view_module": "@jupyter-widgets/base",
            "_view_module_version": "1.2.0",
            "_view_name": "StyleView",
            "description_width": ""
          }
        },
        "8d328abcc5fc45bd887c5ac290d4e943": {
          "model_module": "@jupyter-widgets/base",
          "model_name": "LayoutModel",
          "model_module_version": "1.2.0",
          "state": {
            "_model_module": "@jupyter-widgets/base",
            "_model_module_version": "1.2.0",
            "_model_name": "LayoutModel",
            "_view_count": null,
            "_view_module": "@jupyter-widgets/base",
            "_view_module_version": "1.2.0",
            "_view_name": "LayoutView",
            "align_content": null,
            "align_items": null,
            "align_self": null,
            "border": null,
            "bottom": null,
            "display": null,
            "flex": null,
            "flex_flow": null,
            "grid_area": null,
            "grid_auto_columns": null,
            "grid_auto_flow": null,
            "grid_auto_rows": null,
            "grid_column": null,
            "grid_gap": null,
            "grid_row": null,
            "grid_template_areas": null,
            "grid_template_columns": null,
            "grid_template_rows": null,
            "height": null,
            "justify_content": null,
            "justify_items": null,
            "left": null,
            "margin": null,
            "max_height": null,
            "max_width": null,
            "min_height": null,
            "min_width": null,
            "object_fit": null,
            "object_position": null,
            "order": null,
            "overflow": null,
            "overflow_x": null,
            "overflow_y": null,
            "padding": null,
            "right": null,
            "top": null,
            "visibility": null,
            "width": null
          }
        },
        "d8f704d3369343daa01605b40ee45b98": {
          "model_module": "@jupyter-widgets/controls",
          "model_name": "ProgressStyleModel",
          "model_module_version": "1.5.0",
          "state": {
            "_model_module": "@jupyter-widgets/controls",
            "_model_module_version": "1.5.0",
            "_model_name": "ProgressStyleModel",
            "_view_count": null,
            "_view_module": "@jupyter-widgets/base",
            "_view_module_version": "1.2.0",
            "_view_name": "StyleView",
            "bar_color": null,
            "description_width": ""
          }
        },
        "8a54ad030062424caa31fd2ed56d2f9e": {
          "model_module": "@jupyter-widgets/base",
          "model_name": "LayoutModel",
          "model_module_version": "1.2.0",
          "state": {
            "_model_module": "@jupyter-widgets/base",
            "_model_module_version": "1.2.0",
            "_model_name": "LayoutModel",
            "_view_count": null,
            "_view_module": "@jupyter-widgets/base",
            "_view_module_version": "1.2.0",
            "_view_name": "LayoutView",
            "align_content": null,
            "align_items": null,
            "align_self": null,
            "border": null,
            "bottom": null,
            "display": null,
            "flex": null,
            "flex_flow": null,
            "grid_area": null,
            "grid_auto_columns": null,
            "grid_auto_flow": null,
            "grid_auto_rows": null,
            "grid_column": null,
            "grid_gap": null,
            "grid_row": null,
            "grid_template_areas": null,
            "grid_template_columns": null,
            "grid_template_rows": null,
            "height": null,
            "justify_content": null,
            "justify_items": null,
            "left": null,
            "margin": null,
            "max_height": null,
            "max_width": null,
            "min_height": null,
            "min_width": null,
            "object_fit": null,
            "object_position": null,
            "order": null,
            "overflow": null,
            "overflow_x": null,
            "overflow_y": null,
            "padding": null,
            "right": null,
            "top": null,
            "visibility": null,
            "width": null
          }
        },
        "2e1d19e9971b4993b0a2406884c0bfb0": {
          "model_module": "@jupyter-widgets/controls",
          "model_name": "DescriptionStyleModel",
          "model_module_version": "1.5.0",
          "state": {
            "_model_module": "@jupyter-widgets/controls",
            "_model_module_version": "1.5.0",
            "_model_name": "DescriptionStyleModel",
            "_view_count": null,
            "_view_module": "@jupyter-widgets/base",
            "_view_module_version": "1.2.0",
            "_view_name": "StyleView",
            "description_width": ""
          }
        },
        "ce7c1c989e954c389b88b037e6486c9e": {
          "model_module": "@jupyter-widgets/controls",
          "model_name": "HBoxModel",
          "model_module_version": "1.5.0",
          "state": {
            "_dom_classes": [],
            "_model_module": "@jupyter-widgets/controls",
            "_model_module_version": "1.5.0",
            "_model_name": "HBoxModel",
            "_view_count": null,
            "_view_module": "@jupyter-widgets/controls",
            "_view_module_version": "1.5.0",
            "_view_name": "HBoxView",
            "box_style": "",
            "children": [
              "IPY_MODEL_780a38ec7dcd41e38ab5f12e413e5ed1",
              "IPY_MODEL_57de3c10194a45d982108e02784bdfda",
              "IPY_MODEL_3e763bb20bbe417c81ae33a5ecf337fb"
            ],
            "layout": "IPY_MODEL_6625c1f1d65f4a4b9ebe4170940ec10f"
          }
        },
        "780a38ec7dcd41e38ab5f12e413e5ed1": {
          "model_module": "@jupyter-widgets/controls",
          "model_name": "HTMLModel",
          "model_module_version": "1.5.0",
          "state": {
            "_dom_classes": [],
            "_model_module": "@jupyter-widgets/controls",
            "_model_module_version": "1.5.0",
            "_model_name": "HTMLModel",
            "_view_count": null,
            "_view_module": "@jupyter-widgets/controls",
            "_view_module_version": "1.5.0",
            "_view_name": "HTMLView",
            "description": "",
            "description_tooltip": null,
            "layout": "IPY_MODEL_8b0fb5cd18e747ed80948d27d0424cee",
            "placeholder": "​",
            "style": "IPY_MODEL_80c35cf80a004304bc6d099906d468c8",
            "value": "Downloading (…)lve/main/config.json: 100%"
          }
        },
        "57de3c10194a45d982108e02784bdfda": {
          "model_module": "@jupyter-widgets/controls",
          "model_name": "FloatProgressModel",
          "model_module_version": "1.5.0",
          "state": {
            "_dom_classes": [],
            "_model_module": "@jupyter-widgets/controls",
            "_model_module_version": "1.5.0",
            "_model_name": "FloatProgressModel",
            "_view_count": null,
            "_view_module": "@jupyter-widgets/controls",
            "_view_module_version": "1.5.0",
            "_view_name": "ProgressView",
            "bar_style": "success",
            "description": "",
            "description_tooltip": null,
            "layout": "IPY_MODEL_383617f7101542de8d1948280e35cf74",
            "max": 498,
            "min": 0,
            "orientation": "horizontal",
            "style": "IPY_MODEL_5d710538d9194939b8752837895c8094",
            "value": 498
          }
        },
        "3e763bb20bbe417c81ae33a5ecf337fb": {
          "model_module": "@jupyter-widgets/controls",
          "model_name": "HTMLModel",
          "model_module_version": "1.5.0",
          "state": {
            "_dom_classes": [],
            "_model_module": "@jupyter-widgets/controls",
            "_model_module_version": "1.5.0",
            "_model_name": "HTMLModel",
            "_view_count": null,
            "_view_module": "@jupyter-widgets/controls",
            "_view_module_version": "1.5.0",
            "_view_name": "HTMLView",
            "description": "",
            "description_tooltip": null,
            "layout": "IPY_MODEL_7de1a94b13d44f5dbac66e77149be871",
            "placeholder": "​",
            "style": "IPY_MODEL_f45aa218aecb4ff191f05dd7f09e56fa",
            "value": " 498/498 [00:00&lt;00:00, 31.3kB/s]"
          }
        },
        "6625c1f1d65f4a4b9ebe4170940ec10f": {
          "model_module": "@jupyter-widgets/base",
          "model_name": "LayoutModel",
          "model_module_version": "1.2.0",
          "state": {
            "_model_module": "@jupyter-widgets/base",
            "_model_module_version": "1.2.0",
            "_model_name": "LayoutModel",
            "_view_count": null,
            "_view_module": "@jupyter-widgets/base",
            "_view_module_version": "1.2.0",
            "_view_name": "LayoutView",
            "align_content": null,
            "align_items": null,
            "align_self": null,
            "border": null,
            "bottom": null,
            "display": null,
            "flex": null,
            "flex_flow": null,
            "grid_area": null,
            "grid_auto_columns": null,
            "grid_auto_flow": null,
            "grid_auto_rows": null,
            "grid_column": null,
            "grid_gap": null,
            "grid_row": null,
            "grid_template_areas": null,
            "grid_template_columns": null,
            "grid_template_rows": null,
            "height": null,
            "justify_content": null,
            "justify_items": null,
            "left": null,
            "margin": null,
            "max_height": null,
            "max_width": null,
            "min_height": null,
            "min_width": null,
            "object_fit": null,
            "object_position": null,
            "order": null,
            "overflow": null,
            "overflow_x": null,
            "overflow_y": null,
            "padding": null,
            "right": null,
            "top": null,
            "visibility": null,
            "width": null
          }
        },
        "8b0fb5cd18e747ed80948d27d0424cee": {
          "model_module": "@jupyter-widgets/base",
          "model_name": "LayoutModel",
          "model_module_version": "1.2.0",
          "state": {
            "_model_module": "@jupyter-widgets/base",
            "_model_module_version": "1.2.0",
            "_model_name": "LayoutModel",
            "_view_count": null,
            "_view_module": "@jupyter-widgets/base",
            "_view_module_version": "1.2.0",
            "_view_name": "LayoutView",
            "align_content": null,
            "align_items": null,
            "align_self": null,
            "border": null,
            "bottom": null,
            "display": null,
            "flex": null,
            "flex_flow": null,
            "grid_area": null,
            "grid_auto_columns": null,
            "grid_auto_flow": null,
            "grid_auto_rows": null,
            "grid_column": null,
            "grid_gap": null,
            "grid_row": null,
            "grid_template_areas": null,
            "grid_template_columns": null,
            "grid_template_rows": null,
            "height": null,
            "justify_content": null,
            "justify_items": null,
            "left": null,
            "margin": null,
            "max_height": null,
            "max_width": null,
            "min_height": null,
            "min_width": null,
            "object_fit": null,
            "object_position": null,
            "order": null,
            "overflow": null,
            "overflow_x": null,
            "overflow_y": null,
            "padding": null,
            "right": null,
            "top": null,
            "visibility": null,
            "width": null
          }
        },
        "80c35cf80a004304bc6d099906d468c8": {
          "model_module": "@jupyter-widgets/controls",
          "model_name": "DescriptionStyleModel",
          "model_module_version": "1.5.0",
          "state": {
            "_model_module": "@jupyter-widgets/controls",
            "_model_module_version": "1.5.0",
            "_model_name": "DescriptionStyleModel",
            "_view_count": null,
            "_view_module": "@jupyter-widgets/base",
            "_view_module_version": "1.2.0",
            "_view_name": "StyleView",
            "description_width": ""
          }
        },
        "383617f7101542de8d1948280e35cf74": {
          "model_module": "@jupyter-widgets/base",
          "model_name": "LayoutModel",
          "model_module_version": "1.2.0",
          "state": {
            "_model_module": "@jupyter-widgets/base",
            "_model_module_version": "1.2.0",
            "_model_name": "LayoutModel",
            "_view_count": null,
            "_view_module": "@jupyter-widgets/base",
            "_view_module_version": "1.2.0",
            "_view_name": "LayoutView",
            "align_content": null,
            "align_items": null,
            "align_self": null,
            "border": null,
            "bottom": null,
            "display": null,
            "flex": null,
            "flex_flow": null,
            "grid_area": null,
            "grid_auto_columns": null,
            "grid_auto_flow": null,
            "grid_auto_rows": null,
            "grid_column": null,
            "grid_gap": null,
            "grid_row": null,
            "grid_template_areas": null,
            "grid_template_columns": null,
            "grid_template_rows": null,
            "height": null,
            "justify_content": null,
            "justify_items": null,
            "left": null,
            "margin": null,
            "max_height": null,
            "max_width": null,
            "min_height": null,
            "min_width": null,
            "object_fit": null,
            "object_position": null,
            "order": null,
            "overflow": null,
            "overflow_x": null,
            "overflow_y": null,
            "padding": null,
            "right": null,
            "top": null,
            "visibility": null,
            "width": null
          }
        },
        "5d710538d9194939b8752837895c8094": {
          "model_module": "@jupyter-widgets/controls",
          "model_name": "ProgressStyleModel",
          "model_module_version": "1.5.0",
          "state": {
            "_model_module": "@jupyter-widgets/controls",
            "_model_module_version": "1.5.0",
            "_model_name": "ProgressStyleModel",
            "_view_count": null,
            "_view_module": "@jupyter-widgets/base",
            "_view_module_version": "1.2.0",
            "_view_name": "StyleView",
            "bar_color": null,
            "description_width": ""
          }
        },
        "7de1a94b13d44f5dbac66e77149be871": {
          "model_module": "@jupyter-widgets/base",
          "model_name": "LayoutModel",
          "model_module_version": "1.2.0",
          "state": {
            "_model_module": "@jupyter-widgets/base",
            "_model_module_version": "1.2.0",
            "_model_name": "LayoutModel",
            "_view_count": null,
            "_view_module": "@jupyter-widgets/base",
            "_view_module_version": "1.2.0",
            "_view_name": "LayoutView",
            "align_content": null,
            "align_items": null,
            "align_self": null,
            "border": null,
            "bottom": null,
            "display": null,
            "flex": null,
            "flex_flow": null,
            "grid_area": null,
            "grid_auto_columns": null,
            "grid_auto_flow": null,
            "grid_auto_rows": null,
            "grid_column": null,
            "grid_gap": null,
            "grid_row": null,
            "grid_template_areas": null,
            "grid_template_columns": null,
            "grid_template_rows": null,
            "height": null,
            "justify_content": null,
            "justify_items": null,
            "left": null,
            "margin": null,
            "max_height": null,
            "max_width": null,
            "min_height": null,
            "min_width": null,
            "object_fit": null,
            "object_position": null,
            "order": null,
            "overflow": null,
            "overflow_x": null,
            "overflow_y": null,
            "padding": null,
            "right": null,
            "top": null,
            "visibility": null,
            "width": null
          }
        },
        "f45aa218aecb4ff191f05dd7f09e56fa": {
          "model_module": "@jupyter-widgets/controls",
          "model_name": "DescriptionStyleModel",
          "model_module_version": "1.5.0",
          "state": {
            "_model_module": "@jupyter-widgets/controls",
            "_model_module_version": "1.5.0",
            "_model_name": "DescriptionStyleModel",
            "_view_count": null,
            "_view_module": "@jupyter-widgets/base",
            "_view_module_version": "1.2.0",
            "_view_name": "StyleView",
            "description_width": ""
          }
        },
        "188a9e9c30a64827a0eb38f3814845d0": {
          "model_module": "@jupyter-widgets/controls",
          "model_name": "HBoxModel",
          "model_module_version": "1.5.0",
          "state": {
            "_dom_classes": [],
            "_model_module": "@jupyter-widgets/controls",
            "_model_module_version": "1.5.0",
            "_model_name": "HBoxModel",
            "_view_count": null,
            "_view_module": "@jupyter-widgets/controls",
            "_view_module_version": "1.5.0",
            "_view_name": "HBoxView",
            "box_style": "",
            "children": [
              "IPY_MODEL_c4252b1e8c504c8e9f9adf10e2b25929",
              "IPY_MODEL_bac7d8d4e03f45a38070804cd23593b0",
              "IPY_MODEL_2d00816b7070457b8aa45fd37e030339"
            ],
            "layout": "IPY_MODEL_19f4542398344e85a127aea187f7bcdf"
          }
        },
        "c4252b1e8c504c8e9f9adf10e2b25929": {
          "model_module": "@jupyter-widgets/controls",
          "model_name": "HTMLModel",
          "model_module_version": "1.5.0",
          "state": {
            "_dom_classes": [],
            "_model_module": "@jupyter-widgets/controls",
            "_model_module_version": "1.5.0",
            "_model_name": "HTMLModel",
            "_view_count": null,
            "_view_module": "@jupyter-widgets/controls",
            "_view_module_version": "1.5.0",
            "_view_name": "HTMLView",
            "description": "",
            "description_tooltip": null,
            "layout": "IPY_MODEL_1b3597fa5a9b4d7a860a0c3318a2d660",
            "placeholder": "​",
            "style": "IPY_MODEL_385aa5cf58b3403da420c0399f7b7037",
            "value": "Downloading (…)olve/main/vocab.json: 100%"
          }
        },
        "bac7d8d4e03f45a38070804cd23593b0": {
          "model_module": "@jupyter-widgets/controls",
          "model_name": "FloatProgressModel",
          "model_module_version": "1.5.0",
          "state": {
            "_dom_classes": [],
            "_model_module": "@jupyter-widgets/controls",
            "_model_module_version": "1.5.0",
            "_model_name": "FloatProgressModel",
            "_view_count": null,
            "_view_module": "@jupyter-widgets/controls",
            "_view_module_version": "1.5.0",
            "_view_name": "ProgressView",
            "bar_style": "success",
            "description": "",
            "description_tooltip": null,
            "layout": "IPY_MODEL_6cd02a19a3804c969d24f44d3c6138bc",
            "max": 898822,
            "min": 0,
            "orientation": "horizontal",
            "style": "IPY_MODEL_8f5d77e7bad64294b97ec4ad2499fb70",
            "value": 898822
          }
        },
        "2d00816b7070457b8aa45fd37e030339": {
          "model_module": "@jupyter-widgets/controls",
          "model_name": "HTMLModel",
          "model_module_version": "1.5.0",
          "state": {
            "_dom_classes": [],
            "_model_module": "@jupyter-widgets/controls",
            "_model_module_version": "1.5.0",
            "_model_name": "HTMLModel",
            "_view_count": null,
            "_view_module": "@jupyter-widgets/controls",
            "_view_module_version": "1.5.0",
            "_view_name": "HTMLView",
            "description": "",
            "description_tooltip": null,
            "layout": "IPY_MODEL_507f7b06e30e4c2f842189b8af64b582",
            "placeholder": "​",
            "style": "IPY_MODEL_ef678753d5ed42fea51c246ea1341426",
            "value": " 899k/899k [00:00&lt;00:00, 2.21MB/s]"
          }
        },
        "19f4542398344e85a127aea187f7bcdf": {
          "model_module": "@jupyter-widgets/base",
          "model_name": "LayoutModel",
          "model_module_version": "1.2.0",
          "state": {
            "_model_module": "@jupyter-widgets/base",
            "_model_module_version": "1.2.0",
            "_model_name": "LayoutModel",
            "_view_count": null,
            "_view_module": "@jupyter-widgets/base",
            "_view_module_version": "1.2.0",
            "_view_name": "LayoutView",
            "align_content": null,
            "align_items": null,
            "align_self": null,
            "border": null,
            "bottom": null,
            "display": null,
            "flex": null,
            "flex_flow": null,
            "grid_area": null,
            "grid_auto_columns": null,
            "grid_auto_flow": null,
            "grid_auto_rows": null,
            "grid_column": null,
            "grid_gap": null,
            "grid_row": null,
            "grid_template_areas": null,
            "grid_template_columns": null,
            "grid_template_rows": null,
            "height": null,
            "justify_content": null,
            "justify_items": null,
            "left": null,
            "margin": null,
            "max_height": null,
            "max_width": null,
            "min_height": null,
            "min_width": null,
            "object_fit": null,
            "object_position": null,
            "order": null,
            "overflow": null,
            "overflow_x": null,
            "overflow_y": null,
            "padding": null,
            "right": null,
            "top": null,
            "visibility": null,
            "width": null
          }
        },
        "1b3597fa5a9b4d7a860a0c3318a2d660": {
          "model_module": "@jupyter-widgets/base",
          "model_name": "LayoutModel",
          "model_module_version": "1.2.0",
          "state": {
            "_model_module": "@jupyter-widgets/base",
            "_model_module_version": "1.2.0",
            "_model_name": "LayoutModel",
            "_view_count": null,
            "_view_module": "@jupyter-widgets/base",
            "_view_module_version": "1.2.0",
            "_view_name": "LayoutView",
            "align_content": null,
            "align_items": null,
            "align_self": null,
            "border": null,
            "bottom": null,
            "display": null,
            "flex": null,
            "flex_flow": null,
            "grid_area": null,
            "grid_auto_columns": null,
            "grid_auto_flow": null,
            "grid_auto_rows": null,
            "grid_column": null,
            "grid_gap": null,
            "grid_row": null,
            "grid_template_areas": null,
            "grid_template_columns": null,
            "grid_template_rows": null,
            "height": null,
            "justify_content": null,
            "justify_items": null,
            "left": null,
            "margin": null,
            "max_height": null,
            "max_width": null,
            "min_height": null,
            "min_width": null,
            "object_fit": null,
            "object_position": null,
            "order": null,
            "overflow": null,
            "overflow_x": null,
            "overflow_y": null,
            "padding": null,
            "right": null,
            "top": null,
            "visibility": null,
            "width": null
          }
        },
        "385aa5cf58b3403da420c0399f7b7037": {
          "model_module": "@jupyter-widgets/controls",
          "model_name": "DescriptionStyleModel",
          "model_module_version": "1.5.0",
          "state": {
            "_model_module": "@jupyter-widgets/controls",
            "_model_module_version": "1.5.0",
            "_model_name": "DescriptionStyleModel",
            "_view_count": null,
            "_view_module": "@jupyter-widgets/base",
            "_view_module_version": "1.2.0",
            "_view_name": "StyleView",
            "description_width": ""
          }
        },
        "6cd02a19a3804c969d24f44d3c6138bc": {
          "model_module": "@jupyter-widgets/base",
          "model_name": "LayoutModel",
          "model_module_version": "1.2.0",
          "state": {
            "_model_module": "@jupyter-widgets/base",
            "_model_module_version": "1.2.0",
            "_model_name": "LayoutModel",
            "_view_count": null,
            "_view_module": "@jupyter-widgets/base",
            "_view_module_version": "1.2.0",
            "_view_name": "LayoutView",
            "align_content": null,
            "align_items": null,
            "align_self": null,
            "border": null,
            "bottom": null,
            "display": null,
            "flex": null,
            "flex_flow": null,
            "grid_area": null,
            "grid_auto_columns": null,
            "grid_auto_flow": null,
            "grid_auto_rows": null,
            "grid_column": null,
            "grid_gap": null,
            "grid_row": null,
            "grid_template_areas": null,
            "grid_template_columns": null,
            "grid_template_rows": null,
            "height": null,
            "justify_content": null,
            "justify_items": null,
            "left": null,
            "margin": null,
            "max_height": null,
            "max_width": null,
            "min_height": null,
            "min_width": null,
            "object_fit": null,
            "object_position": null,
            "order": null,
            "overflow": null,
            "overflow_x": null,
            "overflow_y": null,
            "padding": null,
            "right": null,
            "top": null,
            "visibility": null,
            "width": null
          }
        },
        "8f5d77e7bad64294b97ec4ad2499fb70": {
          "model_module": "@jupyter-widgets/controls",
          "model_name": "ProgressStyleModel",
          "model_module_version": "1.5.0",
          "state": {
            "_model_module": "@jupyter-widgets/controls",
            "_model_module_version": "1.5.0",
            "_model_name": "ProgressStyleModel",
            "_view_count": null,
            "_view_module": "@jupyter-widgets/base",
            "_view_module_version": "1.2.0",
            "_view_name": "StyleView",
            "bar_color": null,
            "description_width": ""
          }
        },
        "507f7b06e30e4c2f842189b8af64b582": {
          "model_module": "@jupyter-widgets/base",
          "model_name": "LayoutModel",
          "model_module_version": "1.2.0",
          "state": {
            "_model_module": "@jupyter-widgets/base",
            "_model_module_version": "1.2.0",
            "_model_name": "LayoutModel",
            "_view_count": null,
            "_view_module": "@jupyter-widgets/base",
            "_view_module_version": "1.2.0",
            "_view_name": "LayoutView",
            "align_content": null,
            "align_items": null,
            "align_self": null,
            "border": null,
            "bottom": null,
            "display": null,
            "flex": null,
            "flex_flow": null,
            "grid_area": null,
            "grid_auto_columns": null,
            "grid_auto_flow": null,
            "grid_auto_rows": null,
            "grid_column": null,
            "grid_gap": null,
            "grid_row": null,
            "grid_template_areas": null,
            "grid_template_columns": null,
            "grid_template_rows": null,
            "height": null,
            "justify_content": null,
            "justify_items": null,
            "left": null,
            "margin": null,
            "max_height": null,
            "max_width": null,
            "min_height": null,
            "min_width": null,
            "object_fit": null,
            "object_position": null,
            "order": null,
            "overflow": null,
            "overflow_x": null,
            "overflow_y": null,
            "padding": null,
            "right": null,
            "top": null,
            "visibility": null,
            "width": null
          }
        },
        "ef678753d5ed42fea51c246ea1341426": {
          "model_module": "@jupyter-widgets/controls",
          "model_name": "DescriptionStyleModel",
          "model_module_version": "1.5.0",
          "state": {
            "_model_module": "@jupyter-widgets/controls",
            "_model_module_version": "1.5.0",
            "_model_name": "DescriptionStyleModel",
            "_view_count": null,
            "_view_module": "@jupyter-widgets/base",
            "_view_module_version": "1.2.0",
            "_view_name": "StyleView",
            "description_width": ""
          }
        },
        "a0678bfd817c42429de794ba7323f982": {
          "model_module": "@jupyter-widgets/controls",
          "model_name": "HBoxModel",
          "model_module_version": "1.5.0",
          "state": {
            "_dom_classes": [],
            "_model_module": "@jupyter-widgets/controls",
            "_model_module_version": "1.5.0",
            "_model_name": "HBoxModel",
            "_view_count": null,
            "_view_module": "@jupyter-widgets/controls",
            "_view_module_version": "1.5.0",
            "_view_name": "HBoxView",
            "box_style": "",
            "children": [
              "IPY_MODEL_f409f08c8d4c4116bbbbfd3df54590a8",
              "IPY_MODEL_eacf9c1857af467caa6c28950f8e032e",
              "IPY_MODEL_fac184478f27468ea3ebbf4667e7dee2"
            ],
            "layout": "IPY_MODEL_58bc1e66f699459296d2e7f28659bd25"
          }
        },
        "f409f08c8d4c4116bbbbfd3df54590a8": {
          "model_module": "@jupyter-widgets/controls",
          "model_name": "HTMLModel",
          "model_module_version": "1.5.0",
          "state": {
            "_dom_classes": [],
            "_model_module": "@jupyter-widgets/controls",
            "_model_module_version": "1.5.0",
            "_model_name": "HTMLModel",
            "_view_count": null,
            "_view_module": "@jupyter-widgets/controls",
            "_view_module_version": "1.5.0",
            "_view_name": "HTMLView",
            "description": "",
            "description_tooltip": null,
            "layout": "IPY_MODEL_c644c3de97384dc8976fed29bda60f27",
            "placeholder": "​",
            "style": "IPY_MODEL_11e3de746848465e95a863dd2b4ab214",
            "value": "Downloading (…)olve/main/merges.txt: 100%"
          }
        },
        "eacf9c1857af467caa6c28950f8e032e": {
          "model_module": "@jupyter-widgets/controls",
          "model_name": "FloatProgressModel",
          "model_module_version": "1.5.0",
          "state": {
            "_dom_classes": [],
            "_model_module": "@jupyter-widgets/controls",
            "_model_module_version": "1.5.0",
            "_model_name": "FloatProgressModel",
            "_view_count": null,
            "_view_module": "@jupyter-widgets/controls",
            "_view_module_version": "1.5.0",
            "_view_name": "ProgressView",
            "bar_style": "success",
            "description": "",
            "description_tooltip": null,
            "layout": "IPY_MODEL_c629a3c41105417795fa10946364a64d",
            "max": 456318,
            "min": 0,
            "orientation": "horizontal",
            "style": "IPY_MODEL_4cac6fd9d00f41c6b8222ebe240c36e9",
            "value": 456318
          }
        },
        "fac184478f27468ea3ebbf4667e7dee2": {
          "model_module": "@jupyter-widgets/controls",
          "model_name": "HTMLModel",
          "model_module_version": "1.5.0",
          "state": {
            "_dom_classes": [],
            "_model_module": "@jupyter-widgets/controls",
            "_model_module_version": "1.5.0",
            "_model_name": "HTMLModel",
            "_view_count": null,
            "_view_module": "@jupyter-widgets/controls",
            "_view_module_version": "1.5.0",
            "_view_name": "HTMLView",
            "description": "",
            "description_tooltip": null,
            "layout": "IPY_MODEL_73fe84df8dd74b6293075993907d549f",
            "placeholder": "​",
            "style": "IPY_MODEL_e92bb6d386d543cb95724a63db98990c",
            "value": " 456k/456k [00:00&lt;00:00, 26.8MB/s]"
          }
        },
        "58bc1e66f699459296d2e7f28659bd25": {
          "model_module": "@jupyter-widgets/base",
          "model_name": "LayoutModel",
          "model_module_version": "1.2.0",
          "state": {
            "_model_module": "@jupyter-widgets/base",
            "_model_module_version": "1.2.0",
            "_model_name": "LayoutModel",
            "_view_count": null,
            "_view_module": "@jupyter-widgets/base",
            "_view_module_version": "1.2.0",
            "_view_name": "LayoutView",
            "align_content": null,
            "align_items": null,
            "align_self": null,
            "border": null,
            "bottom": null,
            "display": null,
            "flex": null,
            "flex_flow": null,
            "grid_area": null,
            "grid_auto_columns": null,
            "grid_auto_flow": null,
            "grid_auto_rows": null,
            "grid_column": null,
            "grid_gap": null,
            "grid_row": null,
            "grid_template_areas": null,
            "grid_template_columns": null,
            "grid_template_rows": null,
            "height": null,
            "justify_content": null,
            "justify_items": null,
            "left": null,
            "margin": null,
            "max_height": null,
            "max_width": null,
            "min_height": null,
            "min_width": null,
            "object_fit": null,
            "object_position": null,
            "order": null,
            "overflow": null,
            "overflow_x": null,
            "overflow_y": null,
            "padding": null,
            "right": null,
            "top": null,
            "visibility": null,
            "width": null
          }
        },
        "c644c3de97384dc8976fed29bda60f27": {
          "model_module": "@jupyter-widgets/base",
          "model_name": "LayoutModel",
          "model_module_version": "1.2.0",
          "state": {
            "_model_module": "@jupyter-widgets/base",
            "_model_module_version": "1.2.0",
            "_model_name": "LayoutModel",
            "_view_count": null,
            "_view_module": "@jupyter-widgets/base",
            "_view_module_version": "1.2.0",
            "_view_name": "LayoutView",
            "align_content": null,
            "align_items": null,
            "align_self": null,
            "border": null,
            "bottom": null,
            "display": null,
            "flex": null,
            "flex_flow": null,
            "grid_area": null,
            "grid_auto_columns": null,
            "grid_auto_flow": null,
            "grid_auto_rows": null,
            "grid_column": null,
            "grid_gap": null,
            "grid_row": null,
            "grid_template_areas": null,
            "grid_template_columns": null,
            "grid_template_rows": null,
            "height": null,
            "justify_content": null,
            "justify_items": null,
            "left": null,
            "margin": null,
            "max_height": null,
            "max_width": null,
            "min_height": null,
            "min_width": null,
            "object_fit": null,
            "object_position": null,
            "order": null,
            "overflow": null,
            "overflow_x": null,
            "overflow_y": null,
            "padding": null,
            "right": null,
            "top": null,
            "visibility": null,
            "width": null
          }
        },
        "11e3de746848465e95a863dd2b4ab214": {
          "model_module": "@jupyter-widgets/controls",
          "model_name": "DescriptionStyleModel",
          "model_module_version": "1.5.0",
          "state": {
            "_model_module": "@jupyter-widgets/controls",
            "_model_module_version": "1.5.0",
            "_model_name": "DescriptionStyleModel",
            "_view_count": null,
            "_view_module": "@jupyter-widgets/base",
            "_view_module_version": "1.2.0",
            "_view_name": "StyleView",
            "description_width": ""
          }
        },
        "c629a3c41105417795fa10946364a64d": {
          "model_module": "@jupyter-widgets/base",
          "model_name": "LayoutModel",
          "model_module_version": "1.2.0",
          "state": {
            "_model_module": "@jupyter-widgets/base",
            "_model_module_version": "1.2.0",
            "_model_name": "LayoutModel",
            "_view_count": null,
            "_view_module": "@jupyter-widgets/base",
            "_view_module_version": "1.2.0",
            "_view_name": "LayoutView",
            "align_content": null,
            "align_items": null,
            "align_self": null,
            "border": null,
            "bottom": null,
            "display": null,
            "flex": null,
            "flex_flow": null,
            "grid_area": null,
            "grid_auto_columns": null,
            "grid_auto_flow": null,
            "grid_auto_rows": null,
            "grid_column": null,
            "grid_gap": null,
            "grid_row": null,
            "grid_template_areas": null,
            "grid_template_columns": null,
            "grid_template_rows": null,
            "height": null,
            "justify_content": null,
            "justify_items": null,
            "left": null,
            "margin": null,
            "max_height": null,
            "max_width": null,
            "min_height": null,
            "min_width": null,
            "object_fit": null,
            "object_position": null,
            "order": null,
            "overflow": null,
            "overflow_x": null,
            "overflow_y": null,
            "padding": null,
            "right": null,
            "top": null,
            "visibility": null,
            "width": null
          }
        },
        "4cac6fd9d00f41c6b8222ebe240c36e9": {
          "model_module": "@jupyter-widgets/controls",
          "model_name": "ProgressStyleModel",
          "model_module_version": "1.5.0",
          "state": {
            "_model_module": "@jupyter-widgets/controls",
            "_model_module_version": "1.5.0",
            "_model_name": "ProgressStyleModel",
            "_view_count": null,
            "_view_module": "@jupyter-widgets/base",
            "_view_module_version": "1.2.0",
            "_view_name": "StyleView",
            "bar_color": null,
            "description_width": ""
          }
        },
        "73fe84df8dd74b6293075993907d549f": {
          "model_module": "@jupyter-widgets/base",
          "model_name": "LayoutModel",
          "model_module_version": "1.2.0",
          "state": {
            "_model_module": "@jupyter-widgets/base",
            "_model_module_version": "1.2.0",
            "_model_name": "LayoutModel",
            "_view_count": null,
            "_view_module": "@jupyter-widgets/base",
            "_view_module_version": "1.2.0",
            "_view_name": "LayoutView",
            "align_content": null,
            "align_items": null,
            "align_self": null,
            "border": null,
            "bottom": null,
            "display": null,
            "flex": null,
            "flex_flow": null,
            "grid_area": null,
            "grid_auto_columns": null,
            "grid_auto_flow": null,
            "grid_auto_rows": null,
            "grid_column": null,
            "grid_gap": null,
            "grid_row": null,
            "grid_template_areas": null,
            "grid_template_columns": null,
            "grid_template_rows": null,
            "height": null,
            "justify_content": null,
            "justify_items": null,
            "left": null,
            "margin": null,
            "max_height": null,
            "max_width": null,
            "min_height": null,
            "min_width": null,
            "object_fit": null,
            "object_position": null,
            "order": null,
            "overflow": null,
            "overflow_x": null,
            "overflow_y": null,
            "padding": null,
            "right": null,
            "top": null,
            "visibility": null,
            "width": null
          }
        },
        "e92bb6d386d543cb95724a63db98990c": {
          "model_module": "@jupyter-widgets/controls",
          "model_name": "DescriptionStyleModel",
          "model_module_version": "1.5.0",
          "state": {
            "_model_module": "@jupyter-widgets/controls",
            "_model_module_version": "1.5.0",
            "_model_name": "DescriptionStyleModel",
            "_view_count": null,
            "_view_module": "@jupyter-widgets/base",
            "_view_module_version": "1.2.0",
            "_view_name": "StyleView",
            "description_width": ""
          }
        },
        "8031ef36d9f34bd9bf715f4010d801fd": {
          "model_module": "@jupyter-widgets/controls",
          "model_name": "HBoxModel",
          "model_module_version": "1.5.0",
          "state": {
            "_dom_classes": [],
            "_model_module": "@jupyter-widgets/controls",
            "_model_module_version": "1.5.0",
            "_model_name": "HBoxModel",
            "_view_count": null,
            "_view_module": "@jupyter-widgets/controls",
            "_view_module_version": "1.5.0",
            "_view_name": "HBoxView",
            "box_style": "",
            "children": [
              "IPY_MODEL_ad4d4dc7c22a44b19ab63c7bd0df83be",
              "IPY_MODEL_70c7fb70d8e448db88634243b74a66a2",
              "IPY_MODEL_1830eda3b24f45c58cbd62237e1464cc"
            ],
            "layout": "IPY_MODEL_06f0d5bd940e4b0cbe4dec75151f1e7c"
          }
        },
        "ad4d4dc7c22a44b19ab63c7bd0df83be": {
          "model_module": "@jupyter-widgets/controls",
          "model_name": "HTMLModel",
          "model_module_version": "1.5.0",
          "state": {
            "_dom_classes": [],
            "_model_module": "@jupyter-widgets/controls",
            "_model_module_version": "1.5.0",
            "_model_name": "HTMLModel",
            "_view_count": null,
            "_view_module": "@jupyter-widgets/controls",
            "_view_module_version": "1.5.0",
            "_view_name": "HTMLView",
            "description": "",
            "description_tooltip": null,
            "layout": "IPY_MODEL_ee962ba82b6642bc8e80a2255dcc3bbd",
            "placeholder": "​",
            "style": "IPY_MODEL_76e95f1f954b49e68490062101fe3d94",
            "value": "Downloading (…)cial_tokens_map.json: 100%"
          }
        },
        "70c7fb70d8e448db88634243b74a66a2": {
          "model_module": "@jupyter-widgets/controls",
          "model_name": "FloatProgressModel",
          "model_module_version": "1.5.0",
          "state": {
            "_dom_classes": [],
            "_model_module": "@jupyter-widgets/controls",
            "_model_module_version": "1.5.0",
            "_model_name": "FloatProgressModel",
            "_view_count": null,
            "_view_module": "@jupyter-widgets/controls",
            "_view_module_version": "1.5.0",
            "_view_name": "ProgressView",
            "bar_style": "success",
            "description": "",
            "description_tooltip": null,
            "layout": "IPY_MODEL_a60c0ed1b4e445f798428e5ecb601556",
            "max": 150,
            "min": 0,
            "orientation": "horizontal",
            "style": "IPY_MODEL_c3abc1f181254f4da04806f06444dfd9",
            "value": 150
          }
        },
        "1830eda3b24f45c58cbd62237e1464cc": {
          "model_module": "@jupyter-widgets/controls",
          "model_name": "HTMLModel",
          "model_module_version": "1.5.0",
          "state": {
            "_dom_classes": [],
            "_model_module": "@jupyter-widgets/controls",
            "_model_module_version": "1.5.0",
            "_model_name": "HTMLModel",
            "_view_count": null,
            "_view_module": "@jupyter-widgets/controls",
            "_view_module_version": "1.5.0",
            "_view_name": "HTMLView",
            "description": "",
            "description_tooltip": null,
            "layout": "IPY_MODEL_365685dedf2b4bf1b5293118cd3c0706",
            "placeholder": "​",
            "style": "IPY_MODEL_5fda681a02b14edea8f371640800bbd5",
            "value": " 150/150 [00:00&lt;00:00, 9.18kB/s]"
          }
        },
        "06f0d5bd940e4b0cbe4dec75151f1e7c": {
          "model_module": "@jupyter-widgets/base",
          "model_name": "LayoutModel",
          "model_module_version": "1.2.0",
          "state": {
            "_model_module": "@jupyter-widgets/base",
            "_model_module_version": "1.2.0",
            "_model_name": "LayoutModel",
            "_view_count": null,
            "_view_module": "@jupyter-widgets/base",
            "_view_module_version": "1.2.0",
            "_view_name": "LayoutView",
            "align_content": null,
            "align_items": null,
            "align_self": null,
            "border": null,
            "bottom": null,
            "display": null,
            "flex": null,
            "flex_flow": null,
            "grid_area": null,
            "grid_auto_columns": null,
            "grid_auto_flow": null,
            "grid_auto_rows": null,
            "grid_column": null,
            "grid_gap": null,
            "grid_row": null,
            "grid_template_areas": null,
            "grid_template_columns": null,
            "grid_template_rows": null,
            "height": null,
            "justify_content": null,
            "justify_items": null,
            "left": null,
            "margin": null,
            "max_height": null,
            "max_width": null,
            "min_height": null,
            "min_width": null,
            "object_fit": null,
            "object_position": null,
            "order": null,
            "overflow": null,
            "overflow_x": null,
            "overflow_y": null,
            "padding": null,
            "right": null,
            "top": null,
            "visibility": null,
            "width": null
          }
        },
        "ee962ba82b6642bc8e80a2255dcc3bbd": {
          "model_module": "@jupyter-widgets/base",
          "model_name": "LayoutModel",
          "model_module_version": "1.2.0",
          "state": {
            "_model_module": "@jupyter-widgets/base",
            "_model_module_version": "1.2.0",
            "_model_name": "LayoutModel",
            "_view_count": null,
            "_view_module": "@jupyter-widgets/base",
            "_view_module_version": "1.2.0",
            "_view_name": "LayoutView",
            "align_content": null,
            "align_items": null,
            "align_self": null,
            "border": null,
            "bottom": null,
            "display": null,
            "flex": null,
            "flex_flow": null,
            "grid_area": null,
            "grid_auto_columns": null,
            "grid_auto_flow": null,
            "grid_auto_rows": null,
            "grid_column": null,
            "grid_gap": null,
            "grid_row": null,
            "grid_template_areas": null,
            "grid_template_columns": null,
            "grid_template_rows": null,
            "height": null,
            "justify_content": null,
            "justify_items": null,
            "left": null,
            "margin": null,
            "max_height": null,
            "max_width": null,
            "min_height": null,
            "min_width": null,
            "object_fit": null,
            "object_position": null,
            "order": null,
            "overflow": null,
            "overflow_x": null,
            "overflow_y": null,
            "padding": null,
            "right": null,
            "top": null,
            "visibility": null,
            "width": null
          }
        },
        "76e95f1f954b49e68490062101fe3d94": {
          "model_module": "@jupyter-widgets/controls",
          "model_name": "DescriptionStyleModel",
          "model_module_version": "1.5.0",
          "state": {
            "_model_module": "@jupyter-widgets/controls",
            "_model_module_version": "1.5.0",
            "_model_name": "DescriptionStyleModel",
            "_view_count": null,
            "_view_module": "@jupyter-widgets/base",
            "_view_module_version": "1.2.0",
            "_view_name": "StyleView",
            "description_width": ""
          }
        },
        "a60c0ed1b4e445f798428e5ecb601556": {
          "model_module": "@jupyter-widgets/base",
          "model_name": "LayoutModel",
          "model_module_version": "1.2.0",
          "state": {
            "_model_module": "@jupyter-widgets/base",
            "_model_module_version": "1.2.0",
            "_model_name": "LayoutModel",
            "_view_count": null,
            "_view_module": "@jupyter-widgets/base",
            "_view_module_version": "1.2.0",
            "_view_name": "LayoutView",
            "align_content": null,
            "align_items": null,
            "align_self": null,
            "border": null,
            "bottom": null,
            "display": null,
            "flex": null,
            "flex_flow": null,
            "grid_area": null,
            "grid_auto_columns": null,
            "grid_auto_flow": null,
            "grid_auto_rows": null,
            "grid_column": null,
            "grid_gap": null,
            "grid_row": null,
            "grid_template_areas": null,
            "grid_template_columns": null,
            "grid_template_rows": null,
            "height": null,
            "justify_content": null,
            "justify_items": null,
            "left": null,
            "margin": null,
            "max_height": null,
            "max_width": null,
            "min_height": null,
            "min_width": null,
            "object_fit": null,
            "object_position": null,
            "order": null,
            "overflow": null,
            "overflow_x": null,
            "overflow_y": null,
            "padding": null,
            "right": null,
            "top": null,
            "visibility": null,
            "width": null
          }
        },
        "c3abc1f181254f4da04806f06444dfd9": {
          "model_module": "@jupyter-widgets/controls",
          "model_name": "ProgressStyleModel",
          "model_module_version": "1.5.0",
          "state": {
            "_model_module": "@jupyter-widgets/controls",
            "_model_module_version": "1.5.0",
            "_model_name": "ProgressStyleModel",
            "_view_count": null,
            "_view_module": "@jupyter-widgets/base",
            "_view_module_version": "1.2.0",
            "_view_name": "StyleView",
            "bar_color": null,
            "description_width": ""
          }
        },
        "365685dedf2b4bf1b5293118cd3c0706": {
          "model_module": "@jupyter-widgets/base",
          "model_name": "LayoutModel",
          "model_module_version": "1.2.0",
          "state": {
            "_model_module": "@jupyter-widgets/base",
            "_model_module_version": "1.2.0",
            "_model_name": "LayoutModel",
            "_view_count": null,
            "_view_module": "@jupyter-widgets/base",
            "_view_module_version": "1.2.0",
            "_view_name": "LayoutView",
            "align_content": null,
            "align_items": null,
            "align_self": null,
            "border": null,
            "bottom": null,
            "display": null,
            "flex": null,
            "flex_flow": null,
            "grid_area": null,
            "grid_auto_columns": null,
            "grid_auto_flow": null,
            "grid_auto_rows": null,
            "grid_column": null,
            "grid_gap": null,
            "grid_row": null,
            "grid_template_areas": null,
            "grid_template_columns": null,
            "grid_template_rows": null,
            "height": null,
            "justify_content": null,
            "justify_items": null,
            "left": null,
            "margin": null,
            "max_height": null,
            "max_width": null,
            "min_height": null,
            "min_width": null,
            "object_fit": null,
            "object_position": null,
            "order": null,
            "overflow": null,
            "overflow_x": null,
            "overflow_y": null,
            "padding": null,
            "right": null,
            "top": null,
            "visibility": null,
            "width": null
          }
        },
        "5fda681a02b14edea8f371640800bbd5": {
          "model_module": "@jupyter-widgets/controls",
          "model_name": "DescriptionStyleModel",
          "model_module_version": "1.5.0",
          "state": {
            "_model_module": "@jupyter-widgets/controls",
            "_model_module_version": "1.5.0",
            "_model_name": "DescriptionStyleModel",
            "_view_count": null,
            "_view_module": "@jupyter-widgets/base",
            "_view_module_version": "1.2.0",
            "_view_name": "StyleView",
            "description_width": ""
          }
        },
        "8ffde61a10b4439eba95acdf0956d740": {
          "model_module": "@jupyter-widgets/controls",
          "model_name": "HBoxModel",
          "model_module_version": "1.5.0",
          "state": {
            "_dom_classes": [],
            "_model_module": "@jupyter-widgets/controls",
            "_model_module_version": "1.5.0",
            "_model_name": "HBoxModel",
            "_view_count": null,
            "_view_module": "@jupyter-widgets/controls",
            "_view_module_version": "1.5.0",
            "_view_name": "HBoxView",
            "box_style": "",
            "children": [
              "IPY_MODEL_5c4bde0ae7d1426289c664b0ce68e95a",
              "IPY_MODEL_c128778c347d40208406a10588ea37ff",
              "IPY_MODEL_20d67dab97634938b30d98fbc2a8b6d8"
            ],
            "layout": "IPY_MODEL_8022f73f0fa54c82ae3924ffcfcba26b"
          }
        },
        "5c4bde0ae7d1426289c664b0ce68e95a": {
          "model_module": "@jupyter-widgets/controls",
          "model_name": "HTMLModel",
          "model_module_version": "1.5.0",
          "state": {
            "_dom_classes": [],
            "_model_module": "@jupyter-widgets/controls",
            "_model_module_version": "1.5.0",
            "_model_name": "HTMLModel",
            "_view_count": null,
            "_view_module": "@jupyter-widgets/controls",
            "_view_module_version": "1.5.0",
            "_view_name": "HTMLView",
            "description": "",
            "description_tooltip": null,
            "layout": "IPY_MODEL_8dcc532c937b4d18a432d4e08acb8590",
            "placeholder": "​",
            "style": "IPY_MODEL_f2359ec1542b455992174215c4c7871a",
            "value": "Downloading tf_model.h5: 100%"
          }
        },
        "c128778c347d40208406a10588ea37ff": {
          "model_module": "@jupyter-widgets/controls",
          "model_name": "FloatProgressModel",
          "model_module_version": "1.5.0",
          "state": {
            "_dom_classes": [],
            "_model_module": "@jupyter-widgets/controls",
            "_model_module_version": "1.5.0",
            "_model_name": "FloatProgressModel",
            "_view_count": null,
            "_view_module": "@jupyter-widgets/controls",
            "_view_module_version": "1.5.0",
            "_view_name": "ProgressView",
            "bar_style": "success",
            "description": "",
            "description_tooltip": null,
            "layout": "IPY_MODEL_7bd80b16269245e5825d77764e72a320",
            "max": 498845224,
            "min": 0,
            "orientation": "horizontal",
            "style": "IPY_MODEL_d7359b7131b04d32ab09bdc7dd02c3a8",
            "value": 498845224
          }
        },
        "20d67dab97634938b30d98fbc2a8b6d8": {
          "model_module": "@jupyter-widgets/controls",
          "model_name": "HTMLModel",
          "model_module_version": "1.5.0",
          "state": {
            "_dom_classes": [],
            "_model_module": "@jupyter-widgets/controls",
            "_model_module_version": "1.5.0",
            "_model_name": "HTMLModel",
            "_view_count": null,
            "_view_module": "@jupyter-widgets/controls",
            "_view_module_version": "1.5.0",
            "_view_name": "HTMLView",
            "description": "",
            "description_tooltip": null,
            "layout": "IPY_MODEL_d69c9c6ae37d4dcc8b4a93cde1074680",
            "placeholder": "​",
            "style": "IPY_MODEL_98b34cbf1b9443a095d169c1f72b2c64",
            "value": " 499M/499M [00:02&lt;00:00, 210MB/s]"
          }
        },
        "8022f73f0fa54c82ae3924ffcfcba26b": {
          "model_module": "@jupyter-widgets/base",
          "model_name": "LayoutModel",
          "model_module_version": "1.2.0",
          "state": {
            "_model_module": "@jupyter-widgets/base",
            "_model_module_version": "1.2.0",
            "_model_name": "LayoutModel",
            "_view_count": null,
            "_view_module": "@jupyter-widgets/base",
            "_view_module_version": "1.2.0",
            "_view_name": "LayoutView",
            "align_content": null,
            "align_items": null,
            "align_self": null,
            "border": null,
            "bottom": null,
            "display": null,
            "flex": null,
            "flex_flow": null,
            "grid_area": null,
            "grid_auto_columns": null,
            "grid_auto_flow": null,
            "grid_auto_rows": null,
            "grid_column": null,
            "grid_gap": null,
            "grid_row": null,
            "grid_template_areas": null,
            "grid_template_columns": null,
            "grid_template_rows": null,
            "height": null,
            "justify_content": null,
            "justify_items": null,
            "left": null,
            "margin": null,
            "max_height": null,
            "max_width": null,
            "min_height": null,
            "min_width": null,
            "object_fit": null,
            "object_position": null,
            "order": null,
            "overflow": null,
            "overflow_x": null,
            "overflow_y": null,
            "padding": null,
            "right": null,
            "top": null,
            "visibility": null,
            "width": null
          }
        },
        "8dcc532c937b4d18a432d4e08acb8590": {
          "model_module": "@jupyter-widgets/base",
          "model_name": "LayoutModel",
          "model_module_version": "1.2.0",
          "state": {
            "_model_module": "@jupyter-widgets/base",
            "_model_module_version": "1.2.0",
            "_model_name": "LayoutModel",
            "_view_count": null,
            "_view_module": "@jupyter-widgets/base",
            "_view_module_version": "1.2.0",
            "_view_name": "LayoutView",
            "align_content": null,
            "align_items": null,
            "align_self": null,
            "border": null,
            "bottom": null,
            "display": null,
            "flex": null,
            "flex_flow": null,
            "grid_area": null,
            "grid_auto_columns": null,
            "grid_auto_flow": null,
            "grid_auto_rows": null,
            "grid_column": null,
            "grid_gap": null,
            "grid_row": null,
            "grid_template_areas": null,
            "grid_template_columns": null,
            "grid_template_rows": null,
            "height": null,
            "justify_content": null,
            "justify_items": null,
            "left": null,
            "margin": null,
            "max_height": null,
            "max_width": null,
            "min_height": null,
            "min_width": null,
            "object_fit": null,
            "object_position": null,
            "order": null,
            "overflow": null,
            "overflow_x": null,
            "overflow_y": null,
            "padding": null,
            "right": null,
            "top": null,
            "visibility": null,
            "width": null
          }
        },
        "f2359ec1542b455992174215c4c7871a": {
          "model_module": "@jupyter-widgets/controls",
          "model_name": "DescriptionStyleModel",
          "model_module_version": "1.5.0",
          "state": {
            "_model_module": "@jupyter-widgets/controls",
            "_model_module_version": "1.5.0",
            "_model_name": "DescriptionStyleModel",
            "_view_count": null,
            "_view_module": "@jupyter-widgets/base",
            "_view_module_version": "1.2.0",
            "_view_name": "StyleView",
            "description_width": ""
          }
        },
        "7bd80b16269245e5825d77764e72a320": {
          "model_module": "@jupyter-widgets/base",
          "model_name": "LayoutModel",
          "model_module_version": "1.2.0",
          "state": {
            "_model_module": "@jupyter-widgets/base",
            "_model_module_version": "1.2.0",
            "_model_name": "LayoutModel",
            "_view_count": null,
            "_view_module": "@jupyter-widgets/base",
            "_view_module_version": "1.2.0",
            "_view_name": "LayoutView",
            "align_content": null,
            "align_items": null,
            "align_self": null,
            "border": null,
            "bottom": null,
            "display": null,
            "flex": null,
            "flex_flow": null,
            "grid_area": null,
            "grid_auto_columns": null,
            "grid_auto_flow": null,
            "grid_auto_rows": null,
            "grid_column": null,
            "grid_gap": null,
            "grid_row": null,
            "grid_template_areas": null,
            "grid_template_columns": null,
            "grid_template_rows": null,
            "height": null,
            "justify_content": null,
            "justify_items": null,
            "left": null,
            "margin": null,
            "max_height": null,
            "max_width": null,
            "min_height": null,
            "min_width": null,
            "object_fit": null,
            "object_position": null,
            "order": null,
            "overflow": null,
            "overflow_x": null,
            "overflow_y": null,
            "padding": null,
            "right": null,
            "top": null,
            "visibility": null,
            "width": null
          }
        },
        "d7359b7131b04d32ab09bdc7dd02c3a8": {
          "model_module": "@jupyter-widgets/controls",
          "model_name": "ProgressStyleModel",
          "model_module_version": "1.5.0",
          "state": {
            "_model_module": "@jupyter-widgets/controls",
            "_model_module_version": "1.5.0",
            "_model_name": "ProgressStyleModel",
            "_view_count": null,
            "_view_module": "@jupyter-widgets/base",
            "_view_module_version": "1.2.0",
            "_view_name": "StyleView",
            "bar_color": null,
            "description_width": ""
          }
        },
        "d69c9c6ae37d4dcc8b4a93cde1074680": {
          "model_module": "@jupyter-widgets/base",
          "model_name": "LayoutModel",
          "model_module_version": "1.2.0",
          "state": {
            "_model_module": "@jupyter-widgets/base",
            "_model_module_version": "1.2.0",
            "_model_name": "LayoutModel",
            "_view_count": null,
            "_view_module": "@jupyter-widgets/base",
            "_view_module_version": "1.2.0",
            "_view_name": "LayoutView",
            "align_content": null,
            "align_items": null,
            "align_self": null,
            "border": null,
            "bottom": null,
            "display": null,
            "flex": null,
            "flex_flow": null,
            "grid_area": null,
            "grid_auto_columns": null,
            "grid_auto_flow": null,
            "grid_auto_rows": null,
            "grid_column": null,
            "grid_gap": null,
            "grid_row": null,
            "grid_template_areas": null,
            "grid_template_columns": null,
            "grid_template_rows": null,
            "height": null,
            "justify_content": null,
            "justify_items": null,
            "left": null,
            "margin": null,
            "max_height": null,
            "max_width": null,
            "min_height": null,
            "min_width": null,
            "object_fit": null,
            "object_position": null,
            "order": null,
            "overflow": null,
            "overflow_x": null,
            "overflow_y": null,
            "padding": null,
            "right": null,
            "top": null,
            "visibility": null,
            "width": null
          }
        },
        "98b34cbf1b9443a095d169c1f72b2c64": {
          "model_module": "@jupyter-widgets/controls",
          "model_name": "DescriptionStyleModel",
          "model_module_version": "1.5.0",
          "state": {
            "_model_module": "@jupyter-widgets/controls",
            "_model_module_version": "1.5.0",
            "_model_name": "DescriptionStyleModel",
            "_view_count": null,
            "_view_module": "@jupyter-widgets/base",
            "_view_module_version": "1.2.0",
            "_view_name": "StyleView",
            "description_width": ""
          }
        }
      }
    }
  },
  "cells": [
    {
      "cell_type": "code",
      "source": [
        "!pip install torch\n",
        "!pip install transformers"
      ],
      "metadata": {
        "colab": {
          "base_uri": "https://localhost:8080/"
        },
        "id": "KkHE7QAiDdfF",
        "outputId": "5631cdac-0fba-4261-f58b-f25a4975bb2f"
      },
      "execution_count": 1,
      "outputs": [
        {
          "output_type": "stream",
          "name": "stdout",
          "text": [
            "Looking in indexes: https://pypi.org/simple, https://us-python.pkg.dev/colab-wheels/public/simple/\n",
            "Requirement already satisfied: torch in /usr/local/lib/python3.10/dist-packages (2.0.1+cu118)\n",
            "Requirement already satisfied: filelock in /usr/local/lib/python3.10/dist-packages (from torch) (3.12.0)\n",
            "Requirement already satisfied: typing-extensions in /usr/local/lib/python3.10/dist-packages (from torch) (4.5.0)\n",
            "Requirement already satisfied: sympy in /usr/local/lib/python3.10/dist-packages (from torch) (1.11.1)\n",
            "Requirement already satisfied: networkx in /usr/local/lib/python3.10/dist-packages (from torch) (3.1)\n",
            "Requirement already satisfied: jinja2 in /usr/local/lib/python3.10/dist-packages (from torch) (3.1.2)\n",
            "Requirement already satisfied: triton==2.0.0 in /usr/local/lib/python3.10/dist-packages (from torch) (2.0.0)\n",
            "Requirement already satisfied: cmake in /usr/local/lib/python3.10/dist-packages (from triton==2.0.0->torch) (3.25.2)\n",
            "Requirement already satisfied: lit in /usr/local/lib/python3.10/dist-packages (from triton==2.0.0->torch) (16.0.5)\n",
            "Requirement already satisfied: MarkupSafe>=2.0 in /usr/local/lib/python3.10/dist-packages (from jinja2->torch) (2.1.2)\n",
            "Requirement already satisfied: mpmath>=0.19 in /usr/local/lib/python3.10/dist-packages (from sympy->torch) (1.3.0)\n",
            "Looking in indexes: https://pypi.org/simple, https://us-python.pkg.dev/colab-wheels/public/simple/\n",
            "Requirement already satisfied: transformers in /usr/local/lib/python3.10/dist-packages (4.30.2)\n",
            "Requirement already satisfied: filelock in /usr/local/lib/python3.10/dist-packages (from transformers) (3.12.0)\n",
            "Requirement already satisfied: huggingface-hub<1.0,>=0.14.1 in /usr/local/lib/python3.10/dist-packages (from transformers) (0.15.1)\n",
            "Requirement already satisfied: numpy>=1.17 in /usr/local/lib/python3.10/dist-packages (from transformers) (1.22.4)\n",
            "Requirement already satisfied: packaging>=20.0 in /usr/local/lib/python3.10/dist-packages (from transformers) (23.1)\n",
            "Requirement already satisfied: pyyaml>=5.1 in /usr/local/lib/python3.10/dist-packages (from transformers) (6.0)\n",
            "Requirement already satisfied: regex!=2019.12.17 in /usr/local/lib/python3.10/dist-packages (from transformers) (2022.10.31)\n",
            "Requirement already satisfied: requests in /usr/local/lib/python3.10/dist-packages (from transformers) (2.27.1)\n",
            "Requirement already satisfied: tokenizers!=0.11.3,<0.14,>=0.11.1 in /usr/local/lib/python3.10/dist-packages (from transformers) (0.13.3)\n",
            "Requirement already satisfied: safetensors>=0.3.1 in /usr/local/lib/python3.10/dist-packages (from transformers) (0.3.1)\n",
            "Requirement already satisfied: tqdm>=4.27 in /usr/local/lib/python3.10/dist-packages (from transformers) (4.65.0)\n",
            "Requirement already satisfied: fsspec in /usr/local/lib/python3.10/dist-packages (from huggingface-hub<1.0,>=0.14.1->transformers) (2023.4.0)\n",
            "Requirement already satisfied: typing-extensions>=3.7.4.3 in /usr/local/lib/python3.10/dist-packages (from huggingface-hub<1.0,>=0.14.1->transformers) (4.5.0)\n",
            "Requirement already satisfied: urllib3<1.27,>=1.21.1 in /usr/local/lib/python3.10/dist-packages (from requests->transformers) (1.26.15)\n",
            "Requirement already satisfied: certifi>=2017.4.17 in /usr/local/lib/python3.10/dist-packages (from requests->transformers) (2022.12.7)\n",
            "Requirement already satisfied: charset-normalizer~=2.0.0 in /usr/local/lib/python3.10/dist-packages (from requests->transformers) (2.0.12)\n",
            "Requirement already satisfied: idna<4,>=2.5 in /usr/local/lib/python3.10/dist-packages (from requests->transformers) (3.4)\n"
          ]
        }
      ]
    },
    {
      "cell_type": "code",
      "source": [
        "!pip install catboost"
      ],
      "metadata": {
        "colab": {
          "base_uri": "https://localhost:8080/"
        },
        "id": "FAqR22Vi1GQV",
        "outputId": "b9ff8b47-300b-4927-c647-cfa37577d854"
      },
      "execution_count": 2,
      "outputs": [
        {
          "output_type": "stream",
          "name": "stdout",
          "text": [
            "Looking in indexes: https://pypi.org/simple, https://us-python.pkg.dev/colab-wheels/public/simple/\n",
            "Requirement already satisfied: catboost in /usr/local/lib/python3.10/dist-packages (1.2)\n",
            "Requirement already satisfied: graphviz in /usr/local/lib/python3.10/dist-packages (from catboost) (0.20.1)\n",
            "Requirement already satisfied: matplotlib in /usr/local/lib/python3.10/dist-packages (from catboost) (3.7.1)\n",
            "Requirement already satisfied: numpy>=1.16.0 in /usr/local/lib/python3.10/dist-packages (from catboost) (1.22.4)\n",
            "Requirement already satisfied: pandas>=0.24 in /usr/local/lib/python3.10/dist-packages (from catboost) (1.5.3)\n",
            "Requirement already satisfied: scipy in /usr/local/lib/python3.10/dist-packages (from catboost) (1.10.1)\n",
            "Requirement already satisfied: plotly in /usr/local/lib/python3.10/dist-packages (from catboost) (5.13.1)\n",
            "Requirement already satisfied: six in /usr/local/lib/python3.10/dist-packages (from catboost) (1.16.0)\n",
            "Requirement already satisfied: python-dateutil>=2.8.1 in /usr/local/lib/python3.10/dist-packages (from pandas>=0.24->catboost) (2.8.2)\n",
            "Requirement already satisfied: pytz>=2020.1 in /usr/local/lib/python3.10/dist-packages (from pandas>=0.24->catboost) (2022.7.1)\n",
            "Requirement already satisfied: contourpy>=1.0.1 in /usr/local/lib/python3.10/dist-packages (from matplotlib->catboost) (1.0.7)\n",
            "Requirement already satisfied: cycler>=0.10 in /usr/local/lib/python3.10/dist-packages (from matplotlib->catboost) (0.11.0)\n",
            "Requirement already satisfied: fonttools>=4.22.0 in /usr/local/lib/python3.10/dist-packages (from matplotlib->catboost) (4.39.3)\n",
            "Requirement already satisfied: kiwisolver>=1.0.1 in /usr/local/lib/python3.10/dist-packages (from matplotlib->catboost) (1.4.4)\n",
            "Requirement already satisfied: packaging>=20.0 in /usr/local/lib/python3.10/dist-packages (from matplotlib->catboost) (23.1)\n",
            "Requirement already satisfied: pillow>=6.2.0 in /usr/local/lib/python3.10/dist-packages (from matplotlib->catboost) (8.4.0)\n",
            "Requirement already satisfied: pyparsing>=2.3.1 in /usr/local/lib/python3.10/dist-packages (from matplotlib->catboost) (3.0.9)\n",
            "Requirement already satisfied: tenacity>=6.2.0 in /usr/local/lib/python3.10/dist-packages (from plotly->catboost) (8.2.2)\n"
          ]
        }
      ]
    },
    {
      "cell_type": "code",
      "source": [
        "import pandas as pd\n",
        "import numpy as np\n",
        "import tensorflow as tf\n",
        "from sklearn.model_selection import train_test_split\n",
        "from sklearn.metrics import mean_squared_error, mean_absolute_error, r2_score, mean_absolute_percentage_error\n",
        "from tensorflow.keras.models import Sequential\n",
        "from tensorflow.keras.layers import LSTM, Dense, Embedding, Dropout\n",
        "from tensorflow.keras.optimizers import Adam\n",
        "from tensorflow.keras.callbacks import EarlyStopping\n",
        "from transformers import TFBertModel, BertTokenizer, AutoTokenizer, TFAutoModel\n",
        "from sklearn.ensemble import RandomForestRegressor\n",
        "from catboost import CatBoostRegressor\n",
        "import xgboost as xgb\n",
        "import pandas as pd\n",
        "import numpy as np\n",
        "import tensorflow as tf\n",
        "from transformers import TFBertModel, BertTokenizer, AutoTokenizer, TFAutoModel\n",
        "from sklearn.model_selection import train_test_split\n",
        "from tensorflow.keras.layers import LSTM, Dense, Dropout, Input\n",
        "from tensorflow.keras.models import Model\n",
        "from tensorflow.keras.callbacks import EarlyStopping\n",
        "from sklearn.metrics import mean_squared_error, mean_absolute_error, r2_score\n",
        "from math import sqrt"
      ],
      "metadata": {
        "id": "3qMP6TerDtok"
      },
      "execution_count": 3,
      "outputs": []
    },
    {
      "cell_type": "code",
      "source": [
        "code = pd.read_excel(r\"/content/totalmerged.xlsx\")\n",
        "code"
      ],
      "metadata": {
        "colab": {
          "base_uri": "https://localhost:8080/",
          "height": 641
        },
        "id": "HfCd8ykRE3fH",
        "outputId": "9970f520-4560-4bed-84e5-b09cd8467db9"
      },
      "execution_count": 4,
      "outputs": [
        {
          "output_type": "execute_result",
          "data": {
            "text/plain": [
              "                                              Question  \\\n",
              "0                        Print the factors of a number   \n",
              "1                        Print the factors of a number   \n",
              "2                        Print the factors of a number   \n",
              "3                        Print the factors of a number   \n",
              "4                        Print the factors of a number   \n",
              "..                                                 ...   \n",
              "995  Print maximum Occurring Character in a String ...   \n",
              "996  Print maximum Occurring Character in a String ...   \n",
              "997  Print maximum Occurring Character in a String ...   \n",
              "998  Print maximum Occurring Character in a String ...   \n",
              "999  Print maximum Occurring Character in a String ...   \n",
              "\n",
              "                                          Correct_Code  \\\n",
              "0    #include <stdio.h>\\nvoid printFactors(int numb...   \n",
              "1    #include <stdio.h>\\nvoid printFactors(int numb...   \n",
              "2    #include <stdio.h>\\nvoid printFactors(int numb...   \n",
              "3    #include <stdio.h>\\nvoid printFactors(int numb...   \n",
              "4    #include <stdio.h>\\nvoid printFactors(int numb...   \n",
              "..                                                 ...   \n",
              "995  #include <stdio.h>\\n\\n#define ASCII_SIZE 128\\n...   \n",
              "996  #include <stdio.h>\\n\\n#define ASCII_SIZE 128\\n...   \n",
              "997  #include <stdio.h>\\n\\n#define ASCII_SIZE 128\\n...   \n",
              "998  #include <stdio.h>\\n\\n#define ASCII_SIZE 128\\n...   \n",
              "999  #include <stdio.h>\\n\\n#define ASCII_SIZE 128\\n...   \n",
              "\n",
              "                                       Code_with_Error  Total_Marks  \n",
              "0    #include <stdio.h>\\nvoid printFactors(int numb...          7.0  \n",
              "1    #include <stdio.h>\\nvoid printFactors(int numb...          8.0  \n",
              "2    #include <stdio.h>\\nvoid printFactors(int numb...          5.0  \n",
              "3    #include <stdio.h>\\n\\nvoid printFactors(int nu...          7.0  \n",
              "4    #include <stdio.h>\\n\\nvoid printFactors(int nu...          5.0  \n",
              "..                                                 ...          ...  \n",
              "995  #include <stdio.h> \\n\\n#define MAX_SIZE 100 \\n...          7.0  \n",
              "996  #include <stdio.h> \\n\\nchar getMaxOccurringCha...          6.0  \n",
              "997  #include <stdio.h> \\n\\nchar getMaxOccurringCha...          6.0  \n",
              "998  #include <stdio.h> \\n\\n#define ASCII_SIZE 128 ...          5.0  \n",
              "999  #include <stdio.h> \\n\\n#define ASCII_SIZE 128 ...          6.0  \n",
              "\n",
              "[1000 rows x 4 columns]"
            ],
            "text/html": [
              "\n",
              "  <div id=\"df-be307235-40fa-43d9-b50d-6427cb7ce0e4\">\n",
              "    <div class=\"colab-df-container\">\n",
              "      <div>\n",
              "<style scoped>\n",
              "    .dataframe tbody tr th:only-of-type {\n",
              "        vertical-align: middle;\n",
              "    }\n",
              "\n",
              "    .dataframe tbody tr th {\n",
              "        vertical-align: top;\n",
              "    }\n",
              "\n",
              "    .dataframe thead th {\n",
              "        text-align: right;\n",
              "    }\n",
              "</style>\n",
              "<table border=\"1\" class=\"dataframe\">\n",
              "  <thead>\n",
              "    <tr style=\"text-align: right;\">\n",
              "      <th></th>\n",
              "      <th>Question</th>\n",
              "      <th>Correct_Code</th>\n",
              "      <th>Code_with_Error</th>\n",
              "      <th>Total_Marks</th>\n",
              "    </tr>\n",
              "  </thead>\n",
              "  <tbody>\n",
              "    <tr>\n",
              "      <th>0</th>\n",
              "      <td>Print the factors of a number</td>\n",
              "      <td>#include &lt;stdio.h&gt;\\nvoid printFactors(int numb...</td>\n",
              "      <td>#include &lt;stdio.h&gt;\\nvoid printFactors(int numb...</td>\n",
              "      <td>7.0</td>\n",
              "    </tr>\n",
              "    <tr>\n",
              "      <th>1</th>\n",
              "      <td>Print the factors of a number</td>\n",
              "      <td>#include &lt;stdio.h&gt;\\nvoid printFactors(int numb...</td>\n",
              "      <td>#include &lt;stdio.h&gt;\\nvoid printFactors(int numb...</td>\n",
              "      <td>8.0</td>\n",
              "    </tr>\n",
              "    <tr>\n",
              "      <th>2</th>\n",
              "      <td>Print the factors of a number</td>\n",
              "      <td>#include &lt;stdio.h&gt;\\nvoid printFactors(int numb...</td>\n",
              "      <td>#include &lt;stdio.h&gt;\\nvoid printFactors(int numb...</td>\n",
              "      <td>5.0</td>\n",
              "    </tr>\n",
              "    <tr>\n",
              "      <th>3</th>\n",
              "      <td>Print the factors of a number</td>\n",
              "      <td>#include &lt;stdio.h&gt;\\nvoid printFactors(int numb...</td>\n",
              "      <td>#include &lt;stdio.h&gt;\\n\\nvoid printFactors(int nu...</td>\n",
              "      <td>7.0</td>\n",
              "    </tr>\n",
              "    <tr>\n",
              "      <th>4</th>\n",
              "      <td>Print the factors of a number</td>\n",
              "      <td>#include &lt;stdio.h&gt;\\nvoid printFactors(int numb...</td>\n",
              "      <td>#include &lt;stdio.h&gt;\\n\\nvoid printFactors(int nu...</td>\n",
              "      <td>5.0</td>\n",
              "    </tr>\n",
              "    <tr>\n",
              "      <th>...</th>\n",
              "      <td>...</td>\n",
              "      <td>...</td>\n",
              "      <td>...</td>\n",
              "      <td>...</td>\n",
              "    </tr>\n",
              "    <tr>\n",
              "      <th>995</th>\n",
              "      <td>Print maximum Occurring Character in a String ...</td>\n",
              "      <td>#include &lt;stdio.h&gt;\\n\\n#define ASCII_SIZE 128\\n...</td>\n",
              "      <td>#include &lt;stdio.h&gt; \\n\\n#define MAX_SIZE 100 \\n...</td>\n",
              "      <td>7.0</td>\n",
              "    </tr>\n",
              "    <tr>\n",
              "      <th>996</th>\n",
              "      <td>Print maximum Occurring Character in a String ...</td>\n",
              "      <td>#include &lt;stdio.h&gt;\\n\\n#define ASCII_SIZE 128\\n...</td>\n",
              "      <td>#include &lt;stdio.h&gt; \\n\\nchar getMaxOccurringCha...</td>\n",
              "      <td>6.0</td>\n",
              "    </tr>\n",
              "    <tr>\n",
              "      <th>997</th>\n",
              "      <td>Print maximum Occurring Character in a String ...</td>\n",
              "      <td>#include &lt;stdio.h&gt;\\n\\n#define ASCII_SIZE 128\\n...</td>\n",
              "      <td>#include &lt;stdio.h&gt; \\n\\nchar getMaxOccurringCha...</td>\n",
              "      <td>6.0</td>\n",
              "    </tr>\n",
              "    <tr>\n",
              "      <th>998</th>\n",
              "      <td>Print maximum Occurring Character in a String ...</td>\n",
              "      <td>#include &lt;stdio.h&gt;\\n\\n#define ASCII_SIZE 128\\n...</td>\n",
              "      <td>#include &lt;stdio.h&gt; \\n\\n#define ASCII_SIZE 128 ...</td>\n",
              "      <td>5.0</td>\n",
              "    </tr>\n",
              "    <tr>\n",
              "      <th>999</th>\n",
              "      <td>Print maximum Occurring Character in a String ...</td>\n",
              "      <td>#include &lt;stdio.h&gt;\\n\\n#define ASCII_SIZE 128\\n...</td>\n",
              "      <td>#include &lt;stdio.h&gt; \\n\\n#define ASCII_SIZE 128 ...</td>\n",
              "      <td>6.0</td>\n",
              "    </tr>\n",
              "  </tbody>\n",
              "</table>\n",
              "<p>1000 rows × 4 columns</p>\n",
              "</div>\n",
              "      <button class=\"colab-df-convert\" onclick=\"convertToInteractive('df-be307235-40fa-43d9-b50d-6427cb7ce0e4')\"\n",
              "              title=\"Convert this dataframe to an interactive table.\"\n",
              "              style=\"display:none;\">\n",
              "        \n",
              "  <svg xmlns=\"http://www.w3.org/2000/svg\" height=\"24px\"viewBox=\"0 0 24 24\"\n",
              "       width=\"24px\">\n",
              "    <path d=\"M0 0h24v24H0V0z\" fill=\"none\"/>\n",
              "    <path d=\"M18.56 5.44l.94 2.06.94-2.06 2.06-.94-2.06-.94-.94-2.06-.94 2.06-2.06.94zm-11 1L8.5 8.5l.94-2.06 2.06-.94-2.06-.94L8.5 2.5l-.94 2.06-2.06.94zm10 10l.94 2.06.94-2.06 2.06-.94-2.06-.94-.94-2.06-.94 2.06-2.06.94z\"/><path d=\"M17.41 7.96l-1.37-1.37c-.4-.4-.92-.59-1.43-.59-.52 0-1.04.2-1.43.59L10.3 9.45l-7.72 7.72c-.78.78-.78 2.05 0 2.83L4 21.41c.39.39.9.59 1.41.59.51 0 1.02-.2 1.41-.59l7.78-7.78 2.81-2.81c.8-.78.8-2.07 0-2.86zM5.41 20L4 18.59l7.72-7.72 1.47 1.35L5.41 20z\"/>\n",
              "  </svg>\n",
              "      </button>\n",
              "      \n",
              "  <style>\n",
              "    .colab-df-container {\n",
              "      display:flex;\n",
              "      flex-wrap:wrap;\n",
              "      gap: 12px;\n",
              "    }\n",
              "\n",
              "    .colab-df-convert {\n",
              "      background-color: #E8F0FE;\n",
              "      border: none;\n",
              "      border-radius: 50%;\n",
              "      cursor: pointer;\n",
              "      display: none;\n",
              "      fill: #1967D2;\n",
              "      height: 32px;\n",
              "      padding: 0 0 0 0;\n",
              "      width: 32px;\n",
              "    }\n",
              "\n",
              "    .colab-df-convert:hover {\n",
              "      background-color: #E2EBFA;\n",
              "      box-shadow: 0px 1px 2px rgba(60, 64, 67, 0.3), 0px 1px 3px 1px rgba(60, 64, 67, 0.15);\n",
              "      fill: #174EA6;\n",
              "    }\n",
              "\n",
              "    [theme=dark] .colab-df-convert {\n",
              "      background-color: #3B4455;\n",
              "      fill: #D2E3FC;\n",
              "    }\n",
              "\n",
              "    [theme=dark] .colab-df-convert:hover {\n",
              "      background-color: #434B5C;\n",
              "      box-shadow: 0px 1px 3px 1px rgba(0, 0, 0, 0.15);\n",
              "      filter: drop-shadow(0px 1px 2px rgba(0, 0, 0, 0.3));\n",
              "      fill: #FFFFFF;\n",
              "    }\n",
              "  </style>\n",
              "\n",
              "      <script>\n",
              "        const buttonEl =\n",
              "          document.querySelector('#df-be307235-40fa-43d9-b50d-6427cb7ce0e4 button.colab-df-convert');\n",
              "        buttonEl.style.display =\n",
              "          google.colab.kernel.accessAllowed ? 'block' : 'none';\n",
              "\n",
              "        async function convertToInteractive(key) {\n",
              "          const element = document.querySelector('#df-be307235-40fa-43d9-b50d-6427cb7ce0e4');\n",
              "          const dataTable =\n",
              "            await google.colab.kernel.invokeFunction('convertToInteractive',\n",
              "                                                     [key], {});\n",
              "          if (!dataTable) return;\n",
              "\n",
              "          const docLinkHtml = 'Like what you see? Visit the ' +\n",
              "            '<a target=\"_blank\" href=https://colab.research.google.com/notebooks/data_table.ipynb>data table notebook</a>'\n",
              "            + ' to learn more about interactive tables.';\n",
              "          element.innerHTML = '';\n",
              "          dataTable['output_type'] = 'display_data';\n",
              "          await google.colab.output.renderOutput(dataTable, element);\n",
              "          const docLink = document.createElement('div');\n",
              "          docLink.innerHTML = docLinkHtml;\n",
              "          element.appendChild(docLink);\n",
              "        }\n",
              "      </script>\n",
              "    </div>\n",
              "  </div>\n",
              "  "
            ]
          },
          "metadata": {},
          "execution_count": 4
        }
      ]
    },
    {
      "cell_type": "code",
      "source": [
        "# Merge columns\n",
        "code['merged'] = code['Question'] +code['Code_with_Error']\n",
        "code"
      ],
      "metadata": {
        "colab": {
          "base_uri": "https://localhost:8080/",
          "height": 814
        },
        "id": "rguQ1gthFASY",
        "outputId": "56541f12-0cd0-46d9-da7c-1a4d6cdf419e"
      },
      "execution_count": 5,
      "outputs": [
        {
          "output_type": "execute_result",
          "data": {
            "text/plain": [
              "                                              Question  \\\n",
              "0                        Print the factors of a number   \n",
              "1                        Print the factors of a number   \n",
              "2                        Print the factors of a number   \n",
              "3                        Print the factors of a number   \n",
              "4                        Print the factors of a number   \n",
              "..                                                 ...   \n",
              "995  Print maximum Occurring Character in a String ...   \n",
              "996  Print maximum Occurring Character in a String ...   \n",
              "997  Print maximum Occurring Character in a String ...   \n",
              "998  Print maximum Occurring Character in a String ...   \n",
              "999  Print maximum Occurring Character in a String ...   \n",
              "\n",
              "                                          Correct_Code  \\\n",
              "0    #include <stdio.h>\\nvoid printFactors(int numb...   \n",
              "1    #include <stdio.h>\\nvoid printFactors(int numb...   \n",
              "2    #include <stdio.h>\\nvoid printFactors(int numb...   \n",
              "3    #include <stdio.h>\\nvoid printFactors(int numb...   \n",
              "4    #include <stdio.h>\\nvoid printFactors(int numb...   \n",
              "..                                                 ...   \n",
              "995  #include <stdio.h>\\n\\n#define ASCII_SIZE 128\\n...   \n",
              "996  #include <stdio.h>\\n\\n#define ASCII_SIZE 128\\n...   \n",
              "997  #include <stdio.h>\\n\\n#define ASCII_SIZE 128\\n...   \n",
              "998  #include <stdio.h>\\n\\n#define ASCII_SIZE 128\\n...   \n",
              "999  #include <stdio.h>\\n\\n#define ASCII_SIZE 128\\n...   \n",
              "\n",
              "                                       Code_with_Error  Total_Marks  \\\n",
              "0    #include <stdio.h>\\nvoid printFactors(int numb...          7.0   \n",
              "1    #include <stdio.h>\\nvoid printFactors(int numb...          8.0   \n",
              "2    #include <stdio.h>\\nvoid printFactors(int numb...          5.0   \n",
              "3    #include <stdio.h>\\n\\nvoid printFactors(int nu...          7.0   \n",
              "4    #include <stdio.h>\\n\\nvoid printFactors(int nu...          5.0   \n",
              "..                                                 ...          ...   \n",
              "995  #include <stdio.h> \\n\\n#define MAX_SIZE 100 \\n...          7.0   \n",
              "996  #include <stdio.h> \\n\\nchar getMaxOccurringCha...          6.0   \n",
              "997  #include <stdio.h> \\n\\nchar getMaxOccurringCha...          6.0   \n",
              "998  #include <stdio.h> \\n\\n#define ASCII_SIZE 128 ...          5.0   \n",
              "999  #include <stdio.h> \\n\\n#define ASCII_SIZE 128 ...          6.0   \n",
              "\n",
              "                                                merged  \n",
              "0    Print the factors of a number#include <stdio.h...  \n",
              "1    Print the factors of a number#include <stdio.h...  \n",
              "2    Print the factors of a number#include <stdio.h...  \n",
              "3    Print the factors of a number#include <stdio.h...  \n",
              "4    Print the factors of a number#include <stdio.h...  \n",
              "..                                                 ...  \n",
              "995  Print maximum Occurring Character in a String ...  \n",
              "996  Print maximum Occurring Character in a String ...  \n",
              "997  Print maximum Occurring Character in a String ...  \n",
              "998  Print maximum Occurring Character in a String ...  \n",
              "999  Print maximum Occurring Character in a String ...  \n",
              "\n",
              "[1000 rows x 5 columns]"
            ],
            "text/html": [
              "\n",
              "  <div id=\"df-9869af47-d2ad-4b25-877d-fdef8dbc746c\">\n",
              "    <div class=\"colab-df-container\">\n",
              "      <div>\n",
              "<style scoped>\n",
              "    .dataframe tbody tr th:only-of-type {\n",
              "        vertical-align: middle;\n",
              "    }\n",
              "\n",
              "    .dataframe tbody tr th {\n",
              "        vertical-align: top;\n",
              "    }\n",
              "\n",
              "    .dataframe thead th {\n",
              "        text-align: right;\n",
              "    }\n",
              "</style>\n",
              "<table border=\"1\" class=\"dataframe\">\n",
              "  <thead>\n",
              "    <tr style=\"text-align: right;\">\n",
              "      <th></th>\n",
              "      <th>Question</th>\n",
              "      <th>Correct_Code</th>\n",
              "      <th>Code_with_Error</th>\n",
              "      <th>Total_Marks</th>\n",
              "      <th>merged</th>\n",
              "    </tr>\n",
              "  </thead>\n",
              "  <tbody>\n",
              "    <tr>\n",
              "      <th>0</th>\n",
              "      <td>Print the factors of a number</td>\n",
              "      <td>#include &lt;stdio.h&gt;\\nvoid printFactors(int numb...</td>\n",
              "      <td>#include &lt;stdio.h&gt;\\nvoid printFactors(int numb...</td>\n",
              "      <td>7.0</td>\n",
              "      <td>Print the factors of a number#include &lt;stdio.h...</td>\n",
              "    </tr>\n",
              "    <tr>\n",
              "      <th>1</th>\n",
              "      <td>Print the factors of a number</td>\n",
              "      <td>#include &lt;stdio.h&gt;\\nvoid printFactors(int numb...</td>\n",
              "      <td>#include &lt;stdio.h&gt;\\nvoid printFactors(int numb...</td>\n",
              "      <td>8.0</td>\n",
              "      <td>Print the factors of a number#include &lt;stdio.h...</td>\n",
              "    </tr>\n",
              "    <tr>\n",
              "      <th>2</th>\n",
              "      <td>Print the factors of a number</td>\n",
              "      <td>#include &lt;stdio.h&gt;\\nvoid printFactors(int numb...</td>\n",
              "      <td>#include &lt;stdio.h&gt;\\nvoid printFactors(int numb...</td>\n",
              "      <td>5.0</td>\n",
              "      <td>Print the factors of a number#include &lt;stdio.h...</td>\n",
              "    </tr>\n",
              "    <tr>\n",
              "      <th>3</th>\n",
              "      <td>Print the factors of a number</td>\n",
              "      <td>#include &lt;stdio.h&gt;\\nvoid printFactors(int numb...</td>\n",
              "      <td>#include &lt;stdio.h&gt;\\n\\nvoid printFactors(int nu...</td>\n",
              "      <td>7.0</td>\n",
              "      <td>Print the factors of a number#include &lt;stdio.h...</td>\n",
              "    </tr>\n",
              "    <tr>\n",
              "      <th>4</th>\n",
              "      <td>Print the factors of a number</td>\n",
              "      <td>#include &lt;stdio.h&gt;\\nvoid printFactors(int numb...</td>\n",
              "      <td>#include &lt;stdio.h&gt;\\n\\nvoid printFactors(int nu...</td>\n",
              "      <td>5.0</td>\n",
              "      <td>Print the factors of a number#include &lt;stdio.h...</td>\n",
              "    </tr>\n",
              "    <tr>\n",
              "      <th>...</th>\n",
              "      <td>...</td>\n",
              "      <td>...</td>\n",
              "      <td>...</td>\n",
              "      <td>...</td>\n",
              "      <td>...</td>\n",
              "    </tr>\n",
              "    <tr>\n",
              "      <th>995</th>\n",
              "      <td>Print maximum Occurring Character in a String ...</td>\n",
              "      <td>#include &lt;stdio.h&gt;\\n\\n#define ASCII_SIZE 128\\n...</td>\n",
              "      <td>#include &lt;stdio.h&gt; \\n\\n#define MAX_SIZE 100 \\n...</td>\n",
              "      <td>7.0</td>\n",
              "      <td>Print maximum Occurring Character in a String ...</td>\n",
              "    </tr>\n",
              "    <tr>\n",
              "      <th>996</th>\n",
              "      <td>Print maximum Occurring Character in a String ...</td>\n",
              "      <td>#include &lt;stdio.h&gt;\\n\\n#define ASCII_SIZE 128\\n...</td>\n",
              "      <td>#include &lt;stdio.h&gt; \\n\\nchar getMaxOccurringCha...</td>\n",
              "      <td>6.0</td>\n",
              "      <td>Print maximum Occurring Character in a String ...</td>\n",
              "    </tr>\n",
              "    <tr>\n",
              "      <th>997</th>\n",
              "      <td>Print maximum Occurring Character in a String ...</td>\n",
              "      <td>#include &lt;stdio.h&gt;\\n\\n#define ASCII_SIZE 128\\n...</td>\n",
              "      <td>#include &lt;stdio.h&gt; \\n\\nchar getMaxOccurringCha...</td>\n",
              "      <td>6.0</td>\n",
              "      <td>Print maximum Occurring Character in a String ...</td>\n",
              "    </tr>\n",
              "    <tr>\n",
              "      <th>998</th>\n",
              "      <td>Print maximum Occurring Character in a String ...</td>\n",
              "      <td>#include &lt;stdio.h&gt;\\n\\n#define ASCII_SIZE 128\\n...</td>\n",
              "      <td>#include &lt;stdio.h&gt; \\n\\n#define ASCII_SIZE 128 ...</td>\n",
              "      <td>5.0</td>\n",
              "      <td>Print maximum Occurring Character in a String ...</td>\n",
              "    </tr>\n",
              "    <tr>\n",
              "      <th>999</th>\n",
              "      <td>Print maximum Occurring Character in a String ...</td>\n",
              "      <td>#include &lt;stdio.h&gt;\\n\\n#define ASCII_SIZE 128\\n...</td>\n",
              "      <td>#include &lt;stdio.h&gt; \\n\\n#define ASCII_SIZE 128 ...</td>\n",
              "      <td>6.0</td>\n",
              "      <td>Print maximum Occurring Character in a String ...</td>\n",
              "    </tr>\n",
              "  </tbody>\n",
              "</table>\n",
              "<p>1000 rows × 5 columns</p>\n",
              "</div>\n",
              "      <button class=\"colab-df-convert\" onclick=\"convertToInteractive('df-9869af47-d2ad-4b25-877d-fdef8dbc746c')\"\n",
              "              title=\"Convert this dataframe to an interactive table.\"\n",
              "              style=\"display:none;\">\n",
              "        \n",
              "  <svg xmlns=\"http://www.w3.org/2000/svg\" height=\"24px\"viewBox=\"0 0 24 24\"\n",
              "       width=\"24px\">\n",
              "    <path d=\"M0 0h24v24H0V0z\" fill=\"none\"/>\n",
              "    <path d=\"M18.56 5.44l.94 2.06.94-2.06 2.06-.94-2.06-.94-.94-2.06-.94 2.06-2.06.94zm-11 1L8.5 8.5l.94-2.06 2.06-.94-2.06-.94L8.5 2.5l-.94 2.06-2.06.94zm10 10l.94 2.06.94-2.06 2.06-.94-2.06-.94-.94-2.06-.94 2.06-2.06.94z\"/><path d=\"M17.41 7.96l-1.37-1.37c-.4-.4-.92-.59-1.43-.59-.52 0-1.04.2-1.43.59L10.3 9.45l-7.72 7.72c-.78.78-.78 2.05 0 2.83L4 21.41c.39.39.9.59 1.41.59.51 0 1.02-.2 1.41-.59l7.78-7.78 2.81-2.81c.8-.78.8-2.07 0-2.86zM5.41 20L4 18.59l7.72-7.72 1.47 1.35L5.41 20z\"/>\n",
              "  </svg>\n",
              "      </button>\n",
              "      \n",
              "  <style>\n",
              "    .colab-df-container {\n",
              "      display:flex;\n",
              "      flex-wrap:wrap;\n",
              "      gap: 12px;\n",
              "    }\n",
              "\n",
              "    .colab-df-convert {\n",
              "      background-color: #E8F0FE;\n",
              "      border: none;\n",
              "      border-radius: 50%;\n",
              "      cursor: pointer;\n",
              "      display: none;\n",
              "      fill: #1967D2;\n",
              "      height: 32px;\n",
              "      padding: 0 0 0 0;\n",
              "      width: 32px;\n",
              "    }\n",
              "\n",
              "    .colab-df-convert:hover {\n",
              "      background-color: #E2EBFA;\n",
              "      box-shadow: 0px 1px 2px rgba(60, 64, 67, 0.3), 0px 1px 3px 1px rgba(60, 64, 67, 0.15);\n",
              "      fill: #174EA6;\n",
              "    }\n",
              "\n",
              "    [theme=dark] .colab-df-convert {\n",
              "      background-color: #3B4455;\n",
              "      fill: #D2E3FC;\n",
              "    }\n",
              "\n",
              "    [theme=dark] .colab-df-convert:hover {\n",
              "      background-color: #434B5C;\n",
              "      box-shadow: 0px 1px 3px 1px rgba(0, 0, 0, 0.15);\n",
              "      filter: drop-shadow(0px 1px 2px rgba(0, 0, 0, 0.3));\n",
              "      fill: #FFFFFF;\n",
              "    }\n",
              "  </style>\n",
              "\n",
              "      <script>\n",
              "        const buttonEl =\n",
              "          document.querySelector('#df-9869af47-d2ad-4b25-877d-fdef8dbc746c button.colab-df-convert');\n",
              "        buttonEl.style.display =\n",
              "          google.colab.kernel.accessAllowed ? 'block' : 'none';\n",
              "\n",
              "        async function convertToInteractive(key) {\n",
              "          const element = document.querySelector('#df-9869af47-d2ad-4b25-877d-fdef8dbc746c');\n",
              "          const dataTable =\n",
              "            await google.colab.kernel.invokeFunction('convertToInteractive',\n",
              "                                                     [key], {});\n",
              "          if (!dataTable) return;\n",
              "\n",
              "          const docLinkHtml = 'Like what you see? Visit the ' +\n",
              "            '<a target=\"_blank\" href=https://colab.research.google.com/notebooks/data_table.ipynb>data table notebook</a>'\n",
              "            + ' to learn more about interactive tables.';\n",
              "          element.innerHTML = '';\n",
              "          dataTable['output_type'] = 'display_data';\n",
              "          await google.colab.output.renderOutput(dataTable, element);\n",
              "          const docLink = document.createElement('div');\n",
              "          docLink.innerHTML = docLinkHtml;\n",
              "          element.appendChild(docLink);\n",
              "        }\n",
              "      </script>\n",
              "    </div>\n",
              "  </div>\n",
              "  "
            ]
          },
          "metadata": {},
          "execution_count": 5
        }
      ]
    },
    {
      "cell_type": "code",
      "source": [
        "# Fill missing values with empty strings\n",
        "code['merged'] = code['merged'].fillna('')"
      ],
      "metadata": {
        "id": "CVQ5TPPSu6U5"
      },
      "execution_count": 6,
      "outputs": []
    },
    {
      "cell_type": "code",
      "source": [
        "# Load the codeBert tokenizer and model\n",
        "tokenizer = AutoTokenizer.from_pretrained(\"microsoft/codebert-base\")\n",
        "codeBERT_model  = TFAutoModel.from_pretrained(\"microsoft/codebert-base\")"
      ],
      "metadata": {
        "colab": {
          "base_uri": "https://localhost:8080/",
          "height": 298,
          "referenced_widgets": [
            "b722cc663b304544a19cc222c8f03fb8",
            "ec472ecaf89f4ad288eb2ff47b5c6f18",
            "c2976ee162b44769a5cd759286a34691",
            "4fc0604dc17d4930a73f56cc79da7a2e",
            "8c91f0f194ab4bee9b3e14ea6bd62d6a",
            "23c37dda1a2948b6925aea8109cb6cac",
            "6da228526fc640fe8b767aaa25054cda",
            "8d328abcc5fc45bd887c5ac290d4e943",
            "d8f704d3369343daa01605b40ee45b98",
            "8a54ad030062424caa31fd2ed56d2f9e",
            "2e1d19e9971b4993b0a2406884c0bfb0",
            "ce7c1c989e954c389b88b037e6486c9e",
            "780a38ec7dcd41e38ab5f12e413e5ed1",
            "57de3c10194a45d982108e02784bdfda",
            "3e763bb20bbe417c81ae33a5ecf337fb",
            "6625c1f1d65f4a4b9ebe4170940ec10f",
            "8b0fb5cd18e747ed80948d27d0424cee",
            "80c35cf80a004304bc6d099906d468c8",
            "383617f7101542de8d1948280e35cf74",
            "5d710538d9194939b8752837895c8094",
            "7de1a94b13d44f5dbac66e77149be871",
            "f45aa218aecb4ff191f05dd7f09e56fa",
            "188a9e9c30a64827a0eb38f3814845d0",
            "c4252b1e8c504c8e9f9adf10e2b25929",
            "bac7d8d4e03f45a38070804cd23593b0",
            "2d00816b7070457b8aa45fd37e030339",
            "19f4542398344e85a127aea187f7bcdf",
            "1b3597fa5a9b4d7a860a0c3318a2d660",
            "385aa5cf58b3403da420c0399f7b7037",
            "6cd02a19a3804c969d24f44d3c6138bc",
            "8f5d77e7bad64294b97ec4ad2499fb70",
            "507f7b06e30e4c2f842189b8af64b582",
            "ef678753d5ed42fea51c246ea1341426",
            "a0678bfd817c42429de794ba7323f982",
            "f409f08c8d4c4116bbbbfd3df54590a8",
            "eacf9c1857af467caa6c28950f8e032e",
            "fac184478f27468ea3ebbf4667e7dee2",
            "58bc1e66f699459296d2e7f28659bd25",
            "c644c3de97384dc8976fed29bda60f27",
            "11e3de746848465e95a863dd2b4ab214",
            "c629a3c41105417795fa10946364a64d",
            "4cac6fd9d00f41c6b8222ebe240c36e9",
            "73fe84df8dd74b6293075993907d549f",
            "e92bb6d386d543cb95724a63db98990c",
            "8031ef36d9f34bd9bf715f4010d801fd",
            "ad4d4dc7c22a44b19ab63c7bd0df83be",
            "70c7fb70d8e448db88634243b74a66a2",
            "1830eda3b24f45c58cbd62237e1464cc",
            "06f0d5bd940e4b0cbe4dec75151f1e7c",
            "ee962ba82b6642bc8e80a2255dcc3bbd",
            "76e95f1f954b49e68490062101fe3d94",
            "a60c0ed1b4e445f798428e5ecb601556",
            "c3abc1f181254f4da04806f06444dfd9",
            "365685dedf2b4bf1b5293118cd3c0706",
            "5fda681a02b14edea8f371640800bbd5",
            "8ffde61a10b4439eba95acdf0956d740",
            "5c4bde0ae7d1426289c664b0ce68e95a",
            "c128778c347d40208406a10588ea37ff",
            "20d67dab97634938b30d98fbc2a8b6d8",
            "8022f73f0fa54c82ae3924ffcfcba26b",
            "8dcc532c937b4d18a432d4e08acb8590",
            "f2359ec1542b455992174215c4c7871a",
            "7bd80b16269245e5825d77764e72a320",
            "d7359b7131b04d32ab09bdc7dd02c3a8",
            "d69c9c6ae37d4dcc8b4a93cde1074680",
            "98b34cbf1b9443a095d169c1f72b2c64"
          ]
        },
        "id": "EaBhEiuyvA8T",
        "outputId": "1a36905c-6c04-4421-dce9-cbae3f2c418f"
      },
      "execution_count": 7,
      "outputs": [
        {
          "output_type": "display_data",
          "data": {
            "text/plain": [
              "Downloading (…)okenizer_config.json:   0%|          | 0.00/25.0 [00:00<?, ?B/s]"
            ],
            "application/vnd.jupyter.widget-view+json": {
              "version_major": 2,
              "version_minor": 0,
              "model_id": "b722cc663b304544a19cc222c8f03fb8"
            }
          },
          "metadata": {}
        },
        {
          "output_type": "display_data",
          "data": {
            "text/plain": [
              "Downloading (…)lve/main/config.json:   0%|          | 0.00/498 [00:00<?, ?B/s]"
            ],
            "application/vnd.jupyter.widget-view+json": {
              "version_major": 2,
              "version_minor": 0,
              "model_id": "ce7c1c989e954c389b88b037e6486c9e"
            }
          },
          "metadata": {}
        },
        {
          "output_type": "display_data",
          "data": {
            "text/plain": [
              "Downloading (…)olve/main/vocab.json:   0%|          | 0.00/899k [00:00<?, ?B/s]"
            ],
            "application/vnd.jupyter.widget-view+json": {
              "version_major": 2,
              "version_minor": 0,
              "model_id": "188a9e9c30a64827a0eb38f3814845d0"
            }
          },
          "metadata": {}
        },
        {
          "output_type": "display_data",
          "data": {
            "text/plain": [
              "Downloading (…)olve/main/merges.txt:   0%|          | 0.00/456k [00:00<?, ?B/s]"
            ],
            "application/vnd.jupyter.widget-view+json": {
              "version_major": 2,
              "version_minor": 0,
              "model_id": "a0678bfd817c42429de794ba7323f982"
            }
          },
          "metadata": {}
        },
        {
          "output_type": "display_data",
          "data": {
            "text/plain": [
              "Downloading (…)cial_tokens_map.json:   0%|          | 0.00/150 [00:00<?, ?B/s]"
            ],
            "application/vnd.jupyter.widget-view+json": {
              "version_major": 2,
              "version_minor": 0,
              "model_id": "8031ef36d9f34bd9bf715f4010d801fd"
            }
          },
          "metadata": {}
        },
        {
          "output_type": "display_data",
          "data": {
            "text/plain": [
              "Downloading tf_model.h5:   0%|          | 0.00/499M [00:00<?, ?B/s]"
            ],
            "application/vnd.jupyter.widget-view+json": {
              "version_major": 2,
              "version_minor": 0,
              "model_id": "8ffde61a10b4439eba95acdf0956d740"
            }
          },
          "metadata": {}
        },
        {
          "output_type": "stream",
          "name": "stderr",
          "text": [
            "All model checkpoint layers were used when initializing TFRobertaModel.\n",
            "\n",
            "All the layers of TFRobertaModel were initialized from the model checkpoint at microsoft/codebert-base.\n",
            "If your task is similar to the task the model of the checkpoint was trained on, you can already use TFRobertaModel for predictions without further training.\n"
          ]
        }
      ]
    },
    {
      "cell_type": "code",
      "source": [
        "X_text = code[\"merged\"].values\n",
        "y = code[\"Total_Marks\"].values"
      ],
      "metadata": {
        "id": "_2z8HwKQvK8e"
      },
      "execution_count": 8,
      "outputs": []
    },
    {
      "cell_type": "code",
      "source": [
        "# Tokenize and convert the textual data to vectors\n",
        "X_vectors = []\n",
        "for text in X_text:\n",
        "    inputs = tokenizer.encode_plus(text, add_special_tokens=True, return_tensors='tf', max_length=512, truncation=True)\n",
        "    input_ids = inputs['input_ids']\n",
        "    attention_mask = inputs['attention_mask']\n",
        "    output = codeBERT_model(input_ids, attention_mask=attention_mask)[0][:, 0, :]\n",
        "    X_vectors.append(output.numpy())"
      ],
      "metadata": {
        "id": "wNwZLpuHvMt4"
      },
      "execution_count": 9,
      "outputs": []
    },
    {
      "cell_type": "code",
      "source": [
        "X_vectors = np.array(X_vectors)\n",
        "y = np.array(y)"
      ],
      "metadata": {
        "id": "Ds2HwILCvOfE"
      },
      "execution_count": 10,
      "outputs": []
    },
    {
      "cell_type": "code",
      "source": [
        "X_vectors"
      ],
      "metadata": {
        "colab": {
          "base_uri": "https://localhost:8080/"
        },
        "id": "HlHB2_a8vQcn",
        "outputId": "58c066c6-d9d2-418e-f587-321fc4a5ad3e"
      },
      "execution_count": 11,
      "outputs": [
        {
          "output_type": "execute_result",
          "data": {
            "text/plain": [
              "array([[[-1.2327175e-01, -2.6404507e-02, -1.9176882e-03, ...,\n",
              "          2.1718159e-02, -6.7239243e-01,  5.8262670e-01]],\n",
              "\n",
              "       [[-1.6138734e-01, -4.9201727e-02,  7.5989589e-03, ...,\n",
              "          8.8904500e-03, -6.8235624e-01,  5.8136135e-01]],\n",
              "\n",
              "       [[-1.1552152e-01, -2.3111146e-02,  2.5001429e-03, ...,\n",
              "          3.3350289e-04, -6.5864515e-01,  5.7803500e-01]],\n",
              "\n",
              "       ...,\n",
              "\n",
              "       [[-7.0761919e-02, -1.5222792e-02, -4.3160323e-02, ...,\n",
              "         -7.9720691e-02, -6.9509184e-01,  5.8536166e-01]],\n",
              "\n",
              "       [[-6.5420836e-02, -7.0907317e-02, -6.4400889e-02, ...,\n",
              "         -4.0937588e-02, -6.6287631e-01,  5.6271160e-01]],\n",
              "\n",
              "       [[-9.0671562e-02, -8.3236501e-02, -6.4558029e-02, ...,\n",
              "         -3.2379895e-02, -7.1274501e-01,  5.7850587e-01]]], dtype=float32)"
            ]
          },
          "metadata": {},
          "execution_count": 11
        }
      ]
    },
    {
      "cell_type": "code",
      "source": [
        "# Split the data into train, validation, and test sets\n",
        "X_train, X_test, y_train, y_test = train_test_split(X_vectors, y, test_size=0.25, random_state=42)\n",
        "X_train, X_val, y_train, y_val = train_test_split(X_train, y_train, test_size=0.25, random_state=42)"
      ],
      "metadata": {
        "id": "YAtbTycfFIYl"
      },
      "execution_count": 12,
      "outputs": []
    },
    {
      "cell_type": "code",
      "source": [
        "# Reshape the X_train and X_test arrays\n",
        "X_train_reshaped = X_train.reshape(X_train.shape[0], -1)\n",
        "X_test_reshaped = X_test.reshape(X_test.shape[0], -1)"
      ],
      "metadata": {
        "id": "SUAZaZZq2Tpv"
      },
      "execution_count": 13,
      "outputs": []
    },
    {
      "cell_type": "markdown",
      "source": [
        "**LSTM**"
      ],
      "metadata": {
        "id": "UVsyvQu1h-UI"
      }
    },
    {
      "cell_type": "code",
      "source": [
        "input_layer = Input(shape=(X_vectors.shape[1], X_vectors.shape[2]))\n",
        "lstm_layer1 = LSTM(units=128, dropout=0.2, recurrent_dropout=0.2)(input_layer)\n",
        "output_layer = Dense(units=1, activation='relu')(lstm_layer1)\n",
        "model = Model(inputs=input_layer, outputs=output_layer)"
      ],
      "metadata": {
        "colab": {
          "base_uri": "https://localhost:8080/"
        },
        "id": "bxaghRkZc4ly",
        "outputId": "cd4e642b-0dfa-4abe-d446-63319e331868"
      },
      "execution_count": 14,
      "outputs": [
        {
          "output_type": "stream",
          "name": "stderr",
          "text": [
            "WARNING:tensorflow:Layer lstm will not use cuDNN kernels since it doesn't meet the criteria. It will use a generic GPU kernel as fallback when running on GPU.\n"
          ]
        }
      ]
    },
    {
      "cell_type": "code",
      "source": [
        "model.summary()"
      ],
      "metadata": {
        "colab": {
          "base_uri": "https://localhost:8080/"
        },
        "id": "L34ohFGLdP6Y",
        "outputId": "9fc08b93-ffa3-4460-910b-0b7465b68ede"
      },
      "execution_count": 15,
      "outputs": [
        {
          "output_type": "stream",
          "name": "stdout",
          "text": [
            "Model: \"model\"\n",
            "_________________________________________________________________\n",
            " Layer (type)                Output Shape              Param #   \n",
            "=================================================================\n",
            " input_1 (InputLayer)        [(None, 1, 768)]          0         \n",
            "                                                                 \n",
            " lstm (LSTM)                 (None, 128)               459264    \n",
            "                                                                 \n",
            " dense (Dense)               (None, 1)                 129       \n",
            "                                                                 \n",
            "=================================================================\n",
            "Total params: 459,393\n",
            "Trainable params: 459,393\n",
            "Non-trainable params: 0\n",
            "_________________________________________________________________\n"
          ]
        }
      ]
    },
    {
      "cell_type": "code",
      "source": [
        "optimizer = tf.keras.optimizers.Adam(learning_rate=1e-3)\n",
        "model.compile(optimizer=optimizer, loss='mse', metrics=['mae', 'mape', 'mse'])"
      ],
      "metadata": {
        "id": "bsfy5sP_dosu"
      },
      "execution_count": 16,
      "outputs": []
    },
    {
      "cell_type": "code",
      "source": [
        "early_stopping = EarlyStopping(monitor='val_loss', mode='min', verbose=1, patience=5)\n",
        "history = model.fit(X_train, y_train, validation_data=(X_val, y_val), epochs=50, callbacks=[early_stopping])"
      ],
      "metadata": {
        "colab": {
          "base_uri": "https://localhost:8080/"
        },
        "id": "AEZ4yqbldrsJ",
        "outputId": "676bb1c6-e1fb-4883-f6b6-5ee3e7e6ec97"
      },
      "execution_count": 17,
      "outputs": [
        {
          "output_type": "stream",
          "name": "stdout",
          "text": [
            "Epoch 1/50\n",
            "18/18 [==============================] - 6s 35ms/step - loss: 43.1851 - mae: 6.1922 - mape: 99.6441 - mse: 43.1851 - val_loss: 41.1968 - val_mae: 5.9415 - val_mape: 99.4681 - val_mse: 41.1968\n",
            "Epoch 2/50\n",
            "18/18 [==============================] - 0s 12ms/step - loss: 43.1851 - mae: 6.1922 - mape: 99.6441 - mse: 43.1851 - val_loss: 41.1968 - val_mae: 5.9415 - val_mape: 99.4681 - val_mse: 41.1968\n",
            "Epoch 3/50\n",
            "18/18 [==============================] - 0s 13ms/step - loss: 43.1851 - mae: 6.1922 - mape: 99.6441 - mse: 43.1851 - val_loss: 41.1968 - val_mae: 5.9415 - val_mape: 99.4681 - val_mse: 41.1968\n",
            "Epoch 4/50\n",
            "18/18 [==============================] - 0s 13ms/step - loss: 43.1851 - mae: 6.1922 - mape: 99.6441 - mse: 43.1851 - val_loss: 41.1968 - val_mae: 5.9415 - val_mape: 99.4681 - val_mse: 41.1968\n",
            "Epoch 5/50\n",
            "18/18 [==============================] - 0s 14ms/step - loss: 43.1851 - mae: 6.1922 - mape: 99.6441 - mse: 43.1851 - val_loss: 41.1968 - val_mae: 5.9415 - val_mape: 99.4681 - val_mse: 41.1968\n",
            "Epoch 6/50\n",
            "18/18 [==============================] - 0s 13ms/step - loss: 43.1851 - mae: 6.1922 - mape: 99.6441 - mse: 43.1851 - val_loss: 41.1968 - val_mae: 5.9415 - val_mape: 99.4681 - val_mse: 41.1968\n",
            "Epoch 6: early stopping\n"
          ]
        }
      ]
    },
    {
      "cell_type": "code",
      "source": [
        "feature_model = Model(inputs=model.inputs, outputs=model.layers[-2].output)\n",
        "X_train_features = feature_model.predict(X_train)\n",
        "X_test_features = feature_model.predict(X_test)"
      ],
      "metadata": {
        "colab": {
          "base_uri": "https://localhost:8080/"
        },
        "id": "qcTOnnzVfBrH",
        "outputId": "6506e3eb-d5da-44f1-a3b9-5e50bc271f94"
      },
      "execution_count": 18,
      "outputs": [
        {
          "output_type": "stream",
          "name": "stdout",
          "text": [
            "18/18 [==============================] - 0s 2ms/step\n",
            "8/8 [==============================] - 0s 3ms/step\n"
          ]
        }
      ]
    },
    {
      "cell_type": "code",
      "source": [
        "import lightgbm as lgb\n",
        "import matplotlib.pyplot as plt\n",
        "from sklearn.linear_model import RidgeCV\n",
        "\n",
        "regressor_model=RidgeCV()\n"
      ],
      "metadata": {
        "id": "gZtWyGwIfOrd"
      },
      "execution_count": 19,
      "outputs": []
    },
    {
      "cell_type": "code",
      "source": [
        "regressor_model.fit(X_train_features, y_train)"
      ],
      "metadata": {
        "colab": {
          "base_uri": "https://localhost:8080/",
          "height": 74
        },
        "id": "pAGTxGDcfd97",
        "outputId": "ef1d1332-4fa4-4035-e609-ff4986c98bd4"
      },
      "execution_count": 20,
      "outputs": [
        {
          "output_type": "execute_result",
          "data": {
            "text/plain": [
              "RidgeCV()"
            ],
            "text/html": [
              "<style>#sk-container-id-1 {color: black;background-color: white;}#sk-container-id-1 pre{padding: 0;}#sk-container-id-1 div.sk-toggleable {background-color: white;}#sk-container-id-1 label.sk-toggleable__label {cursor: pointer;display: block;width: 100%;margin-bottom: 0;padding: 0.3em;box-sizing: border-box;text-align: center;}#sk-container-id-1 label.sk-toggleable__label-arrow:before {content: \"▸\";float: left;margin-right: 0.25em;color: #696969;}#sk-container-id-1 label.sk-toggleable__label-arrow:hover:before {color: black;}#sk-container-id-1 div.sk-estimator:hover label.sk-toggleable__label-arrow:before {color: black;}#sk-container-id-1 div.sk-toggleable__content {max-height: 0;max-width: 0;overflow: hidden;text-align: left;background-color: #f0f8ff;}#sk-container-id-1 div.sk-toggleable__content pre {margin: 0.2em;color: black;border-radius: 0.25em;background-color: #f0f8ff;}#sk-container-id-1 input.sk-toggleable__control:checked~div.sk-toggleable__content {max-height: 200px;max-width: 100%;overflow: auto;}#sk-container-id-1 input.sk-toggleable__control:checked~label.sk-toggleable__label-arrow:before {content: \"▾\";}#sk-container-id-1 div.sk-estimator input.sk-toggleable__control:checked~label.sk-toggleable__label {background-color: #d4ebff;}#sk-container-id-1 div.sk-label input.sk-toggleable__control:checked~label.sk-toggleable__label {background-color: #d4ebff;}#sk-container-id-1 input.sk-hidden--visually {border: 0;clip: rect(1px 1px 1px 1px);clip: rect(1px, 1px, 1px, 1px);height: 1px;margin: -1px;overflow: hidden;padding: 0;position: absolute;width: 1px;}#sk-container-id-1 div.sk-estimator {font-family: monospace;background-color: #f0f8ff;border: 1px dotted black;border-radius: 0.25em;box-sizing: border-box;margin-bottom: 0.5em;}#sk-container-id-1 div.sk-estimator:hover {background-color: #d4ebff;}#sk-container-id-1 div.sk-parallel-item::after {content: \"\";width: 100%;border-bottom: 1px solid gray;flex-grow: 1;}#sk-container-id-1 div.sk-label:hover label.sk-toggleable__label {background-color: #d4ebff;}#sk-container-id-1 div.sk-serial::before {content: \"\";position: absolute;border-left: 1px solid gray;box-sizing: border-box;top: 0;bottom: 0;left: 50%;z-index: 0;}#sk-container-id-1 div.sk-serial {display: flex;flex-direction: column;align-items: center;background-color: white;padding-right: 0.2em;padding-left: 0.2em;position: relative;}#sk-container-id-1 div.sk-item {position: relative;z-index: 1;}#sk-container-id-1 div.sk-parallel {display: flex;align-items: stretch;justify-content: center;background-color: white;position: relative;}#sk-container-id-1 div.sk-item::before, #sk-container-id-1 div.sk-parallel-item::before {content: \"\";position: absolute;border-left: 1px solid gray;box-sizing: border-box;top: 0;bottom: 0;left: 50%;z-index: -1;}#sk-container-id-1 div.sk-parallel-item {display: flex;flex-direction: column;z-index: 1;position: relative;background-color: white;}#sk-container-id-1 div.sk-parallel-item:first-child::after {align-self: flex-end;width: 50%;}#sk-container-id-1 div.sk-parallel-item:last-child::after {align-self: flex-start;width: 50%;}#sk-container-id-1 div.sk-parallel-item:only-child::after {width: 0;}#sk-container-id-1 div.sk-dashed-wrapped {border: 1px dashed gray;margin: 0 0.4em 0.5em 0.4em;box-sizing: border-box;padding-bottom: 0.4em;background-color: white;}#sk-container-id-1 div.sk-label label {font-family: monospace;font-weight: bold;display: inline-block;line-height: 1.2em;}#sk-container-id-1 div.sk-label-container {text-align: center;}#sk-container-id-1 div.sk-container {/* jupyter's `normalize.less` sets `[hidden] { display: none; }` but bootstrap.min.css set `[hidden] { display: none !important; }` so we also need the `!important` here to be able to override the default hidden behavior on the sphinx rendered scikit-learn.org. See: https://github.com/scikit-learn/scikit-learn/issues/21755 */display: inline-block !important;position: relative;}#sk-container-id-1 div.sk-text-repr-fallback {display: none;}</style><div id=\"sk-container-id-1\" class=\"sk-top-container\"><div class=\"sk-text-repr-fallback\"><pre>RidgeCV()</pre><b>In a Jupyter environment, please rerun this cell to show the HTML representation or trust the notebook. <br />On GitHub, the HTML representation is unable to render, please try loading this page with nbviewer.org.</b></div><div class=\"sk-container\" hidden><div class=\"sk-item\"><div class=\"sk-estimator sk-toggleable\"><input class=\"sk-toggleable__control sk-hidden--visually\" id=\"sk-estimator-id-1\" type=\"checkbox\" checked><label for=\"sk-estimator-id-1\" class=\"sk-toggleable__label sk-toggleable__label-arrow\">RidgeCV</label><div class=\"sk-toggleable__content\"><pre>RidgeCV()</pre></div></div></div></div></div>"
            ]
          },
          "metadata": {},
          "execution_count": 20
        }
      ]
    },
    {
      "cell_type": "code",
      "source": [
        "y_train_pred = regressor_model.predict(X_train_features)\n",
        "y_test_pred = regressor_model.predict(X_test_features)\n"
      ],
      "metadata": {
        "id": "dTcEqyH7ffqL"
      },
      "execution_count": 21,
      "outputs": []
    },
    {
      "cell_type": "code",
      "source": [
        "rmse_train = sqrt(mean_squared_error(y_train, y_train_pred))\n",
        "rmse_test = sqrt(mean_squared_error(y_test, y_test_pred))\n",
        "mae_train = mean_absolute_error(y_train, y_train_pred)\n",
        "mae_test = mean_absolute_error(y_test, y_test_pred)\n",
        "mape_train = np.mean(np.abs((y_train - y_train_pred) / y_train)) * 100\n",
        "mape_test = np.mean(np.abs((y_test - y_test_pred) / y_test)) * 100\n",
        "r2_train = r2_score(y_train, y_train_pred)\n",
        "r2_test = r2_score(y_test, y_test_pred)"
      ],
      "metadata": {
        "colab": {
          "base_uri": "https://localhost:8080/"
        },
        "id": "rflOyAgIfj-P",
        "outputId": "c1154c5f-c75f-438b-e95e-f3856eb732e7"
      },
      "execution_count": 22,
      "outputs": [
        {
          "output_type": "stream",
          "name": "stderr",
          "text": [
            "<ipython-input-22-956a7a4506d6>:5: RuntimeWarning: divide by zero encountered in true_divide\n",
            "  mape_train = np.mean(np.abs((y_train - y_train_pred) / y_train)) * 100\n",
            "<ipython-input-22-956a7a4506d6>:6: RuntimeWarning: divide by zero encountered in true_divide\n",
            "  mape_test = np.mean(np.abs((y_test - y_test_pred) / y_test)) * 100\n"
          ]
        }
      ]
    },
    {
      "cell_type": "code",
      "source": [
        "print(\"Train set results:\")\n",
        "print(\"RMSE: \", rmse_train)\n",
        "print(\"MAE: \", mae_train)\n",
        "print(\"MAPE: \", mape_train)\n",
        "print(\"R2 score: \", r2_train)\n",
        "\n",
        "print(\"Test set results:\")\n",
        "print(\"RMSE: \", rmse_test)\n",
        "print(\"MAE: \", mae_test)\n",
        "print(\"MAPE: \", mape_test)\n",
        "print(\"R2 score: \", r2_test)"
      ],
      "metadata": {
        "colab": {
          "base_uri": "https://localhost:8080/"
        },
        "id": "HDXjXV8Zfm7-",
        "outputId": "e12ff196-14ae-43f5-d9e4-c4a9a9a87ce0"
      },
      "execution_count": 23,
      "outputs": [
        {
          "output_type": "stream",
          "name": "stdout",
          "text": [
            "Train set results:\n",
            "RMSE:  1.9193242554418672\n",
            "MAE:  1.500166755412188\n",
            "MAPE:  inf\n",
            "R2 score:  0.23920913914141473\n",
            "Test set results:\n",
            "RMSE:  1.971249254997136\n",
            "MAE:  1.543825633053303\n",
            "MAPE:  inf\n",
            "R2 score:  0.2674454998211392\n"
          ]
        }
      ]
    },
    {
      "cell_type": "code",
      "source": [],
      "metadata": {
        "id": "uILqILSW6yOr"
      },
      "execution_count": 23,
      "outputs": []
    },
    {
      "cell_type": "code",
      "source": [
        "plt.plot(list(y_test[:100]), label=\"Actual Marks\")\n",
        "plt.plot(list(y_test_pred[:100]), label=\"Predicted Marks\")\n",
        "plt.xlabel = ('samples')\n",
        "plt.ylabel = ('marks')\n",
        "plt.grid(True)\n",
        "legend = plt.legend()\n",
        "plt.title('Actual vs Predicted Values for marks (CodeBERT with LSTM and RidgeCV regressor)')\n"
      ],
      "metadata": {
        "colab": {
          "base_uri": "https://localhost:8080/",
          "height": 469
        },
        "id": "sHhBau9tnySR",
        "outputId": "2826ebd1-606d-4276-bbde-77542eeea729"
      },
      "execution_count": 24,
      "outputs": [
        {
          "output_type": "execute_result",
          "data": {
            "text/plain": [
              "Text(0.5, 1.0, 'Actual vs Predicted Values for marks (CodeBERT with LSTM and RidgeCV regressor)')"
            ]
          },
          "metadata": {},
          "execution_count": 24
        },
        {
          "output_type": "display_data",
          "data": {
            "text/plain": [
              "<Figure size 640x480 with 1 Axes>"
            ],
            "image/png": "[encoded data removed]"
          },
          "metadata": {}
        }
      ]
    },
    {
      "cell_type": "code",
      "source": [],
      "metadata": {
        "id": "wBryq3YLmnb0"
      },
      "execution_count": 24,
      "outputs": []
    },
    {
      "cell_type": "code",
      "source": [
        "print(y_test)\n",
        "print(y_test_pred)"
      ],
      "metadata": {
        "colab": {
          "base_uri": "https://localhost:8080/"
        },
        "id": "0SKH4iBtnnnc",
        "outputId": "595bd0f4-08da-4a83-a8a3-522830e1b5ec"
      },
      "execution_count": 25,
      "outputs": [
        {
          "output_type": "stream",
          "name": "stdout",
          "text": [
            "[ 6.   4.   3.   6.   5.   8.   7.   6.   4.   3.   3.   8.   5.   6.\n",
            "  8.   8.   6.   8.   4.   7.   6.   7.   8.   4.   7.   3.  10.   6.\n",
            "  7.   9.   7.   4.   7.   2.   6.   6.   5.   6.   8.   5.  10.   7.\n",
            " 10.   7.  10.   8.   8.   7.   3.   8.   7.  10.  10.   7.   6.   4.\n",
            "  6.   3.   1.   0.  10.   8.   7.   9.   7.   1.   6.   6.   6.   3.\n",
            " 10.  10.   7.   8.   7.   9.   7.   6.   8.   6.   7.   5.   4.   5.\n",
            "  5.   7.   5.   9.  10.   8.   6.   2.   3.   8.   2.   7.   1.   6.\n",
            "  8.   4.   9.   9.   8.   0.   8.   6.   6.  10.   8.   8.   4.   3.\n",
            "  8.   0.   7.   2.   8.   6.   4.   8.   8.   7.   9.   5.   8.  10.\n",
            "  7.   5.   6.   6.   7.   4.   3.   7.   6.   6.   1.   4.   7.   4.\n",
            "  6.   7.  10.   7.   8.   7.   5.   5.   2.   6.   8.   9.   5.   6.\n",
            "  8.   1.   2.   6.   3.   8.   6.  10.   9.   8.   6.   8.  10.   5.\n",
            "  9.   8.   7.   9.   6.   8.   5.   8.   7.  10.   4.   7.   3.   6.\n",
            "  7.   2.   3.   4.   8.   5.   7.   7.   6.   6.   5.   6.5 10.   6.\n",
            "  7.   8.   6.   6.   2.   5.   5.   5.   9.   8.   8.   9.   1.   3.\n",
            "  4.   3.   8.   5.   6.   4.   7.   8.   9.   4.  10.   4.   8.   9.\n",
            "  8.   5.   6.   6.   8.   5.   5.   8.   7.   5.   6.   7.   7.   8.\n",
            "  6.   3.   7.   4.   4.   4.  10.   6.   8.   3.  10.   9. ]\n",
            "[5.96687927 5.70865675 5.66870867 6.14321297 6.7318086  6.42630907\n",
            " 6.31014575 5.813125   5.12874692 5.31246411 6.22810721 5.44880056\n",
            " 7.02676164 6.68347332 7.45074774 7.40014693 7.17616091 7.54216333\n",
            " 4.79425006 5.73381501 5.32963162 6.75760015 6.61341445 5.31457725\n",
            " 6.14092072 6.05226328 6.51810435 5.66708418 7.07492619 8.54030462\n",
            " 5.67764198 5.18158457 6.62024458 5.7397814  6.65258091 6.8085594\n",
            " 5.39753082 6.89906993 7.35953392 5.22878663 5.62791282 6.61328069\n",
            " 7.07478394 7.14608214 7.10282791 7.07404226 7.75429856 6.59566258\n",
            " 6.74331506 6.81606566 7.04863127 5.19768584 7.02147699 7.63195612\n",
            " 6.26842856 6.08190415 6.28706764 5.74467195 5.4166936  4.42638009\n",
            " 7.07478394 5.70648072 6.27356997 6.07704346 6.59262792 4.71372265\n",
            " 6.14198278 4.59179571 5.67206633 5.83336747 6.80220063 5.89942042\n",
            " 7.33255459 5.20160453 7.00440636 7.09443484 6.08408666 6.34884868\n",
            " 7.04930761 7.20668672 6.22473006 5.78823339 6.36004467 5.62641374\n",
            " 6.75949756 5.40166789 6.21920626 6.07715663 6.84808072 5.6910744\n",
            " 6.23323978 5.49557362 6.12178338 5.75646824 5.16075307 7.02621616\n",
            " 4.68709635 6.44522999 5.96469097 4.59391385 5.97610839 5.57764741\n",
            " 7.16534796 6.68936063 6.5187149  6.14386831 5.16339596 7.73863191\n",
            " 7.01656105 7.35891589 5.73925294 4.4512352  5.66708418 4.24900154\n",
            " 6.77353367 6.83015112 6.78195898 6.98638838 5.0747545  6.92501763\n",
            " 7.56438798 6.98385927 6.00047308 6.83200296 5.88724699 6.6459532\n",
            " 5.91830791 5.3779954  4.85277317 6.91774622 6.96304195 4.55313343\n",
            " 5.81788204 5.67541492 5.11501981 5.10445488 4.93439439 5.78874747\n",
            " 5.38529611 5.45981681 5.63346292 7.08840827 6.84808072 7.3891832\n",
            " 7.13275909 7.03111483 6.05454144 6.77601024 5.37599531 5.58573364\n",
            " 6.02949438 5.8677942  7.27051247 6.62640499 8.49247988 5.49557362\n",
            " 5.1075621  5.57583394 5.33347589 7.38184064 6.91285802 5.07608939\n",
            " 6.1700878  6.70424552 5.1342639  6.12662296 6.87679401 5.14592\n",
            " 7.10854301 6.56789149 6.6567544  5.38947189 6.24251243 5.45788264\n",
            " 5.79090768 6.61140759 6.98525138 7.02147699 6.54500434 6.24103958\n",
            " 5.77630912 6.29316999 6.65516085 5.18792219 4.73343483 5.41660945\n",
            " 5.73415874 6.25178932 7.18585303 6.02511195 7.68076025 6.91463375\n",
            " 6.14651837 6.83827068 6.07704346 6.89193727 5.6765745  6.1437367\n",
            " 6.40713446 5.32791774 5.65508143 5.88458734 5.56155214 5.10887251\n",
            " 6.80835231 7.15606533 6.8938556  7.83063766 2.37691335 5.08577386\n",
            " 5.43119677 5.2197269  7.72357289 5.37975478 6.02297596 5.51101315\n",
            " 6.39335629 6.98677983 7.36209287 5.96008272 7.07478394 6.13545338\n",
            " 6.86801997 6.25442946 7.56796046 5.42272799 5.97588156 5.63259689\n",
            " 7.39982725 5.95064845 5.54195288 6.1566561  5.91302148 7.11525031\n",
            " 6.10131617 5.86647257 5.73111311 7.23911735 6.87847382 5.62997432\n",
            " 5.62587816 6.05932009 5.93427352 4.6594341  7.07478394 6.6222124\n",
            " 6.76195375 4.28706145 6.94305164 7.07379782]\n"
          ]
        }
      ]
    },
    {
      "cell_type": "code",
      "source": [
        "sample_3=[]\n",
        "sample_5=[]\n",
        "sample_7=[]\n",
        "sample_8=[]\n",
        "sample_9=[]\n",
        "sample_10=[]\n",
        "for i in range(len(y_test)):\n",
        "  if y_test[i]==3.0:\n",
        "    sample_3.append(y_test_pred[i])\n",
        "  if y_test[i]==5.0:\n",
        "    sample_5.append(y_test_pred[i])\n",
        "  if y_test[i]==7.0:\n",
        "    sample_7.append(y_test_pred[i])\n",
        "  if y_test[i]==8.0:\n",
        "    sample_8.append(y_test_pred[i])\n",
        "  if y_test[i]==9.0:\n",
        "    sample_9.append(y_test_pred[i])\n",
        "  if y_test[i]==10.0:\n",
        "    sample_10.append(y_test_pred[i])\n",
        "print(len(sample_3))\n",
        "print(len(sample_5))\n",
        "print(len(sample_7))\n",
        "print(len(sample_8))\n",
        "print(len(sample_9))\n",
        "print(len(sample_10))\n",
        "\n"
      ],
      "metadata": {
        "colab": {
          "base_uri": "https://localhost:8080/"
        },
        "id": "TL4fXYGloJnL",
        "outputId": "3c464629-7546-4d49-d7f3-efeb0213e9f4"
      },
      "execution_count": 26,
      "outputs": [
        {
          "output_type": "stream",
          "name": "stdout",
          "text": [
            "17\n",
            "25\n",
            "41\n",
            "46\n",
            "16\n",
            "20\n"
          ]
        }
      ]
    },
    {
      "cell_type": "code",
      "source": [
        "sample_3 = [round(val) for val in sample_3]\n",
        "sample_5 = [round(val) for val in sample_5]\n",
        "sample_7 = [round(val) for val in sample_7]\n",
        "sample_8 = [round(val) for val in sample_8]\n",
        "sample_9 = [round(val) for val in sample_9]\n",
        "sample_10 = [round(val) for val in sample_10]\n"
      ],
      "metadata": {
        "id": "IMXE8kIgqF7F"
      },
      "execution_count": 27,
      "outputs": []
    },
    {
      "cell_type": "code",
      "source": [
        "sample_3 = pd.Series(sample_3)\n",
        "sample_5 = pd.Series(sample_5)\n",
        "sample_7 = pd.Series(sample_7)\n",
        "sample_8 = pd.Series(sample_8)\n",
        "sample_9 = pd.Series(sample_9)\n",
        "sample_10 = pd.Series(sample_10)\n"
      ],
      "metadata": {
        "id": "sMxds8nGrmuR"
      },
      "execution_count": 28,
      "outputs": []
    },
    {
      "cell_type": "code",
      "source": [
        "plt.subplots(figsize=(6,5),dpi=100)\n",
        "\n",
        "plt.pie(sample_3.value_counts(dropna=False),labels=sample_3.value_counts(dropna=False).index,autopct='%.2f%%')\n",
        "plt.title('Distribution of predicted marks for programs awarded 3 marks')\n",
        "plt.show()"
      ],
      "metadata": {
        "colab": {
          "base_uri": "https://localhost:8080/",
          "height": 444
        },
        "id": "aQsOul93qUIF",
        "outputId": "3bfec4d2-b5c2-4382-df27-aba5c4428e27"
      },
      "execution_count": 29,
      "outputs": [
        {
          "output_type": "display_data",
          "data": {
            "text/plain": [
              "<Figure size 600x500 with 1 Axes>"
            ],
            "image/png": "[encoded data removed]"
          },
          "metadata": {}
        }
      ]
    },
    {
      "cell_type": "code",
      "source": [
        "plt.subplots(figsize=(6,5),dpi=100)\n",
        "\n",
        "plt.pie(sample_5.value_counts(dropna=False),labels=sample_5.value_counts(dropna=False).index,autopct='%.2f%%')\n",
        "plt.title('Distribution of predicted marks for programs awarded 5 marks')\n",
        "plt.show()"
      ],
      "metadata": {
        "colab": {
          "base_uri": "https://localhost:8080/",
          "height": 444
        },
        "id": "6qgOwbtbsSyI",
        "outputId": "f42dbfce-6a85-461e-99f4-6bebf3a83d4a"
      },
      "execution_count": 30,
      "outputs": [
        {
          "output_type": "display_data",
          "data": {
            "text/plain": [
              "<Figure size 600x500 with 1 Axes>"
            ],
            "image/png": "[encoded data removed]"
          },
          "metadata": {}
        }
      ]
    },
    {
      "cell_type": "code",
      "source": [
        "plt.subplots(figsize=(6,5),dpi=100)\n",
        "\n",
        "plt.pie(sample_7.value_counts(dropna=False),labels=sample_7.value_counts(dropna=False).index,autopct='%.2f%%')\n",
        "plt.title('Distribution of predicted marks for programs awarded 7 marks')\n",
        "plt.show()"
      ],
      "metadata": {
        "colab": {
          "base_uri": "https://localhost:8080/",
          "height": 444
        },
        "id": "y5YVjPFysbL5",
        "outputId": "38c09d4e-357b-46ad-d195-16a56693f782"
      },
      "execution_count": 31,
      "outputs": [
        {
          "output_type": "display_data",
          "data": {
            "text/plain": [
              "<Figure size 600x500 with 1 Axes>"
            ],
            "image/png": "[encoded data removed]"
          },
          "metadata": {}
        }
      ]
    },
    {
      "cell_type": "code",
      "source": [
        "plt.subplots(figsize=(6,5),dpi=100)\n",
        "\n",
        "plt.pie(sample_8.value_counts(dropna=False),labels=sample_8.value_counts(dropna=False).index,autopct='%.2f%%')\n",
        "plt.title('Distribution of predicted marks for programs awarded 8 marks')\n",
        "plt.show()"
      ],
      "metadata": {
        "colab": {
          "base_uri": "https://localhost:8080/",
          "height": 444
        },
        "id": "hH6JZiq0tKn3",
        "outputId": "80076b77-49b0-4e85-bc4e-3454df5c63b3"
      },
      "execution_count": 32,
      "outputs": [
        {
          "output_type": "display_data",
          "data": {
            "text/plain": [
              "<Figure size 600x500 with 1 Axes>"
            ],
            "image/png": "[encoded data removed]"
          },
          "metadata": {}
        }
      ]
    },
    {
      "cell_type": "code",
      "source": [
        "plt.subplots(figsize=(6,5),dpi=100)\n",
        "\n",
        "plt.pie(sample_9.value_counts(dropna=False),labels=sample_9.value_counts(dropna=False).index,autopct='%.2f%%')\n",
        "plt.title('Distribution of predicted marks for programs awarded 9 marks')\n",
        "plt.show()"
      ],
      "metadata": {
        "colab": {
          "base_uri": "https://localhost:8080/",
          "height": 444
        },
        "id": "Ro02A6xXtQOD",
        "outputId": "ea8eb28f-daab-4432-961b-23cf0209ac5c"
      },
      "execution_count": 33,
      "outputs": [
        {
          "output_type": "display_data",
          "data": {
            "text/plain": [
              "<Figure size 600x500 with 1 Axes>"
            ],
            "image/png": "[encoded data removed]"
          },
          "metadata": {}
        }
      ]
    },
    {
      "cell_type": "code",
      "source": [
        "plt.subplots(figsize=(6,5),dpi=100)\n",
        "\n",
        "plt.pie(sample_10.value_counts(dropna=False),labels=sample_10.value_counts(dropna=False).index,autopct='%.2f%%')\n",
        "plt.title('Distribution of predicted marks for programs awarded 10 marks')\n",
        "plt.show()"
      ],
      "metadata": {
        "colab": {
          "base_uri": "https://localhost:8080/",
          "height": 444
        },
        "id": "WgCmtIIotW8a",
        "outputId": "c2696e95-cdd6-4825-d711-79d09739e88c"
      },
      "execution_count": 34,
      "outputs": [
        {
          "output_type": "display_data",
          "data": {
            "text/plain": [
              "<Figure size 600x500 with 1 Axes>"
            ],
            "image/png": "[encoded data removed]"
          },
          "metadata": {}
        }
      ]
    },
    {
      "cell_type": "code",
      "source": [
        "import matplotlib.pyplot as plt\n",
        "\n",
        "plt.scatter(y_test[:150], y_test_pred[:150], color='blue')\n",
        "plt.plot(y_test[:150], y_test[:150], color='red', linestyle='--')  # Plotting the diagonal line y = x for reference\n",
        "\n",
        "plt.xlabel=('Actual')\n",
        "plt.ylabel=('Predicted')\n",
        "plt.legend()\n",
        "plt.title('Actual vs. Predicted')\n",
        "\n",
        "plt.show()"
      ],
      "metadata": {
        "colab": {
          "base_uri": "https://localhost:8080/",
          "height": 489
        },
        "id": "6oaXOM4xk9SY",
        "outputId": "e5108a98-d18e-4925-a880-4ed7b3b16c13"
      },
      "execution_count": 37,
      "outputs": [
        {
          "output_type": "stream",
          "name": "stderr",
          "text": [
            "WARNING:matplotlib.legend:No artists with labels found to put in legend.  Note that artists whose label start with an underscore are ignored when legend() is called with no argument.\n"
          ]
        },
        {
          "output_type": "display_data",
          "data": {
            "text/plain": [
              "<Figure size 640x480 with 1 Axes>"
            ],
            "image/png": "[encoded data removed]"
          },
          "metadata": {}
        }
      ]
    }
  ]
}