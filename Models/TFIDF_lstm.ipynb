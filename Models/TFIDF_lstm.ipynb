{
  "nbformat": 4,
  "nbformat_minor": 0,
  "metadata": {
    "colab": {
      "provenance": []
    },
    "kernelspec": {
      "name": "python3",
      "display_name": "Python 3"
    },
    "language_info": {
      "name": "python"
    }
  },
  "cells": [
    {
      "cell_type": "code",
      "execution_count": 9,
      "metadata": {
        "id": "ziEoB7reLp2I"
      },
      "outputs": [],
      "source": [
        "import pandas as pd\n",
        "import numpy as np\n",
        "import tensorflow as tf\n",
        "from sklearn.model_selection import train_test_split\n",
        "from sklearn.feature_extraction.text import TfidfVectorizer\n",
        "from sklearn.metrics import mean_squared_error, mean_absolute_error, r2_score, mean_absolute_percentage_error\n",
        "from tensorflow.keras.models import Sequential\n",
        "from tensorflow.keras.layers import LSTM, Dense, Embedding, Dropout, Bidirectional\n",
        "from tensorflow.keras.optimizers import Adam\n",
        "from tensorflow.keras.callbacks import EarlyStopping\n"
      ]
    },
    {
      "cell_type": "code",
      "source": [
        "code = pd.read_excel(r\"/content/NNDL.xlsx\")\n",
        "code"
      ],
      "metadata": {
        "colab": {
          "base_uri": "https://localhost:8080/",
          "height": 1000
        },
        "id": "FgVf1rgETuCP",
        "outputId": "a5c52144-8572-4209-c087-1acc6b4b4899"
      },
      "execution_count": 10,
      "outputs": [
        {
          "output_type": "execute_result",
          "data": {
            "text/plain": [
              "                               Question  \\\n",
              "0           Largest among three numbers   \n",
              "1           Largest among three numbers   \n",
              "2           Largest among three numbers   \n",
              "3           Largest among three numbers   \n",
              "4           Largest among three numbers   \n",
              "..                                  ...   \n",
              "114  Calculate the roots of an equation   \n",
              "115  Calculate the roots of an equation   \n",
              "116  Calculate the roots of an equation   \n",
              "117  Calculate the roots of an equation   \n",
              "118  Calculate the roots of an equation   \n",
              "\n",
              "                                          Correct_Code  \\\n",
              "0    #include <stdio.h>\\n\\nint main() {\\n\\ndouble n...   \n",
              "1    #include <stdio.h>\\n\\nint main() {\\n\\ndouble n...   \n",
              "2    #include <stdio.h>\\n\\nint main() {\\n\\ndouble n...   \n",
              "3    #include <stdio.h>\\n\\nint main() {\\n\\ndouble n...   \n",
              "4    #include <stdio.h>\\n\\nint main() {\\n\\ndouble n...   \n",
              "..                                                 ...   \n",
              "114  #include<stdio.h>\\n#include<math.h>\\nint main(...   \n",
              "115  #include<stdio.h>\\n#include<math.h>\\nint main(...   \n",
              "116  #include<stdio.h>\\n#include<math.h>\\nint main(...   \n",
              "117  #include<stdio.h>\\n#include<math.h>\\nint main(...   \n",
              "118  #include<stdio.h>\\n#include<math.h>\\nint main(...   \n",
              "\n",
              "                                       Code_with_Error Type_of_Error  \\\n",
              "0    #include <stdio.h>\\n\\nint main() \\n\\ndouble n1...         1c,1e   \n",
              "1    #include <stdio.h>\\n\\nint main\\n\\ndouble n1, n...      1c,1e,1d   \n",
              "2    #include <stdio.h>\\n\\nint main() {\\n\\ndouble n...         1b,1e   \n",
              "3    #include <stdio.h>\\n\\nint main() {\\n\\ndouble n...            1e   \n",
              "4    #include <stdio.h>\\n\\nint main() {\\n\\ndouble n...            2b   \n",
              "..                                                 ...           ...   \n",
              "114  #include<stdio.h>\\n#include<math.h>\\nint main(...            2a   \n",
              "115  #include<stdio.h>\\n#include<math.h>\\nint mian(...         1a,1c   \n",
              "116  #include<stdio.h>\\n#include<math.h>\\nint main(...            3a   \n",
              "117  #include<stdio.h>\\n#include<math.h>\\nint min()...      1a,1e,2a   \n",
              "118  #include<stdio.h>\\n#include<math.h>\\nint mian(...            3a   \n",
              "\n",
              "     Number_of_Loops  Header_and_Main_Declaration  Incomprehensible_Code  \\\n",
              "0                  0                            2                    2.0   \n",
              "1                  0                            0                    2.0   \n",
              "2                  0                            2                    2.0   \n",
              "3                  0                            2                    2.0   \n",
              "4                  0                            2                    2.0   \n",
              "..               ...                          ...                    ...   \n",
              "114                0                            2                    2.0   \n",
              "115                0                            2                    2.0   \n",
              "116                0                            2                    2.0   \n",
              "117                0                            1                    1.0   \n",
              "118                0                            2                    2.0   \n",
              "\n",
              "     Comprehensible_Code_with_logical_errors  \\\n",
              "0                                          2   \n",
              "1                                          2   \n",
              "2                                          0   \n",
              "3                                          2   \n",
              "4                                          0   \n",
              "..                                       ...   \n",
              "114                                        1   \n",
              "115                                        2   \n",
              "116                                        2   \n",
              "117                                        1   \n",
              "118                                        1   \n",
              "\n",
              "     Comprehensible_code_with_syntax_errors  Correct_code_and_output  \\\n",
              "0                                         0                        0   \n",
              "1                                         0                        0   \n",
              "2                                         1                        0   \n",
              "3                                         1                        0   \n",
              "4                                         2                        0   \n",
              "..                                      ...                      ...   \n",
              "114                                       2                        2   \n",
              "115                                       0                        0   \n",
              "116                                       2                        2   \n",
              "117                                       0                        0   \n",
              "118                                       0                        0   \n",
              "\n",
              "     Total_marks  \n",
              "0              6  \n",
              "1              4  \n",
              "2              5  \n",
              "3              7  \n",
              "4              6  \n",
              "..           ...  \n",
              "114            9  \n",
              "115            6  \n",
              "116           10  \n",
              "117            3  \n",
              "118            5  \n",
              "\n",
              "[119 rows x 11 columns]"
            ],
            "text/html": [
              "\n",
              "  <div id=\"df-aeac370e-deb5-4080-a084-4ee9678c8a8d\">\n",
              "    <div class=\"colab-df-container\">\n",
              "      <div>\n",
              "<style scoped>\n",
              "    .dataframe tbody tr th:only-of-type {\n",
              "        vertical-align: middle;\n",
              "    }\n",
              "\n",
              "    .dataframe tbody tr th {\n",
              "        vertical-align: top;\n",
              "    }\n",
              "\n",
              "    .dataframe thead th {\n",
              "        text-align: right;\n",
              "    }\n",
              "</style>\n",
              "<table border=\"1\" class=\"dataframe\">\n",
              "  <thead>\n",
              "    <tr style=\"text-align: right;\">\n",
              "      <th></th>\n",
              "      <th>Question</th>\n",
              "      <th>Correct_Code</th>\n",
              "      <th>Code_with_Error</th>\n",
              "      <th>Type_of_Error</th>\n",
              "      <th>Number_of_Loops</th>\n",
              "      <th>Header_and_Main_Declaration</th>\n",
              "      <th>Incomprehensible_Code</th>\n",
              "      <th>Comprehensible_Code_with_logical_errors</th>\n",
              "      <th>Comprehensible_code_with_syntax_errors</th>\n",
              "      <th>Correct_code_and_output</th>\n",
              "      <th>Total_marks</th>\n",
              "    </tr>\n",
              "  </thead>\n",
              "  <tbody>\n",
              "    <tr>\n",
              "      <th>0</th>\n",
              "      <td>Largest among three numbers</td>\n",
              "      <td>#include &lt;stdio.h&gt;\\n\\nint main() {\\n\\ndouble n...</td>\n",
              "      <td>#include &lt;stdio.h&gt;\\n\\nint main() \\n\\ndouble n1...</td>\n",
              "      <td>1c,1e</td>\n",
              "      <td>0</td>\n",
              "      <td>2</td>\n",
              "      <td>2.0</td>\n",
              "      <td>2</td>\n",
              "      <td>0</td>\n",
              "      <td>0</td>\n",
              "      <td>6</td>\n",
              "    </tr>\n",
              "    <tr>\n",
              "      <th>1</th>\n",
              "      <td>Largest among three numbers</td>\n",
              "      <td>#include &lt;stdio.h&gt;\\n\\nint main() {\\n\\ndouble n...</td>\n",
              "      <td>#include &lt;stdio.h&gt;\\n\\nint main\\n\\ndouble n1, n...</td>\n",
              "      <td>1c,1e,1d</td>\n",
              "      <td>0</td>\n",
              "      <td>0</td>\n",
              "      <td>2.0</td>\n",
              "      <td>2</td>\n",
              "      <td>0</td>\n",
              "      <td>0</td>\n",
              "      <td>4</td>\n",
              "    </tr>\n",
              "    <tr>\n",
              "      <th>2</th>\n",
              "      <td>Largest among three numbers</td>\n",
              "      <td>#include &lt;stdio.h&gt;\\n\\nint main() {\\n\\ndouble n...</td>\n",
              "      <td>#include &lt;stdio.h&gt;\\n\\nint main() {\\n\\ndouble n...</td>\n",
              "      <td>1b,1e</td>\n",
              "      <td>0</td>\n",
              "      <td>2</td>\n",
              "      <td>2.0</td>\n",
              "      <td>0</td>\n",
              "      <td>1</td>\n",
              "      <td>0</td>\n",
              "      <td>5</td>\n",
              "    </tr>\n",
              "    <tr>\n",
              "      <th>3</th>\n",
              "      <td>Largest among three numbers</td>\n",
              "      <td>#include &lt;stdio.h&gt;\\n\\nint main() {\\n\\ndouble n...</td>\n",
              "      <td>#include &lt;stdio.h&gt;\\n\\nint main() {\\n\\ndouble n...</td>\n",
              "      <td>1e</td>\n",
              "      <td>0</td>\n",
              "      <td>2</td>\n",
              "      <td>2.0</td>\n",
              "      <td>2</td>\n",
              "      <td>1</td>\n",
              "      <td>0</td>\n",
              "      <td>7</td>\n",
              "    </tr>\n",
              "    <tr>\n",
              "      <th>4</th>\n",
              "      <td>Largest among three numbers</td>\n",
              "      <td>#include &lt;stdio.h&gt;\\n\\nint main() {\\n\\ndouble n...</td>\n",
              "      <td>#include &lt;stdio.h&gt;\\n\\nint main() {\\n\\ndouble n...</td>\n",
              "      <td>2b</td>\n",
              "      <td>0</td>\n",
              "      <td>2</td>\n",
              "      <td>2.0</td>\n",
              "      <td>0</td>\n",
              "      <td>2</td>\n",
              "      <td>0</td>\n",
              "      <td>6</td>\n",
              "    </tr>\n",
              "    <tr>\n",
              "      <th>...</th>\n",
              "      <td>...</td>\n",
              "      <td>...</td>\n",
              "      <td>...</td>\n",
              "      <td>...</td>\n",
              "      <td>...</td>\n",
              "      <td>...</td>\n",
              "      <td>...</td>\n",
              "      <td>...</td>\n",
              "      <td>...</td>\n",
              "      <td>...</td>\n",
              "      <td>...</td>\n",
              "    </tr>\n",
              "    <tr>\n",
              "      <th>114</th>\n",
              "      <td>Calculate the roots of an equation</td>\n",
              "      <td>#include&lt;stdio.h&gt;\\n#include&lt;math.h&gt;\\nint main(...</td>\n",
              "      <td>#include&lt;stdio.h&gt;\\n#include&lt;math.h&gt;\\nint main(...</td>\n",
              "      <td>2a</td>\n",
              "      <td>0</td>\n",
              "      <td>2</td>\n",
              "      <td>2.0</td>\n",
              "      <td>1</td>\n",
              "      <td>2</td>\n",
              "      <td>2</td>\n",
              "      <td>9</td>\n",
              "    </tr>\n",
              "    <tr>\n",
              "      <th>115</th>\n",
              "      <td>Calculate the roots of an equation</td>\n",
              "      <td>#include&lt;stdio.h&gt;\\n#include&lt;math.h&gt;\\nint main(...</td>\n",
              "      <td>#include&lt;stdio.h&gt;\\n#include&lt;math.h&gt;\\nint mian(...</td>\n",
              "      <td>1a,1c</td>\n",
              "      <td>0</td>\n",
              "      <td>2</td>\n",
              "      <td>2.0</td>\n",
              "      <td>2</td>\n",
              "      <td>0</td>\n",
              "      <td>0</td>\n",
              "      <td>6</td>\n",
              "    </tr>\n",
              "    <tr>\n",
              "      <th>116</th>\n",
              "      <td>Calculate the roots of an equation</td>\n",
              "      <td>#include&lt;stdio.h&gt;\\n#include&lt;math.h&gt;\\nint main(...</td>\n",
              "      <td>#include&lt;stdio.h&gt;\\n#include&lt;math.h&gt;\\nint main(...</td>\n",
              "      <td>3a</td>\n",
              "      <td>0</td>\n",
              "      <td>2</td>\n",
              "      <td>2.0</td>\n",
              "      <td>2</td>\n",
              "      <td>2</td>\n",
              "      <td>2</td>\n",
              "      <td>10</td>\n",
              "    </tr>\n",
              "    <tr>\n",
              "      <th>117</th>\n",
              "      <td>Calculate the roots of an equation</td>\n",
              "      <td>#include&lt;stdio.h&gt;\\n#include&lt;math.h&gt;\\nint main(...</td>\n",
              "      <td>#include&lt;stdio.h&gt;\\n#include&lt;math.h&gt;\\nint min()...</td>\n",
              "      <td>1a,1e,2a</td>\n",
              "      <td>0</td>\n",
              "      <td>1</td>\n",
              "      <td>1.0</td>\n",
              "      <td>1</td>\n",
              "      <td>0</td>\n",
              "      <td>0</td>\n",
              "      <td>3</td>\n",
              "    </tr>\n",
              "    <tr>\n",
              "      <th>118</th>\n",
              "      <td>Calculate the roots of an equation</td>\n",
              "      <td>#include&lt;stdio.h&gt;\\n#include&lt;math.h&gt;\\nint main(...</td>\n",
              "      <td>#include&lt;stdio.h&gt;\\n#include&lt;math.h&gt;\\nint mian(...</td>\n",
              "      <td>3a</td>\n",
              "      <td>0</td>\n",
              "      <td>2</td>\n",
              "      <td>2.0</td>\n",
              "      <td>1</td>\n",
              "      <td>0</td>\n",
              "      <td>0</td>\n",
              "      <td>5</td>\n",
              "    </tr>\n",
              "  </tbody>\n",
              "</table>\n",
              "<p>119 rows × 11 columns</p>\n",
              "</div>\n",
              "      <button class=\"colab-df-convert\" onclick=\"convertToInteractive('df-aeac370e-deb5-4080-a084-4ee9678c8a8d')\"\n",
              "              title=\"Convert this dataframe to an interactive table.\"\n",
              "              style=\"display:none;\">\n",
              "        \n",
              "  <svg xmlns=\"http://www.w3.org/2000/svg\" height=\"24px\"viewBox=\"0 0 24 24\"\n",
              "       width=\"24px\">\n",
              "    <path d=\"M0 0h24v24H0V0z\" fill=\"none\"/>\n",
              "    <path d=\"M18.56 5.44l.94 2.06.94-2.06 2.06-.94-2.06-.94-.94-2.06-.94 2.06-2.06.94zm-11 1L8.5 8.5l.94-2.06 2.06-.94-2.06-.94L8.5 2.5l-.94 2.06-2.06.94zm10 10l.94 2.06.94-2.06 2.06-.94-2.06-.94-.94-2.06-.94 2.06-2.06.94z\"/><path d=\"M17.41 7.96l-1.37-1.37c-.4-.4-.92-.59-1.43-.59-.52 0-1.04.2-1.43.59L10.3 9.45l-7.72 7.72c-.78.78-.78 2.05 0 2.83L4 21.41c.39.39.9.59 1.41.59.51 0 1.02-.2 1.41-.59l7.78-7.78 2.81-2.81c.8-.78.8-2.07 0-2.86zM5.41 20L4 18.59l7.72-7.72 1.47 1.35L5.41 20z\"/>\n",
              "  </svg>\n",
              "      </button>\n",
              "      \n",
              "  <style>\n",
              "    .colab-df-container {\n",
              "      display:flex;\n",
              "      flex-wrap:wrap;\n",
              "      gap: 12px;\n",
              "    }\n",
              "\n",
              "    .colab-df-convert {\n",
              "      background-color: #E8F0FE;\n",
              "      border: none;\n",
              "      border-radius: 50%;\n",
              "      cursor: pointer;\n",
              "      display: none;\n",
              "      fill: #1967D2;\n",
              "      height: 32px;\n",
              "      padding: 0 0 0 0;\n",
              "      width: 32px;\n",
              "    }\n",
              "\n",
              "    .colab-df-convert:hover {\n",
              "      background-color: #E2EBFA;\n",
              "      box-shadow: 0px 1px 2px rgba(60, 64, 67, 0.3), 0px 1px 3px 1px rgba(60, 64, 67, 0.15);\n",
              "      fill: #174EA6;\n",
              "    }\n",
              "\n",
              "    [theme=dark] .colab-df-convert {\n",
              "      background-color: #3B4455;\n",
              "      fill: #D2E3FC;\n",
              "    }\n",
              "\n",
              "    [theme=dark] .colab-df-convert:hover {\n",
              "      background-color: #434B5C;\n",
              "      box-shadow: 0px 1px 3px 1px rgba(0, 0, 0, 0.15);\n",
              "      filter: drop-shadow(0px 1px 2px rgba(0, 0, 0, 0.3));\n",
              "      fill: #FFFFFF;\n",
              "    }\n",
              "  </style>\n",
              "\n",
              "      <script>\n",
              "        const buttonEl =\n",
              "          document.querySelector('#df-aeac370e-deb5-4080-a084-4ee9678c8a8d button.colab-df-convert');\n",
              "        buttonEl.style.display =\n",
              "          google.colab.kernel.accessAllowed ? 'block' : 'none';\n",
              "\n",
              "        async function convertToInteractive(key) {\n",
              "          const element = document.querySelector('#df-aeac370e-deb5-4080-a084-4ee9678c8a8d');\n",
              "          const dataTable =\n",
              "            await google.colab.kernel.invokeFunction('convertToInteractive',\n",
              "                                                     [key], {});\n",
              "          if (!dataTable) return;\n",
              "\n",
              "          const docLinkHtml = 'Like what you see? Visit the ' +\n",
              "            '<a target=\"_blank\" href=https://colab.research.google.com/notebooks/data_table.ipynb>data table notebook</a>'\n",
              "            + ' to learn more about interactive tables.';\n",
              "          element.innerHTML = '';\n",
              "          dataTable['output_type'] = 'display_data';\n",
              "          await google.colab.output.renderOutput(dataTable, element);\n",
              "          const docLink = document.createElement('div');\n",
              "          docLink.innerHTML = docLinkHtml;\n",
              "          element.appendChild(docLink);\n",
              "        }\n",
              "      </script>\n",
              "    </div>\n",
              "  </div>\n",
              "  "
            ]
          },
          "metadata": {},
          "execution_count": 10
        }
      ]
    },
    {
      "cell_type": "code",
      "source": [
        "# Merge columns\n",
        "merged_data = code['Question'] + ' ' + code['Code_with_Error']\n",
        "merged_data"
      ],
      "metadata": {
        "colab": {
          "base_uri": "https://localhost:8080/"
        },
        "id": "zNkcGgHbWqCx",
        "outputId": "c00684cf-02f2-41d3-817d-996602df8a06"
      },
      "execution_count": 11,
      "outputs": [
        {
          "output_type": "execute_result",
          "data": {
            "text/plain": [
              "0      Largest among three numbers #include <stdio.h>...\n",
              "1      Largest among three numbers #include <stdio.h>...\n",
              "2      Largest among three numbers #include <stdio.h>...\n",
              "3      Largest among three numbers #include <stdio.h>...\n",
              "4      Largest among three numbers #include <stdio.h>...\n",
              "                             ...                        \n",
              "114    Calculate the roots of an equation #include<st...\n",
              "115    Calculate the roots of an equation #include<st...\n",
              "116    Calculate the roots of an equation #include<st...\n",
              "117    Calculate the roots of an equation #include<st...\n",
              "118    Calculate the roots of an equation #include<st...\n",
              "Length: 119, dtype: object"
            ]
          },
          "metadata": {},
          "execution_count": 11
        }
      ]
    },
    {
      "cell_type": "code",
      "source": [],
      "metadata": {
        "id": "VARd-3tjbEEx"
      },
      "execution_count": 11,
      "outputs": []
    },
    {
      "cell_type": "code",
      "source": [
        "# Fill missing values with empty strings\n",
        "merged_data = merged_data.fillna('')"
      ],
      "metadata": {
        "id": "fXjqU1msXk44"
      },
      "execution_count": 12,
      "outputs": []
    },
    {
      "cell_type": "code",
      "source": [
        "# Initialize and fit the TF-IDF vectorizer\n",
        "vectorizer = TfidfVectorizer()\n",
        "vectorized_data = vectorizer.fit_transform(merged_data).toarray()"
      ],
      "metadata": {
        "id": "mYR5fb64WtAU"
      },
      "execution_count": 13,
      "outputs": []
    },
    {
      "cell_type": "code",
      "source": [
        "X_train, X_test, y_train, y_test = train_test_split(vectorized_data, code['Total_marks'], test_size=0.25, random_state=42)\n",
        "X_train, X_val, y_train, y_val = train_test_split(X_train, y_train, test_size=0.25, random_state=42)"
      ],
      "metadata": {
        "id": "OqMERc6QWx4F"
      },
      "execution_count": 14,
      "outputs": []
    },
    {
      "cell_type": "code",
      "source": [
        "# Define the LSTM model\n",
        "model = Sequential([\n",
        "    Embedding(len(vectorizer.vocabulary_), 100, input_length=X_train.shape[1]),\n",
        "    LSTM(units=128, return_sequences=True),\n",
        "    Dropout(0.2),\n",
        "    LSTM(units=128),\n",
        "    Dropout(0.2),\n",
        "    Dense(64, activation='relu'),\n",
        "    Dense(1)\n",
        "])"
      ],
      "metadata": {
        "id": "lgzplM87W8mx"
      },
      "execution_count": 27,
      "outputs": []
    },
    {
      "cell_type": "code",
      "source": [
        "model.compile(loss='mean_squared_error', optimizer=Adam(lr=0.001))"
      ],
      "metadata": {
        "id": "irfwas1YW9MD",
        "colab": {
          "base_uri": "https://localhost:8080/"
        },
        "outputId": "583f533a-cd91-432b-b2c7-ae5374e30e4f"
      },
      "execution_count": 28,
      "outputs": [
        {
          "output_type": "stream",
          "name": "stderr",
          "text": [
            "WARNING:absl:`lr` is deprecated in Keras optimizer, please use `learning_rate` or use the legacy optimizer, e.g.,tf.keras.optimizers.legacy.Adam.\n"
          ]
        }
      ]
    },
    {
      "cell_type": "code",
      "source": [
        "# Define early stopping\n",
        "early_stopping = EarlyStopping(monitor='val_loss', patience=5)\n",
        "\n",
        "# Train the model\n",
        "model.fit(X_train, y_train, validation_data=(X_val, y_val), epochs=50, batch_size=32, callbacks=[early_stopping])\n"
      ],
      "metadata": {
        "id": "OPZAMeGgXAEA",
        "colab": {
          "base_uri": "https://localhost:8080/"
        },
        "outputId": "6195dc83-2067-4b8a-f86e-f3065dfa1efa"
      },
      "execution_count": 29,
      "outputs": [
        {
          "output_type": "stream",
          "name": "stdout",
          "text": [
            "Epoch 1/50\n",
            "3/3 [==============================] - 7s 854ms/step - loss: 50.9345 - val_loss: 46.3042\n",
            "Epoch 2/50\n",
            "3/3 [==============================] - 1s 405ms/step - loss: 47.6042 - val_loss: 35.6219\n",
            "Epoch 3/50\n",
            "3/3 [==============================] - 1s 389ms/step - loss: 31.7405 - val_loss: 11.0280\n",
            "Epoch 4/50\n",
            "3/3 [==============================] - 2s 685ms/step - loss: 9.6197 - val_loss: 7.5734\n",
            "Epoch 5/50\n",
            "3/3 [==============================] - 2s 661ms/step - loss: 5.7210 - val_loss: 8.9227\n",
            "Epoch 6/50\n",
            "3/3 [==============================] - 1s 436ms/step - loss: 6.8796 - val_loss: 7.9366\n",
            "Epoch 7/50\n",
            "3/3 [==============================] - 1s 419ms/step - loss: 5.7932 - val_loss: 7.4824\n",
            "Epoch 8/50\n",
            "3/3 [==============================] - 1s 404ms/step - loss: 5.7537 - val_loss: 7.4632\n",
            "Epoch 9/50\n",
            "3/3 [==============================] - 1s 423ms/step - loss: 5.9409 - val_loss: 7.4976\n",
            "Epoch 10/50\n",
            "3/3 [==============================] - 1s 428ms/step - loss: 5.2755 - val_loss: 7.5252\n",
            "Epoch 11/50\n",
            "3/3 [==============================] - 2s 654ms/step - loss: 5.5321 - val_loss: 7.6143\n",
            "Epoch 12/50\n",
            "3/3 [==============================] - 1s 427ms/step - loss: 5.7072 - val_loss: 7.7921\n",
            "Epoch 13/50\n",
            "3/3 [==============================] - 2s 725ms/step - loss: 5.7536 - val_loss: 7.9914\n"
          ]
        },
        {
          "output_type": "execute_result",
          "data": {
            "text/plain": [
              "<keras.callbacks.History at 0x7f967fca41c0>"
            ]
          },
          "metadata": {},
          "execution_count": 29
        }
      ]
    },
    {
      "cell_type": "code",
      "source": [
        "y_train_pred = model.predict(X_train)\n",
        "y_test_pred = model.predict(X_test)\n"
      ],
      "metadata": {
        "colab": {
          "base_uri": "https://localhost:8080/"
        },
        "id": "C7Gu4bw9XEJg",
        "outputId": "6f45ee5a-dc6a-4bf5-fb94-1541d36d9c78"
      },
      "execution_count": 30,
      "outputs": [
        {
          "output_type": "stream",
          "name": "stdout",
          "text": [
            "3/3 [==============================] - 1s 90ms/step\n",
            "1/1 [==============================] - 0s 162ms/step\n"
          ]
        }
      ]
    },
    {
      "cell_type": "code",
      "source": [
        "train_rmse = np.sqrt(mean_squared_error(y_train, y_train_pred))\n",
        "train_mae = mean_absolute_error(y_train, y_train_pred)\n",
        "train_mape = mean_absolute_percentage_error(y_train, y_train_pred)\n",
        "train_r2 = r2_score(y_train, y_train_pred)\n",
        "\n",
        "test_rmse = np.sqrt(mean_squared_error(y_test, y_test_pred))\n",
        "test_mae = mean_absolute_error(y_test, y_test_pred)\n",
        "test_mape = mean_absolute_percentage_error(y_test, y_test_pred)\n",
        "test_r2 = r2_score(y_test, y_test_pred)\n"
      ],
      "metadata": {
        "id": "sU8DdLLAXGLw"
      },
      "execution_count": 31,
      "outputs": []
    },
    {
      "cell_type": "code",
      "source": [
        "# Print the evaluation metrics\n",
        "print(f\"Train RMSE: {train_rmse:.2f}\")\n",
        "print(f\"Train MAE: {train_mae:.2f}\")\n",
        "print(f\"Train MAPE: {train_mape:.2f}\")\n",
        "print(f\"Train R2: {train_r2:.2f}\")\n",
        "\n",
        "print(f\"Test RMSE: {test_rmse:.2f}\")\n",
        "print(f\"Test MAE: {test_mae:.2f}\")\n",
        "print(f\"Test MAPE: {test_mape:.2f}\")\n",
        "print(f\"Test R2: {test_r2:.2f}\")"
      ],
      "metadata": {
        "colab": {
          "base_uri": "https://localhost:8080/"
        },
        "id": "sb-cLYi9XIUF",
        "outputId": "6b86c4b2-f4a0-497c-8de1-52ee3b6679f0"
      },
      "execution_count": 32,
      "outputs": [
        {
          "output_type": "stream",
          "name": "stdout",
          "text": [
            "Train RMSE: 2.39\n",
            "Train MAE: 1.98\n",
            "Train MAPE: 0.46\n",
            "Train R2: -0.03\n",
            "Test RMSE: 2.31\n",
            "Test MAE: 1.98\n",
            "Test MAPE: 0.41\n",
            "Test R2: -0.10\n"
          ]
        }
      ]
    },
    {
      "cell_type": "code",
      "source": [],
      "metadata": {
        "id": "HHDUsSlM-Ggn"
      },
      "execution_count": null,
      "outputs": []
    }
  ]
}